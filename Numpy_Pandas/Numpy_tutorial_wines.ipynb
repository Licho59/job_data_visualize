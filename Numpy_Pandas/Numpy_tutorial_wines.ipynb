{
 "cells": [
  {
   "cell_type": "code",
   "execution_count": 1,
   "metadata": {},
   "outputs": [
    {
     "name": "stdout",
     "output_type": "stream",
     "text": [
      "[['fixed acidity;\"volatile acidity\";\"citric acid\";\"residual sugar\";\"chlorides\";\"free sulfur dioxide\";\"total sulfur dioxide\";\"density\";\"pH\";\"sulphates\";\"alcohol\";\"quality\"'], ['7.4', '0.7', '0', '1.9', '0.076', '11', '34', '0.9978', '3.51', '0.56', '9.4', '5'], ['7.8', '0.88', '0', '2.6', '0.098', '25', '67', '0.9968', '3.2', '0.68', '9.8', '5'], ['7.8', '0.76', '0.04', '2.3', '0.092', '15', '54', '0.997', '3.26', '0.65', '9.8', '5'], ['11.2', '0.28', '0.56', '1.9', '0.075', '17', '60', '0.998', '3.16', '0.58', '9.8', '6']]\n"
     ]
    }
   ],
   "source": [
    "# working with the data using Python and csv package\n",
    "#(to read and split up all the content)\n",
    "import csv\n",
    "\n",
    "#'~.csv' loaded from UCI ML repository; \n",
    "with open('winequality-red.csv', 'r') as f:\n",
    "    wines = list(csv.reader(f, delimiter=';')) # 'reader' splits up the data according the given delimiter\n",
    "            # calling the list type to get all ther rows from the file\n",
    "print(wines[:5])"
   ]
  },
  {
   "cell_type": "code",
   "execution_count": 2,
   "metadata": {},
   "outputs": [
    {
     "data": {
      "text/plain": [
       "5.6"
      ]
     },
     "execution_count": 2,
     "metadata": {},
     "output_type": "execute_result"
    }
   ],
   "source": [
    "# finding the average quality of wines (last column)\n",
    "qualities = [float(row[-1]) for row in wines[1:]]\n",
    "#qualities\n",
    "qual_mean = sum(qualities)/len(qualities)\n",
    "round(qual_mean, 1)"
   ]
  },
  {
   "cell_type": "code",
   "execution_count": 3,
   "metadata": {},
   "outputs": [
    {
     "data": {
      "text/plain": [
       "array([[ 7.4   ,  0.7   ,  0.    ,  1.9   ,  0.076 , 11.    , 34.    ,\n",
       "         0.9978,  3.51  ,  0.56  ,  9.4   ,  5.    ],\n",
       "       [ 7.8   ,  0.88  ,  0.    ,  2.6   ,  0.098 , 25.    , 67.    ,\n",
       "         0.9968,  3.2   ,  0.68  ,  9.8   ,  5.    ]])"
      ]
     },
     "execution_count": 3,
     "metadata": {},
     "output_type": "execute_result"
    },
    {
     "data": {
      "text/plain": [
       "(1599, 12)"
      ]
     },
     "execution_count": 3,
     "metadata": {},
     "output_type": "execute_result"
    }
   ],
   "source": [
    "# computing with that data is much easier and flexible wiht Numpy\n",
    "import numpy as np\n",
    "\n",
    "wines = np.array(wines[1:], dtype='float')\n",
    "wines[:2]\n",
    "wines.shape"
   ]
  },
  {
   "cell_type": "code",
   "execution_count": 4,
   "metadata": {},
   "outputs": [],
   "source": [
    "np.set_printoptions(precision=3, suppress=True)"
   ]
  },
  {
   "cell_type": "code",
   "execution_count": 5,
   "metadata": {},
   "outputs": [
    {
     "data": {
      "text/plain": [
       "array([[0., 0., 0., 0.],\n",
       "       [0., 0., 0., 0.],\n",
       "       [0., 0., 0., 0.]])"
      ]
     },
     "execution_count": 5,
     "metadata": {},
     "output_type": "execute_result"
    },
    {
     "data": {
      "text/plain": [
       "array([[0.263, 0.176, 0.96 , 0.007],\n",
       "       [0.266, 0.879, 0.978, 0.675],\n",
       "       [0.651, 0.55 , 0.952, 0.907]])"
      ]
     },
     "execution_count": 5,
     "metadata": {},
     "output_type": "execute_result"
    }
   ],
   "source": [
    "# another way of building the arrays\n",
    "empty_array = np.zeros((3,4))\n",
    "empty_array\n",
    "random_array = np.random.random((3,4))\n",
    "random_array"
   ]
  },
  {
   "cell_type": "code",
   "execution_count": 6,
   "metadata": {},
   "outputs": [
    {
     "data": {
      "text/plain": [
       "array([[ 7.4  ,  0.7  ,  0.   ,  1.9  ,  0.076, 11.   , 34.   ,  0.998,\n",
       "         3.51 ,  0.56 ,  9.4  ,  5.   ]])"
      ]
     },
     "execution_count": 6,
     "metadata": {},
     "output_type": "execute_result"
    }
   ],
   "source": [
    "# using numpy to read in files\n",
    "wines = np.genfromtxt('winequality-red.csv', delimiter=';', skip_header=1)\n",
    "wines[:1]"
   ]
  },
  {
   "cell_type": "code",
   "execution_count": 7,
   "metadata": {},
   "outputs": [
    {
     "data": {
      "text/plain": [
       "2.3"
      ]
     },
     "execution_count": 7,
     "metadata": {},
     "output_type": "execute_result"
    }
   ],
   "source": [
    "wines[2,3]"
   ]
  },
  {
   "cell_type": "code",
   "execution_count": 8,
   "metadata": {},
   "outputs": [
    {
     "data": {
      "text/plain": [
       "array([1.9, 2.6, 2.3])"
      ]
     },
     "execution_count": 8,
     "metadata": {},
     "output_type": "execute_result"
    }
   ],
   "source": [
    "wines[:3,3]"
   ]
  },
  {
   "cell_type": "code",
   "execution_count": 9,
   "metadata": {},
   "outputs": [
    {
     "data": {
      "text/plain": [
       "array([1.9, 2.6, 2.3, ..., 2.3, 2. , 3.6])"
      ]
     },
     "execution_count": 9,
     "metadata": {},
     "output_type": "execute_result"
    }
   ],
   "source": [
    "wines[:,3]"
   ]
  },
  {
   "cell_type": "code",
   "execution_count": 10,
   "metadata": {},
   "outputs": [
    {
     "data": {
      "text/plain": [
       "array([11.2  ,  0.28 ,  0.56 ,  1.9  ,  0.075, 17.   , 60.   ,  0.998,\n",
       "        3.16 ,  0.58 ,  9.8  ,  6.   ])"
      ]
     },
     "execution_count": 10,
     "metadata": {},
     "output_type": "execute_result"
    }
   ],
   "source": [
    "wines[3,:]"
   ]
  },
  {
   "cell_type": "code",
   "execution_count": 11,
   "metadata": {},
   "outputs": [
    {
     "data": {
      "text/plain": [
       "array([[ 7.4  ,  0.7  ,  0.   , ...,  0.56 ,  9.4  ,  5.   ],\n",
       "       [ 7.8  ,  0.88 ,  0.   , ...,  0.68 ,  9.8  ,  5.   ],\n",
       "       [ 7.8  ,  0.76 ,  0.04 , ...,  0.65 ,  9.8  ,  5.   ],\n",
       "       ...,\n",
       "       [ 6.3  ,  0.51 ,  0.13 , ...,  0.75 , 11.   ,  6.   ],\n",
       "       [ 5.9  ,  0.645,  0.12 , ...,  0.71 , 10.2  ,  5.   ],\n",
       "       [ 6.   ,  0.31 ,  0.47 , ...,  0.66 , 11.   ,  6.   ]])"
      ]
     },
     "execution_count": 11,
     "metadata": {},
     "output_type": "execute_result"
    }
   ],
   "source": [
    "wines[::] # or wines[:,:]"
   ]
  },
  {
   "cell_type": "code",
   "execution_count": 12,
   "metadata": {},
   "outputs": [
    {
     "data": {
      "text/plain": [
       "array([40.   ,  0.7  ,  0.   ,  1.9  ,  0.076, 11.   , 34.   ,  0.998,\n",
       "        3.51 ,  0.56 ,  9.4  ,  5.   ])"
      ]
     },
     "execution_count": 12,
     "metadata": {},
     "output_type": "execute_result"
    },
    {
     "data": {
      "text/plain": [
       "array([ 7.4  ,  0.7  ,  0.   ,  1.9  ,  0.076, 11.   , 34.   ,  0.998,\n",
       "        3.51 ,  0.56 ,  9.4  ,  5.   ])"
      ]
     },
     "execution_count": 12,
     "metadata": {},
     "output_type": "execute_result"
    }
   ],
   "source": [
    "wines[0,0] = 40; wines[0] # the same for all columns \n",
    "wines[0,0] = 7.4; wines[0]"
   ]
  },
  {
   "cell_type": "code",
   "execution_count": 13,
   "metadata": {},
   "outputs": [
    {
     "name": "stdout",
     "output_type": "stream",
     "text": [
      "[11.2    0.28   0.56   1.9    0.075 17.    60.     0.998  3.16   0.58\n",
      "  9.8    6.   ]\n"
     ]
    },
    {
     "data": {
      "text/plain": [
       "array([11.2  ,  0.28 ,  0.56 ,  1.9  ,  0.075, 17.   , 60.   ,  0.998,\n",
       "        3.16 ,  0.58 ,  9.8  ,  6.   ])"
      ]
     },
     "execution_count": 13,
     "metadata": {},
     "output_type": "execute_result"
    },
    {
     "data": {
      "text/plain": [
       "(12,)"
      ]
     },
     "execution_count": 13,
     "metadata": {},
     "output_type": "execute_result"
    }
   ],
   "source": [
    "third_wine = wines[3,:]; print(third_wine) # form of list\n",
    "third_wine # form of 1D-array\n",
    "third_wine.shape"
   ]
  },
  {
   "cell_type": "code",
   "execution_count": 14,
   "metadata": {},
   "outputs": [
    {
     "data": {
      "text/plain": [
       "0.28"
      ]
     },
     "execution_count": 14,
     "metadata": {},
     "output_type": "execute_result"
    }
   ],
   "source": [
    "third_wine[1]"
   ]
  },
  {
   "cell_type": "code",
   "execution_count": 15,
   "metadata": {},
   "outputs": [
    {
     "data": {
      "text/plain": [
       "array([0.165, 0.863, 0.818])"
      ]
     },
     "execution_count": 15,
     "metadata": {},
     "output_type": "execute_result"
    }
   ],
   "source": [
    "np.random.rand(3)"
   ]
  },
  {
   "cell_type": "code",
   "execution_count": 16,
   "metadata": {},
   "outputs": [
    {
     "data": {
      "text/plain": [
       "dtype('float64')"
      ]
     },
     "execution_count": 16,
     "metadata": {},
     "output_type": "execute_result"
    }
   ],
   "source": [
    "wines.dtype # numpy accepts only element of single data type\n",
    "    # suffix like 64 indicates how many bits of memory it takes up"
   ]
  },
  {
   "cell_type": "code",
   "execution_count": 17,
   "metadata": {},
   "outputs": [
    {
     "data": {
      "text/plain": [
       "array([[ 7,  0,  0, ...,  0,  9,  5],\n",
       "       [ 7,  0,  0, ...,  0,  9,  5],\n",
       "       [ 7,  0,  0, ...,  0,  9,  5],\n",
       "       ...,\n",
       "       [ 6,  0,  0, ...,  0, 11,  6],\n",
       "       [ 5,  0,  0, ...,  0, 10,  5],\n",
       "       [ 6,  0,  0, ...,  0, 11,  6]])"
      ]
     },
     "execution_count": 17,
     "metadata": {},
     "output_type": "execute_result"
    },
    {
     "data": {
      "text/plain": [
       "array([[ 7.4  ,  0.7  ,  0.   , ...,  0.56 ,  9.4  ,  5.   ],\n",
       "       [ 7.8  ,  0.88 ,  0.   , ...,  0.68 ,  9.8  ,  5.   ],\n",
       "       [ 7.8  ,  0.76 ,  0.04 , ...,  0.65 ,  9.8  ,  5.   ],\n",
       "       ...,\n",
       "       [ 6.3  ,  0.51 ,  0.13 , ...,  0.75 , 11.   ,  6.   ],\n",
       "       [ 5.9  ,  0.645,  0.12 , ...,  0.71 , 10.2  ,  5.   ],\n",
       "       [ 6.   ,  0.31 ,  0.47 , ...,  0.66 , 11.   ,  6.   ]])"
      ]
     },
     "execution_count": 17,
     "metadata": {},
     "output_type": "execute_result"
    },
    {
     "data": {
      "text/plain": [
       "dtype('float64')"
      ]
     },
     "execution_count": 17,
     "metadata": {},
     "output_type": "execute_result"
    }
   ],
   "source": [
    "# converting data types with 'astype()' function\n",
    "wines.astype(int)\n",
    "wines.astype(float) # returning conversion\n",
    "wines.dtype"
   ]
  },
  {
   "cell_type": "code",
   "execution_count": 18,
   "metadata": {},
   "outputs": [
    {
     "data": {
      "text/plain": [
       "'int64'"
      ]
     },
     "execution_count": 18,
     "metadata": {},
     "output_type": "execute_result"
    }
   ],
   "source": [
    "# checking the name property of the dtype\n",
    "int_wines = wines.astype('int64')\n",
    "int_wines.dtype.name"
   ]
  },
  {
   "cell_type": "code",
   "execution_count": 19,
   "metadata": {},
   "outputs": [
    {
     "data": {
      "text/plain": [
       "array([15., 15., 15., ..., 16., 15., 16.])"
      ]
     },
     "execution_count": 19,
     "metadata": {},
     "output_type": "execute_result"
    }
   ],
   "source": [
    "# Numpy mathematical operations like(+, -, *, /, ^)\n",
    "wines[:,11] + 10 # that operation does not change the 11th column\n",
    "\n",
    "# like wines[:,11] += 10"
   ]
  },
  {
   "cell_type": "code",
   "execution_count": 20,
   "metadata": {},
   "outputs": [
    {
     "data": {
      "text/plain": [
       "array([ 7.4  ,  0.7  ,  0.   ,  1.9  ,  0.076, 11.   , 34.   ,  0.998,\n",
       "        3.51 ,  0.56 ,  9.4  ,  5.   ])"
      ]
     },
     "execution_count": 20,
     "metadata": {},
     "output_type": "execute_result"
    }
   ],
   "source": [
    "wines[0]"
   ]
  },
  {
   "cell_type": "code",
   "execution_count": 21,
   "metadata": {},
   "outputs": [
    {
     "data": {
      "text/plain": [
       "array([10., 10., 10., ..., 12., 10., 12.])"
      ]
     },
     "execution_count": 21,
     "metadata": {},
     "output_type": "execute_result"
    }
   ],
   "source": [
    "# multiple array math\n",
    "wines[:,11] + wines[:,11] # it is equivalent to wines[:,11]*2"
   ]
  },
  {
   "cell_type": "code",
   "execution_count": 22,
   "metadata": {},
   "outputs": [
    {
     "data": {
      "text/plain": [
       "array([47., 49., 49., ..., 66., 51., 66.])"
      ]
     },
     "execution_count": 22,
     "metadata": {},
     "output_type": "execute_result"
    },
    {
     "name": "stdout",
     "output_type": "stream",
     "text": [
      "112.0 (array([ 588, 1269], dtype=int32),)\n"
     ]
    }
   ],
   "source": [
    "# multplying array columns to learn more about their connected values\n",
    "new_val = wines[:, 10] * wines[:, 11] # alcohol amount times quality\n",
    "new_val\n",
    "print(np.max(new_val), np.where(new_val == np.max(new_val)))"
   ]
  },
  {
   "cell_type": "code",
   "execution_count": 23,
   "metadata": {},
   "outputs": [
    {
     "data": {
      "text/plain": [
       "((1599, 12), (2,))"
      ]
     },
     "execution_count": 23,
     "metadata": {},
     "output_type": "execute_result"
    }
   ],
   "source": [
    "# Broadcasting - numpy checks compatibility by trying \n",
    "        # to match up elements before making math\n",
    "        \n",
    "# The last dimension is compared:\n",
    "    # if the dimension lengths are equal or one is length of 1 - OK\n",
    "    # if the dim lengths aren't equal and none is lenght of 1 - Error\n",
    "# Continue checking dimensions until the shortes array is out of dimensions\n",
    "# wines* np.array([1,2]) # error because no matching trailing dimension\n",
    "wines.shape, np.array([1,2]).shape"
   ]
  },
  {
   "cell_type": "code",
   "execution_count": 24,
   "metadata": {},
   "outputs": [
    {
     "data": {
      "text/plain": [
       "array([[5, 7],\n",
       "       [7, 9]])"
      ]
     },
     "execution_count": 24,
     "metadata": {},
     "output_type": "execute_result"
    }
   ],
   "source": [
    "# arrays which match can work math operations\n",
    "array_one = np.array([[1,2],[3,4]])\n",
    "array_two = np.array([4,5])\n",
    "array_one + array_two"
   ]
  },
  {
   "cell_type": "code",
   "execution_count": 25,
   "metadata": {},
   "outputs": [
    {
     "data": {
      "text/plain": [
       "array([[ 7.616,  0.76 ,  0.17 , ...,  1.43 ,  9.999,  5.98 ],\n",
       "       [ 8.016,  0.94 ,  0.17 , ...,  1.55 , 10.399,  5.98 ],\n",
       "       [ 8.016,  0.82 ,  0.21 , ...,  1.52 , 10.399,  5.98 ],\n",
       "       ...,\n",
       "       [ 6.516,  0.57 ,  0.3  , ...,  1.62 , 11.599,  6.98 ],\n",
       "       [ 6.116,  0.705,  0.29 , ...,  1.58 , 10.799,  5.98 ],\n",
       "       [ 6.216,  0.37 ,  0.64 , ...,  1.53 , 11.599,  6.98 ]])"
      ]
     },
     "execution_count": 25,
     "metadata": {},
     "output_type": "execute_result"
    }
   ],
   "source": [
    "# example with wine data\n",
    "rand_array = np.random.rand(12)\n",
    "wines + rand_array # all data for particular colums has been\n",
    "    # added by proper values from rand_array"
   ]
  },
  {
   "cell_type": "code",
   "execution_count": 26,
   "metadata": {},
   "outputs": [
    {
     "data": {
      "text/plain": [
       "9012.0"
      ]
     },
     "execution_count": 26,
     "metadata": {},
     "output_type": "execute_result"
    },
    {
     "data": {
      "text/plain": [
       "array([13303.1  ,   843.985,   433.29 ,  4059.55 ,   139.859, 25384.   ,\n",
       "       74302.   ,  1593.798,  5294.47 ,  1052.38 , 16666.35 ,  9012.   ])"
      ]
     },
     "execution_count": 26,
     "metadata": {},
     "output_type": "execute_result"
    },
    {
     "data": {
      "text/plain": [
       "array([ 74.544, 123.055,  99.699, ..., 100.482, 105.215,  92.492])"
      ]
     },
     "execution_count": 26,
     "metadata": {},
     "output_type": "execute_result"
    }
   ],
   "source": [
    "# Numpy array methods - all can be viewed by 'dir(np)'\n",
    "wines[:,11].sum() # the total of qualit ratings\n",
    "wines.sum(axis=0)# sums for all columns\n",
    "wines.sum(axis=1) # sums for all rows"
   ]
  },
  {
   "cell_type": "code",
   "execution_count": 27,
   "metadata": {},
   "outputs": [
    {
     "data": {
      "text/plain": [
       "array([4.6  , 0.12 , 0.   , 0.9  , 0.012, 1.   , 6.   , 0.99 , 2.74 ,\n",
       "       0.33 , 8.4  , 3.   ])"
      ]
     },
     "execution_count": 27,
     "metadata": {},
     "output_type": "execute_result"
    },
    {
     "data": {
      "text/plain": [
       "array([ 15.9  ,   1.58 ,   1.   ,  15.5  ,   0.611,  72.   , 289.   ,\n",
       "         1.004,   4.01 ,   2.   ,  14.9  ,   8.   ])"
      ]
     },
     "execution_count": 27,
     "metadata": {},
     "output_type": "execute_result"
    },
    {
     "data": {
      "text/plain": [
       "array([ 8.32 ,  0.528,  0.271,  2.539,  0.087, 15.875, 46.468,  0.997,\n",
       "        3.311,  0.658, 10.423,  5.636])"
      ]
     },
     "execution_count": 27,
     "metadata": {},
     "output_type": "execute_result"
    },
    {
     "data": {
      "text/plain": [
       "array([ 1.741,  0.179,  0.195,  1.409,  0.047, 10.457, 32.885,  0.002,\n",
       "        0.154,  0.169,  1.065,  0.807])"
      ]
     },
     "execution_count": 27,
     "metadata": {},
     "output_type": "execute_result"
    }
   ],
   "source": [
    "# other methods behaving like the sum\n",
    "wines.min(axis=0)\n",
    "wines.max(axis=0)\n",
    "wines.mean(axis=0)\n",
    "wines.std(axis=0)"
   ]
  },
  {
   "cell_type": "code",
   "execution_count": 49,
   "metadata": {},
   "outputs": [
    {
     "data": {
      "text/plain": [
       "array([False, False, False, ...,  True, False,  True])"
      ]
     },
     "execution_count": 49,
     "metadata": {},
     "output_type": "execute_result"
    },
    {
     "data": {
      "text/plain": [
       "(0, 12)"
      ]
     },
     "execution_count": 49,
     "metadata": {},
     "output_type": "execute_result"
    }
   ],
   "source": [
    "\n",
    "# Numpy array comparisons\n",
    "wines[:,11] > 5 # checking wines with quality better than 5\n",
    "\n",
    "wines[(wines[:,11]>10)].shape # no wines with quality over 10"
   ]
  },
  {
   "cell_type": "code",
   "execution_count": 77,
   "metadata": {},
   "outputs": [
    {
     "data": {
      "text/plain": [
       "array([[ 7.9  ,  0.35 ,  0.46 ,  3.6  ,  0.078, 15.   , 37.   ,  0.997,\n",
       "         3.35 ,  0.86 , 20.   , 20.   ],\n",
       "       [10.3  ,  0.32 ,  0.45 ,  6.4  ,  0.073,  5.   , 13.   ,  0.998,\n",
       "         3.23 ,  0.82 , 20.   , 20.   ],\n",
       "       [ 5.6  ,  0.85 ,  0.05 ,  1.4  ,  0.045, 12.   , 88.   ,  0.992,\n",
       "         3.56 ,  0.82 , 20.   , 20.   ]])"
      ]
     },
     "execution_count": 77,
     "metadata": {},
     "output_type": "execute_result"
    },
    {
     "data": {
      "text/plain": [
       "array([[20., 20.],\n",
       "       [20., 20.],\n",
       "       [20., 20.],\n",
       "       [20., 20.],\n",
       "       [20., 20.],\n",
       "       [20., 20.],\n",
       "       [20., 20.],\n",
       "       [20., 20.],\n",
       "       [20., 20.],\n",
       "       [20., 20.],\n",
       "       [20., 20.],\n",
       "       [20., 20.],\n",
       "       [20., 20.],\n",
       "       [20., 20.],\n",
       "       [20., 20.],\n",
       "       [20., 20.]])"
      ]
     },
     "execution_count": 77,
     "metadata": {},
     "output_type": "execute_result"
    },
    {
     "data": {
      "text/plain": [
       "array([[ 7.9  ,  0.35 ,  0.46 ,  3.6  ,  0.078, 15.   , 37.   ,  0.997,\n",
       "         3.35 ,  0.86 , 20.   , 20.   ],\n",
       "       [10.3  ,  0.32 ,  0.45 ,  6.4  ,  0.073,  5.   , 13.   ,  0.998,\n",
       "         3.23 ,  0.82 , 20.   , 20.   ],\n",
       "       [ 5.6  ,  0.85 ,  0.05 ,  1.4  ,  0.045, 12.   , 88.   ,  0.992,\n",
       "         3.56 ,  0.82 , 20.   , 20.   ]])"
      ]
     },
     "execution_count": 77,
     "metadata": {},
     "output_type": "execute_result"
    }
   ],
   "source": [
    "# subsetting the arrays is like filtering for certain criteria\n",
    "high_quality = wines[:,11]>7 # True values for wines complying the condition\n",
    "wines[high_quality,:][:3,:] #from all wines of high quality show first 3 full rows\n",
    "\n",
    "# subset with two conditions\n",
    "high_quality_and_alcohol = (wines[:,10]>10) & (wines[:,11]>7)\n",
    "wines[high_quality_and_alcohol,10:] # only 16 wines\n",
    "\n",
    "# combining subsettin with assignment to overwrite certain values\n",
    "wines[high_quality_and_alcohol,10:] = 20\n",
    "wines[high_quality_and_alcohol][:3]"
   ]
  },
  {
   "cell_type": "code",
   "execution_count": 81,
   "metadata": {},
   "outputs": [
    {
     "data": {
      "text/plain": [
       "(12, 1599)"
      ]
     },
     "execution_count": 81,
     "metadata": {},
     "output_type": "execute_result"
    },
    {
     "data": {
      "text/plain": [
       "array([ 7.4  ,  0.7  ,  0.   ,  1.9  ,  0.076, 11.   , 34.   ,  0.998,\n",
       "        3.51 ,  0.56 ,  9.4  ,  5.   ,  7.8  ,  0.88 ,  0.   ,  2.6  ,\n",
       "        0.098, 25.   , 67.   ,  0.997,  3.2  ,  0.68 ,  9.8  ,  5.   ,\n",
       "        7.8  ])"
      ]
     },
     "execution_count": 81,
     "metadata": {},
     "output_type": "execute_result"
    }
   ],
   "source": [
    "# reshaping numpy arrays\n",
    "np.transpose(wines).shape # flipping the axes(rows/columns)\n",
    "\n",
    "wines.ravel()[:25] # turning an array to one-dimensional array"
   ]
  },
  {
   "cell_type": "code",
   "execution_count": 82,
   "metadata": {},
   "outputs": [
    {
     "data": {
      "text/plain": [
       "array([[ 7.4  ,  0.7  ,  0.   ,  1.9  ,  0.076, 11.   ],\n",
       "       [34.   ,  0.998,  3.51 ,  0.56 ,  9.4  ,  5.   ]])"
      ]
     },
     "execution_count": 82,
     "metadata": {},
     "output_type": "execute_result"
    }
   ],
   "source": [
    "wines[0,:].reshape(2,6)"
   ]
  },
  {
   "cell_type": "code",
   "execution_count": 89,
   "metadata": {},
   "outputs": [
    {
     "data": {
      "text/plain": [
       "(4898, 12)"
      ]
     },
     "execution_count": 89,
     "metadata": {},
     "output_type": "execute_result"
    },
    {
     "data": {
      "text/plain": [
       "(6497, 12)"
      ]
     },
     "execution_count": 89,
     "metadata": {},
     "output_type": "execute_result"
    },
    {
     "data": {
      "text/plain": [
       "(6497, 12)"
      ]
     },
     "execution_count": 89,
     "metadata": {},
     "output_type": "execute_result"
    }
   ],
   "source": [
    "# combining numpy arrays - first reading new file, than checking the shape\n",
    "white_wines = np.genfromtxt('winequality-white.csv', delimiter=';', skip_header=1)\n",
    "white_wines.shape\n",
    "\n",
    "all_wines = np.vstack((wines, white_wines))\n",
    "all_wines.shape\n",
    "\n",
    "np.concatenate((wines, white_wines), axis=0).shape"
   ]
  },
  {
   "cell_type": "code",
   "execution_count": 90,
   "metadata": {},
   "outputs": [
    {
     "data": {
      "text/plain": [
       "array([0., 0., 0., 0., 0., 0., 0., 0., 0.])"
      ]
     },
     "execution_count": 90,
     "metadata": {},
     "output_type": "execute_result"
    }
   ],
   "source": [
    "# small challenge - checking a numpy understanding\n",
    "zeros_1 = np.zeros((3,4))\n",
    "zeros_2 = np.zeros((6,4))\n",
    "zeros_1_2 = np.concatenate((zeros_1, zeros_2), axis=0)\n",
    "first_column = zeros_1_2[:,0]; first_column"
   ]
  },
  {
   "cell_type": "code",
   "execution_count": null,
   "metadata": {},
   "outputs": [],
   "source": []
  }
 ],
 "metadata": {
  "kernelspec": {
   "display_name": "Python 3",
   "language": "python",
   "name": "python3"
  },
  "language_info": {
   "codemirror_mode": {
    "name": "ipython",
    "version": 3
   },
   "file_extension": ".py",
   "mimetype": "text/x-python",
   "name": "python",
   "nbconvert_exporter": "python",
   "pygments_lexer": "ipython3",
   "version": "3.6.1"
  }
 },
 "nbformat": 4,
 "nbformat_minor": 2
}
