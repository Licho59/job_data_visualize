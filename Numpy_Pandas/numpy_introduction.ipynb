{
 "cells": [
  {
   "cell_type": "code",
   "execution_count": 1,
   "metadata": {},
   "outputs": [],
   "source": [
    "import numpy as np\n",
    "\n",
    "list1 = range(5)\n",
    "arr1d = np.array(list1)"
   ]
  },
  {
   "cell_type": "code",
   "execution_count": 2,
   "metadata": {},
   "outputs": [
    {
     "data": {
      "text/plain": [
       "numpy.ndarray"
      ]
     },
     "execution_count": 2,
     "metadata": {},
     "output_type": "execute_result"
    },
    {
     "data": {
      "text/plain": [
       "array([0, 1, 2, 3, 4])"
      ]
     },
     "execution_count": 2,
     "metadata": {},
     "output_type": "execute_result"
    }
   ],
   "source": [
    "type(arr1d)\n",
    "arr1d"
   ]
  },
  {
   "cell_type": "code",
   "execution_count": 3,
   "metadata": {},
   "outputs": [
    {
     "data": {
      "text/plain": [
       "array([2, 3, 4, 5, 6])"
      ]
     },
     "execution_count": 3,
     "metadata": {},
     "output_type": "execute_result"
    }
   ],
   "source": [
    "# array in opposite to list can perform operations/function on every element\n",
    "# rather than the whole object\n",
    "# another difference is that numpy array can not be increased after creation\n",
    "\n",
    "#list1 + 2 # it will bring the error of unsupported operand type(s)\n",
    "arr1d + 2 # every element of array has been summed by 2"
   ]
  },
  {
   "cell_type": "code",
   "execution_count": 4,
   "metadata": {},
   "outputs": [
    {
     "data": {
      "text/plain": [
       "array([[0., 1., 2.],\n",
       "       [3., 4., 5.],\n",
       "       [6., 7., 8.]])"
      ]
     },
     "execution_count": 4,
     "metadata": {},
     "output_type": "execute_result"
    }
   ],
   "source": [
    "# Using dtype helps control the memory allocations(float64, float32, int8, etc)\n",
    "list2 = [[0,1,2], [3,4,5], [6,7,8]]\n",
    "arr2d_f = np.array(list2, dtype='float') # 'bool' can be also dtype option\n",
    "arr2d_f"
   ]
  },
  {
   "cell_type": "code",
   "execution_count": 5,
   "metadata": {},
   "outputs": [
    {
     "data": {
      "text/plain": [
       "array([[0, 1, 2],\n",
       "       [3, 4, 5],\n",
       "       [6, 7, 8]])"
      ]
     },
     "execution_count": 5,
     "metadata": {},
     "output_type": "execute_result"
    }
   ],
   "source": [
    "# possible convertion to another type\n",
    "arr2d_f.astype('int')"
   ]
  },
  {
   "cell_type": "code",
   "execution_count": 6,
   "metadata": {},
   "outputs": [
    {
     "data": {
      "text/plain": [
       "array([[0., 1., 2.],\n",
       "       [3., 4., 5.],\n",
       "       [6., 7., 8.]])"
      ]
     },
     "execution_count": 6,
     "metadata": {},
     "output_type": "execute_result"
    },
    {
     "data": {
      "text/plain": [
       "array([['0', '1', '2'],\n",
       "       ['3', '4', '5'],\n",
       "       ['6', '7', '8']], dtype='<U11')"
      ]
     },
     "execution_count": 6,
     "metadata": {},
     "output_type": "execute_result"
    }
   ],
   "source": [
    "# possible multi convertion\n",
    "arr2d_f\n",
    "arr2d_f.astype('int').astype('str')"
   ]
  },
  {
   "cell_type": "code",
   "execution_count": 7,
   "metadata": {},
   "outputs": [
    {
     "data": {
      "text/plain": [
       "array([1, 'a', False], dtype=object)"
      ]
     },
     "execution_count": 7,
     "metadata": {},
     "output_type": "execute_result"
    }
   ],
   "source": [
    "# possible holding different types (like number and character) only \n",
    "# after specifiying dtype='object'\n",
    "arr1d_obj = np.array([1, 'a', False], dtype='object')\n",
    "arr1d_obj"
   ]
  },
  {
   "cell_type": "code",
   "execution_count": 8,
   "metadata": {},
   "outputs": [
    {
     "data": {
      "text/plain": [
       "array([0, 1, 2, 3, 4])"
      ]
     },
     "execution_count": 8,
     "metadata": {},
     "output_type": "execute_result"
    },
    {
     "data": {
      "text/plain": [
       "[1, 'a', False]"
      ]
     },
     "execution_count": 8,
     "metadata": {},
     "output_type": "execute_result"
    }
   ],
   "source": [
    "# possible to reverse conversion from array to list but the important\n",
    "# advantage of array is that it occupies much less space than python list\n",
    "arr1d\n",
    "arr1d_obj.tolist()"
   ]
  },
  {
   "cell_type": "code",
   "execution_count": 9,
   "metadata": {},
   "outputs": [
    {
     "data": {
      "text/plain": [
       "array([[1., 2., 3., 4.],\n",
       "       [3., 4., 5., 6.],\n",
       "       [5., 6., 7., 8.]])"
      ]
     },
     "execution_count": 9,
     "metadata": {},
     "output_type": "execute_result"
    }
   ],
   "source": [
    "list3 = [range(1,5), range(3,7), range(5,9)]\n",
    "arr2 = np.array(list3, dtype='float')\n",
    "arr2"
   ]
  },
  {
   "cell_type": "code",
   "execution_count": 10,
   "metadata": {},
   "outputs": [
    {
     "data": {
      "text/plain": [
       "array([[1., 2., 3., 4.],\n",
       "       [3., 4., 5., 6.],\n",
       "       [5., 6., 7., 8.]])"
      ]
     },
     "execution_count": 10,
     "metadata": {},
     "output_type": "execute_result"
    },
    {
     "name": "stdout",
     "output_type": "stream",
     "text": [
      "Shape:  (3, 4)\n",
      "Datatype:  float64\n",
      "Size:  12\n",
      "Num Dimmensions:  2\n"
     ]
    }
   ],
   "source": [
    "# getting the info about array\n",
    "arr2\n",
    "print('Shape: ', arr2.shape)\n",
    "print('Datatype: ', arr2.dtype)\n",
    "print('Size: ', arr2.size)\n",
    "print('Num Dimmensions: ', arr2.ndim)"
   ]
  },
  {
   "cell_type": "code",
   "execution_count": 11,
   "metadata": {},
   "outputs": [
    {
     "data": {
      "text/plain": [
       "array([[1., 2.],\n",
       "       [3., 4.]])"
      ]
     },
     "execution_count": 11,
     "metadata": {},
     "output_type": "execute_result"
    }
   ],
   "source": [
    "# extracting the first 2 rows  and columns\n",
    "\n",
    "arr2[:2, :2] # for 2 dim arr2[row, col]"
   ]
  },
  {
   "cell_type": "code",
   "execution_count": 12,
   "metadata": {},
   "outputs": [
    {
     "data": {
      "text/plain": [
       "array([[False, False, False,  True],\n",
       "       [False,  True,  True,  True],\n",
       "       [ True,  True,  True,  True]])"
      ]
     },
     "execution_count": 12,
     "metadata": {},
     "output_type": "execute_result"
    },
    {
     "data": {
      "text/plain": [
       "array([4., 4., 5., 6., 5., 6., 7., 8.])"
      ]
     },
     "execution_count": 12,
     "metadata": {},
     "output_type": "execute_result"
    }
   ],
   "source": [
    "# getting the boolean output by applying the condition of each element\n",
    "\n",
    "b = arr2 >= 4 # new array with values of original array after filtering\n",
    "b\n",
    "arr2[b] # works like filter"
   ]
  },
  {
   "cell_type": "code",
   "execution_count": 13,
   "metadata": {},
   "outputs": [
    {
     "data": {
      "text/plain": [
       "array([[1., 2., 3., 4.],\n",
       "       [3., 4., 5., 6.],\n",
       "       [5., 6., 7., 8.]])"
      ]
     },
     "execution_count": 13,
     "metadata": {},
     "output_type": "execute_result"
    },
    {
     "data": {
      "text/plain": [
       "array([[5., 6., 7., 8.],\n",
       "       [3., 4., 5., 6.],\n",
       "       [1., 2., 3., 4.]])"
      ]
     },
     "execution_count": 13,
     "metadata": {},
     "output_type": "execute_result"
    }
   ],
   "source": [
    "# reversing only row positions\n",
    "\n",
    "arr2\n",
    "arr2[::-1]"
   ]
  },
  {
   "cell_type": "code",
   "execution_count": 14,
   "metadata": {},
   "outputs": [
    {
     "data": {
      "text/plain": [
       "array([[1., 2., 3., 4.],\n",
       "       [3., 4., 5., 6.],\n",
       "       [5., 6., 7., 8.]])"
      ]
     },
     "execution_count": 14,
     "metadata": {},
     "output_type": "execute_result"
    },
    {
     "data": {
      "text/plain": [
       "array([[4., 3., 2., 1.],\n",
       "       [6., 5., 4., 3.],\n",
       "       [8., 7., 6., 5.]])"
      ]
     },
     "execution_count": 14,
     "metadata": {},
     "output_type": "execute_result"
    }
   ],
   "source": [
    "# reversing only column positions\n",
    "\n",
    "arr2\n",
    "arr2[:, ::-1]"
   ]
  },
  {
   "cell_type": "code",
   "execution_count": 15,
   "metadata": {},
   "outputs": [
    {
     "data": {
      "text/plain": [
       "array([[1., 2., 3., 4.],\n",
       "       [3., 4., 5., 6.],\n",
       "       [5., 6., 7., 8.]])"
      ]
     },
     "execution_count": 15,
     "metadata": {},
     "output_type": "execute_result"
    },
    {
     "data": {
      "text/plain": [
       "array([[8., 7., 6., 5.],\n",
       "       [6., 5., 4., 3.],\n",
       "       [4., 3., 2., 1.]])"
      ]
     },
     "execution_count": 15,
     "metadata": {},
     "output_type": "execute_result"
    }
   ],
   "source": [
    "# reversing the row and columns positions\n",
    "\n",
    "arr2\n",
    "arr2[::-1, ::-1]"
   ]
  },
  {
   "cell_type": "code",
   "execution_count": 16,
   "metadata": {},
   "outputs": [
    {
     "data": {
      "text/plain": [
       "array([[1., 2., 3., 4.],\n",
       "       [3., 4., 5., 6.],\n",
       "       [5., 6., 7., 8.]])"
      ]
     },
     "execution_count": 16,
     "metadata": {},
     "output_type": "execute_result"
    },
    {
     "data": {
      "text/plain": [
       "array([[ 1.,  2.,  3.,  4.],\n",
       "       [ 3., nan, inf,  6.],\n",
       "       [ 5.,  6.,  7.,  8.]])"
      ]
     },
     "execution_count": 16,
     "metadata": {},
     "output_type": "execute_result"
    }
   ],
   "source": [
    "# inserting a nan(not a number) and an inf (infinite)\n",
    "\n",
    "arr2\n",
    "arr2[1,1] = np.nan\n",
    "arr2[1,2] = np.inf\n",
    "arr2"
   ]
  },
  {
   "cell_type": "code",
   "execution_count": 17,
   "metadata": {},
   "outputs": [
    {
     "data": {
      "text/plain": [
       "array([[False, False, False, False],\n",
       "       [False,  True,  True, False],\n",
       "       [False, False, False, False]])"
      ]
     },
     "execution_count": 17,
     "metadata": {},
     "output_type": "execute_result"
    },
    {
     "data": {
      "text/plain": [
       "array([[ 1.,  2.,  3.,  4.],\n",
       "       [ 3., -1., -1.,  6.],\n",
       "       [ 5.,  6.,  7.,  8.]])"
      ]
     },
     "execution_count": 17,
     "metadata": {},
     "output_type": "execute_result"
    }
   ],
   "source": [
    "# replacing nan and inf with -1 (do not use arr2==np.nan)\n",
    "\n",
    "missing_bool = np.isnan(arr2) | np.isinf(arr2)\n",
    "arr2[missing_bool] = -1\n",
    "missing_bool\n",
    "arr2"
   ]
  },
  {
   "cell_type": "code",
   "execution_count": 18,
   "metadata": {},
   "outputs": [
    {
     "data": {
      "text/plain": [
       "array([[ 1.,  2.,  3.,  4.],\n",
       "       [ 3., -1., -1.,  6.],\n",
       "       [ 5.,  6.,  7.,  8.]])"
      ]
     },
     "execution_count": 18,
     "metadata": {},
     "output_type": "execute_result"
    },
    {
     "name": "stdout",
     "output_type": "stream",
     "text": [
      "Mean value is:  3.5833333333333335\n",
      "Max value is:  8.0\n",
      "Min value is:  -1.0\n"
     ]
    }
   ],
   "source": [
    "# mean, max and min\n",
    "\n",
    "arr2\n",
    "print(\"Mean value is: \", arr2.mean())\n",
    "print('Max value is: ', arr2.max())\n",
    "print('Min value is: ', arr2.min())"
   ]
  },
  {
   "cell_type": "code",
   "execution_count": 19,
   "metadata": {},
   "outputs": [
    {
     "data": {
      "text/plain": [
       "array([[ 1.,  2.,  3.,  4.],\n",
       "       [ 3., -1., -1.,  6.],\n",
       "       [ 5.,  6.,  7.,  8.]])"
      ]
     },
     "execution_count": 19,
     "metadata": {},
     "output_type": "execute_result"
    },
    {
     "name": "stdout",
     "output_type": "stream",
     "text": [
      "Column wise minimum:  [ 1. -1. -1.  4.]\n",
      "Row wise minimum:  [ 1. -1.  5.]\n"
     ]
    }
   ],
   "source": [
    "# row wise and column wise min - for every row  or column\n",
    "\n",
    "arr2\n",
    "print('Column wise minimum: ', np.amin(arr2, axis=0))\n",
    "print('Row wise minimum: ', np.amin(arr2, axis=1))"
   ]
  },
  {
   "cell_type": "code",
   "execution_count": 20,
   "metadata": {},
   "outputs": [
    {
     "data": {
      "text/plain": [
       "array([[ 1.,  2.,  3.,  4.],\n",
       "       [ 3., -1., -1.,  6.],\n",
       "       [ 5.,  6.,  7.,  8.]])"
      ]
     },
     "execution_count": 20,
     "metadata": {},
     "output_type": "execute_result"
    },
    {
     "data": {
      "text/plain": [
       "array([ 1.,  3.,  6., 10., 13., 12., 11., 17., 22., 28., 35., 43.])"
      ]
     },
     "execution_count": 20,
     "metadata": {},
     "output_type": "execute_result"
    }
   ],
   "source": [
    "# cumulative sum\n",
    "\n",
    "arr2\n",
    "np.cumsum(arr2)"
   ]
  },
  {
   "cell_type": "code",
   "execution_count": 21,
   "metadata": {},
   "outputs": [
    {
     "data": {
      "text/plain": [
       "array([[ 1.,  2.,  3.,  4.],\n",
       "       [ 3., -1., -1.,  6.],\n",
       "       [ 5.,  6.,  7.,  8.]])"
      ]
     },
     "execution_count": 21,
     "metadata": {},
     "output_type": "execute_result"
    },
    {
     "data": {
      "text/plain": [
       "array([[ 1.,  2.],\n",
       "       [ 3., -1.]])"
      ]
     },
     "execution_count": 21,
     "metadata": {},
     "output_type": "execute_result"
    },
    {
     "data": {
      "text/plain": [
       "array([[100.,   2.,   3.,   4.],\n",
       "       [  3.,  -1.,  -1.,   6.],\n",
       "       [  5.,   6.,   7.,   8.]])"
      ]
     },
     "execution_count": 21,
     "metadata": {},
     "output_type": "execute_result"
    }
   ],
   "source": [
    "# assigning portion of arr2 to arr2a; it doesn't really create a new array\n",
    "# so it influences arr2 when there are some modifications in arr2a\n",
    "\n",
    "arr2\n",
    "arr2a = arr2[:2, :2]\n",
    "arr2a\n",
    "arr2a[:1, :1] = 100\n",
    "arr2"
   ]
  },
  {
   "cell_type": "code",
   "execution_count": 22,
   "metadata": {},
   "outputs": [
    {
     "data": {
      "text/plain": [
       "array([[100.,   2.,   3.,   4.],\n",
       "       [  3.,  -1.,  -1.,   6.],\n",
       "       [  5.,   6.,   7.,   8.]])"
      ]
     },
     "execution_count": 22,
     "metadata": {},
     "output_type": "execute_result"
    },
    {
     "data": {
      "text/plain": [
       "array([[100.,   2.,   3.,   4.],\n",
       "       [  3.,  -1.,  -1.,   6.],\n",
       "       [  5.,   6.,   7.,   8.]])"
      ]
     },
     "execution_count": 22,
     "metadata": {},
     "output_type": "execute_result"
    }
   ],
   "source": [
    "# to avoid problem in above example real copy has to be created\n",
    "arr2\n",
    "arr2b = arr2[:2, :2].copy()\n",
    "arr2b[:1, :1] = 101 # 101 will not reflect in arr2\n",
    "arr2"
   ]
  },
  {
   "cell_type": "code",
   "execution_count": 23,
   "metadata": {},
   "outputs": [
    {
     "data": {
      "text/plain": [
       "array([[100.,   2.,   3.,   4.],\n",
       "       [  3.,  -1.,  -1.,   6.],\n",
       "       [  5.,   6.,   7.,   8.]])"
      ]
     },
     "execution_count": 23,
     "metadata": {},
     "output_type": "execute_result"
    },
    {
     "data": {
      "text/plain": [
       "array([[100.,   2.,   3.],\n",
       "       [  4.,   3.,  -1.],\n",
       "       [ -1.,   6.,   5.],\n",
       "       [  6.,   7.,   8.]])"
      ]
     },
     "execution_count": 23,
     "metadata": {},
     "output_type": "execute_result"
    }
   ],
   "source": [
    "# reshaping a 3x4 array to 4x3 array\n",
    "arr2\n",
    "arr2.reshape(4,3)"
   ]
  },
  {
   "cell_type": "code",
   "execution_count": 24,
   "metadata": {},
   "outputs": [
    {
     "data": {
      "text/plain": [
       "array([[100.,   2.,   3.,   4.],\n",
       "       [  3.,  -1.,  -1.,   6.],\n",
       "       [  5.,   6.,   7.,   8.]])"
      ]
     },
     "execution_count": 24,
     "metadata": {},
     "output_type": "execute_result"
    },
    {
     "data": {
      "text/plain": [
       "array([100.,   2.,   3.,   4.,   3.,  -1.,  -1.,   6.,   5.,   6.,   7.,\n",
       "         8.])"
      ]
     },
     "execution_count": 24,
     "metadata": {},
     "output_type": "execute_result"
    },
    {
     "data": {
      "text/plain": [
       "array([[100.,   2.,   3.,   4.],\n",
       "       [  3.,  -1.,  -1.,   6.],\n",
       "       [  5.,   6.,   7.,   8.]])"
      ]
     },
     "execution_count": 24,
     "metadata": {},
     "output_type": "execute_result"
    }
   ],
   "source": [
    "# flatten() and ravel() work the same but the second one uses a reference\n",
    "# to the parent array (affecting while some changes) but is memory efficient\n",
    "\n",
    "arr2\n",
    "b1 = arr2.flatten()\n",
    "b1\n",
    "b1[0] = 101\n",
    "arr2"
   ]
  },
  {
   "cell_type": "code",
   "execution_count": 25,
   "metadata": {},
   "outputs": [
    {
     "data": {
      "text/plain": [
       "array([101.,   2.,   3.,   4.,   3.,  -1.,  -1.,   6.,   5.,   6.,   7.,\n",
       "         8.])"
      ]
     },
     "execution_count": 25,
     "metadata": {},
     "output_type": "execute_result"
    },
    {
     "data": {
      "text/plain": [
       "array([[101.,   2.,   3.,   4.],\n",
       "       [  3.,  -1.,  -1.,   6.],\n",
       "       [  5.,   6.,   7.,   8.]])"
      ]
     },
     "execution_count": 25,
     "metadata": {},
     "output_type": "execute_result"
    }
   ],
   "source": [
    "b2 = arr2.ravel()\n",
    "b2[0] = 101\n",
    "b2\n",
    "arr2"
   ]
  },
  {
   "cell_type": "code",
   "execution_count": 26,
   "metadata": {},
   "outputs": [
    {
     "data": {
      "text/plain": [
       "array([10,  9,  8,  7,  6,  5,  4,  3,  2])"
      ]
     },
     "execution_count": 26,
     "metadata": {},
     "output_type": "execute_result"
    },
    {
     "data": {
      "text/plain": [
       "array([10,  9,  8,  7,  6,  5,  4,  3])"
      ]
     },
     "execution_count": 26,
     "metadata": {},
     "output_type": "execute_result"
    },
    {
     "data": {
      "text/plain": [
       "array([10,  8,  6,  4,  2])"
      ]
     },
     "execution_count": 26,
     "metadata": {},
     "output_type": "execute_result"
    },
    {
     "data": {
      "text/plain": [
       "array([ 1,  4,  7, 10, 13, 17, 20, 23, 26, 30])"
      ]
     },
     "execution_count": 26,
     "metadata": {},
     "output_type": "execute_result"
    }
   ],
   "source": [
    "# sequences, repetitions and random numbers\n",
    "\n",
    "np.arange(10,1, -1)\n",
    "np.arange(10, 2, -1)\n",
    "np.arange(10, 1, -2)\n",
    "\n",
    "# evenly spaced numbers for given range\n",
    "np.linspace(1, 30, 10, dtype=int) # (start, stop, amount, type)\n",
    "                        # 'int' forces rounding some numbers"
   ]
  },
  {
   "cell_type": "code",
   "execution_count": 27,
   "metadata": {},
   "outputs": [
    {
     "data": {
      "text/plain": [
       "array([1.00e+01, 2.78e+06, 7.74e+11, 2.15e+17, 5.99e+22, 1.67e+28,\n",
       "       4.64e+33, 1.29e+39, 3.59e+44, 1.00e+50])"
      ]
     },
     "execution_count": 27,
     "metadata": {},
     "output_type": "execute_result"
    }
   ],
   "source": [
    "# logspace() makes rising the numbers in logarithmic scale\n",
    "\n",
    "np.set_printoptions(precision=2) #limits number of digits after decimal\n",
    "\n",
    "np.logspace(start=1, stop=50, num=10, base=10)"
   ]
  },
  {
   "cell_type": "code",
   "execution_count": 28,
   "metadata": {},
   "outputs": [
    {
     "data": {
      "text/plain": [
       "array([[0., 0., 0., 0., 0., 0.],\n",
       "       [0., 0., 0., 0., 0., 0.]])"
      ]
     },
     "execution_count": 28,
     "metadata": {},
     "output_type": "execute_result"
    },
    {
     "data": {
      "text/plain": [
       "array([[1., 1., 1.],\n",
       "       [1., 1., 1.],\n",
       "       [1., 1., 1.]])"
      ]
     },
     "execution_count": 28,
     "metadata": {},
     "output_type": "execute_result"
    }
   ],
   "source": [
    "# zeros and ones of desired shape\n",
    "\n",
    "np.zeros([2,6])\n",
    "np.ones([3,3])"
   ]
  },
  {
   "cell_type": "code",
   "execution_count": 29,
   "metadata": {},
   "outputs": [
    {
     "name": "stdout",
     "output_type": "stream",
     "text": [
      "Tile:     [1 2 3 1 2 3]\n",
      "Repeat:  [1 1 2 2 3 3]\n"
     ]
    }
   ],
   "source": [
    "# repeating sequences\n",
    "\n",
    "a = [1, 2, 3]\n",
    "print('Tile:    ', np.tile(a, 2)) # repeat whole of 'a' 2 times\n",
    "print('Repeat: ', np.repeat(a, 2)) # repeat each element of 'a' 2 times"
   ]
  },
  {
   "cell_type": "code",
   "execution_count": 30,
   "metadata": {},
   "outputs": [
    {
     "data": {
      "text/plain": [
       "array([[0.7 , 0.8 ],\n",
       "       [0.8 , 0.52]])"
      ]
     },
     "execution_count": 30,
     "metadata": {},
     "output_type": "execute_result"
    },
    {
     "data": {
      "text/plain": [
       "array([[ 1.44,  0.39],\n",
       "       [-0.81,  1.2 ]])"
      ]
     },
     "execution_count": 30,
     "metadata": {},
     "output_type": "execute_result"
    },
    {
     "data": {
      "text/plain": [
       "array([[9, 6],\n",
       "       [4, 3]])"
      ]
     },
     "execution_count": 30,
     "metadata": {},
     "output_type": "execute_result"
    },
    {
     "data": {
      "text/plain": [
       "array([[0.89, 0.32],\n",
       "       [0.1 , 0.93]])"
      ]
     },
     "execution_count": 30,
     "metadata": {},
     "output_type": "execute_result"
    },
    {
     "data": {
      "text/plain": [
       "array(['o', 'e', 'u', 'u', 'a', 'a', 'o', 'u', 'a', 'i'], dtype='<U1')"
      ]
     },
     "execution_count": 30,
     "metadata": {},
     "output_type": "execute_result"
    },
    {
     "data": {
      "text/plain": [
       "array(['i', 'o', 'o', 'o', 'o', 'o', 'i', 'o', 'o', 'o'], dtype='<U1')"
      ]
     },
     "execution_count": 30,
     "metadata": {},
     "output_type": "execute_result"
    },
    {
     "data": {
      "text/plain": [
       "array(['a', 'i', 'i', 'i', 'u', 'a', 'u', 'a', 'u', 'o'], dtype='<U1')"
      ]
     },
     "execution_count": 30,
     "metadata": {},
     "output_type": "execute_result"
    }
   ],
   "source": [
    "# random module functions\n",
    "\n",
    "np.random.rand(2,2) # random numbers betwenn[0,1] of shape (2,2)\n",
    "np.random.randn(2,2) # normal distribution with mean-0 and var=1, shape(2,2)\n",
    "np.random.randint(0, 10, size=[2,2]) # random integers from [0,11]\n",
    "np.random.random(size=[2,2]) # similar to 1st example(?)\n",
    "np.random.choice(['a','e','i','o','u'], size=10) # 10 items from the list\n",
    "np.random.choice(['a', 'e', 'i','o','u'], size=10,\n",
    "                 p=[0.3, .1, 0.1, 0.4, 0.1]) # picks more o's\n",
    "np.random.choice(['a', 'e', 'i','o','u'], size=10,\n",
    "                 p=[0.3, .1, 0.1, 0.1, 0.4])"
   ]
  },
  {
   "cell_type": "code",
   "execution_count": 31,
   "metadata": {},
   "outputs": [
    {
     "data": {
      "text/plain": [
       "array([[0.54, 0.28],\n",
       "       [0.42, 0.84]])"
      ]
     },
     "execution_count": 31,
     "metadata": {},
     "output_type": "execute_result"
    },
    {
     "data": {
      "text/plain": [
       "array([[0.  , 0.12, 0.67],\n",
       "       [0.83, 0.14, 0.58],\n",
       "       [0.89, 0.21, 0.19]])"
      ]
     },
     "execution_count": 31,
     "metadata": {},
     "output_type": "execute_result"
    }
   ],
   "source": [
    "# creating the random state enables all the functions of np.random module\n",
    "\n",
    "rn = np.random.RandomState(100) #seed=100 allow repeating the\n",
    "                                # same set of numbers 100 times\n",
    "rn.rand(2,2)\n",
    "rn.rand(3,3)"
   ]
  },
  {
   "cell_type": "code",
   "execution_count": 32,
   "metadata": {},
   "outputs": [
    {
     "data": {
      "text/plain": [
       "array([8, 8, 3, 7, 7, 0, 4, 2, 5, 2])"
      ]
     },
     "execution_count": 32,
     "metadata": {},
     "output_type": "execute_result"
    }
   ],
   "source": [
    "# creating random integers of size10 between 0 and 10\n",
    "np.random.seed(100)\n",
    "arr_rand = np.random.randint(0,10, size=10)\n",
    "arr_rand"
   ]
  },
  {
   "cell_type": "code",
   "execution_count": 33,
   "metadata": {},
   "outputs": [
    {
     "name": "stdout",
     "output_type": "stream",
     "text": [
      "Unique items :  [0 2 3 4 5 7 8]\n",
      "Counts     : [1 2 1 1 1 2 2]\n"
     ]
    }
   ],
   "source": [
    "# getting unique items and their counts\n",
    "\n",
    "uniqs, counts =np.unique(arr_rand, return_counts=True)\n",
    "print('Unique items : ', uniqs)\n",
    "print('Counts     :', counts)"
   ]
  },
  {
   "cell_type": "code",
   "execution_count": 34,
   "metadata": {},
   "outputs": [
    {
     "data": {
      "text/plain": [
       "array([8, 8, 3, 7, 7, 0, 4, 2, 5, 2])"
      ]
     },
     "execution_count": 34,
     "metadata": {},
     "output_type": "execute_result"
    },
    {
     "name": "stdout",
     "output_type": "stream",
     "text": [
      "Array:  [8 8 3 7 7 0 4 2 5 2]\n"
     ]
    }
   ],
   "source": [
    "arr_rand\n",
    "print('Array: ', arr_rand)"
   ]
  },
  {
   "cell_type": "code",
   "execution_count": 35,
   "metadata": {},
   "outputs": [
    {
     "name": "stdout",
     "output_type": "stream",
     "text": [
      "Positions where value > 5:  (array([0, 1, 3, 4], dtype=int32),)\n"
     ]
    }
   ],
   "source": [
    "# positions where value of array item > 5 - works for 1dimm array\n",
    "\n",
    "index_gt5 = np.where(arr_rand > 5)\n",
    "print('Positions where value > 5: ', index_gt5)"
   ]
  },
  {
   "cell_type": "code",
   "execution_count": 36,
   "metadata": {},
   "outputs": [
    {
     "data": {
      "text/plain": [
       "array([[8, 8, 7, 7]])"
      ]
     },
     "execution_count": 36,
     "metadata": {},
     "output_type": "execute_result"
    },
    {
     "data": {
      "text/plain": [
       "array([8, 8, 3, 7, 7, 0, 4, 2, 5, 2])"
      ]
     },
     "execution_count": 36,
     "metadata": {},
     "output_type": "execute_result"
    }
   ],
   "source": [
    "# extracting items at given index\n",
    "\n",
    "arr_rand.take(index_gt5) # return array with indexed items\n",
    "arr_rand # array is not changed by extraction"
   ]
  },
  {
   "cell_type": "code",
   "execution_count": 37,
   "metadata": {},
   "outputs": [
    {
     "data": {
      "text/plain": [
       "array([[1, 8],\n",
       "       [3, 4]])"
      ]
     },
     "execution_count": 37,
     "metadata": {},
     "output_type": "execute_result"
    },
    {
     "data": {
      "text/plain": [
       "array(['gt5', 'gt5', 'lt5', 'gt5', 'gt5', 'lt5', 'lt5', 'lt5', 'lt5',\n",
       "       'lt5'], dtype='<U3')"
      ]
     },
     "execution_count": 37,
     "metadata": {},
     "output_type": "execute_result"
    }
   ],
   "source": [
    "# for ndimm array 'where' returns values keeping with condition in\n",
    "# first array taking them either from 2nd array-if condition is True\n",
    "# or if else - from 3rd array \n",
    "\n",
    "np.where([[True, False],[True, True]],\n",
    "        [[1, 2], [3, 4]],\n",
    "        [[9, 8], [7, 6]])\n",
    "\n",
    "np.where(arr_rand > 5, 'gt5', 'lt5') # 2nd and 3rd params equilvalent\n",
    "                                    # for 'if - else'"
   ]
  },
  {
   "cell_type": "code",
   "execution_count": 38,
   "metadata": {},
   "outputs": [
    {
     "data": {
      "text/plain": [
       "array([[0, 1, 2],\n",
       "       [3, 4, 5],\n",
       "       [6, 7, 8]])"
      ]
     },
     "execution_count": 38,
     "metadata": {},
     "output_type": "execute_result"
    },
    {
     "data": {
      "text/plain": [
       "(array([0, 0], dtype=int32), array([0, 1], dtype=int32))"
      ]
     },
     "execution_count": 38,
     "metadata": {},
     "output_type": "execute_result"
    }
   ],
   "source": [
    "# if only condition 'where' returns two arrays (for rows and columns)\n",
    "# with indexes of items\n",
    "\n",
    "x = np.arange(9).reshape(3,3)\n",
    "x\n",
    "np.where(x<2)"
   ]
  },
  {
   "cell_type": "code",
   "execution_count": 39,
   "metadata": {},
   "outputs": [
    {
     "data": {
      "text/plain": [
       "array([8, 8, 3, 7, 7, 0, 4, 2, 5, 2])"
      ]
     },
     "execution_count": 39,
     "metadata": {},
     "output_type": "execute_result"
    },
    {
     "name": "stdout",
     "output_type": "stream",
     "text": [
      "Position of minimum value:  0\n",
      "Position of maximum value:  5\n"
     ]
    }
   ],
   "source": [
    "# location of the maximum and minimum\n",
    "\n",
    "arr_rand\n",
    "print('Position of minimum value: ', np.argmax(arr_rand))\n",
    "print('Position of maximum value: ', np.argmin(arr_rand))"
   ]
  },
  {
   "cell_type": "code",
   "execution_count": 40,
   "metadata": {},
   "outputs": [
    {
     "data": {
      "text/plain": [
       "array([[  18. ,    8. ,  307. ,  130. , 3504. ,   12. ,   70. ,    1. ,\n",
       "        -999. ],\n",
       "       [  15. ,    8. ,  350. ,  165. , 3693. ,   11.5,   70. ,    1. ,\n",
       "        -999. ],\n",
       "       [  18. ,    8. ,  318. ,  150. , 3436. ,   11. ,   70. ,    1. ,\n",
       "        -999. ]])"
      ]
     },
     "execution_count": 40,
     "metadata": {},
     "output_type": "execute_result"
    }
   ],
   "source": [
    "# Importing, exporting data as a csv file\n",
    "# apart from \"genfromtxt\" there is 'loadtxt' function but it is less versatile\n",
    "np.set_printoptions(suppress=True) # turns off scientic notation\n",
    "\n",
    "path = 'http://raw.githubusercontent.com/selva86/datasets/master/Auto.csv'\n",
    "\n",
    "data = np.genfromtxt(path, delimiter=',', skip_header=1,\n",
    "                     filling_values=-999, dtype='float')\n",
    "\n",
    "data[:3] # see the first 3 rows\n"
   ]
  },
  {
   "cell_type": "code",
   "execution_count": 41,
   "metadata": {},
   "outputs": [
    {
     "name": "stderr",
     "output_type": "stream",
     "text": [
      "c:\\users\\14000322\\appdata\\local\\programs\\python\\python36-32\\lib\\site-packages\\ipykernel_launcher.py:2: VisibleDeprecationWarning: Reading unicode strings without specifying the encoding argument is deprecated. Set the encoding, use None for the system default.\n",
      "  \n"
     ]
    },
    {
     "data": {
      "text/plain": [
       "array([[  18. ,    8. ,  307. ,  130. , 3504. ,   12. ,   70. ,    1. ,\n",
       "        -999. ],\n",
       "       [  15. ,    8. ,  350. ,  165. , 3693. ,   11.5,   70. ,    1. ,\n",
       "        -999. ]])"
      ]
     },
     "execution_count": 41,
     "metadata": {},
     "output_type": "execute_result"
    }
   ],
   "source": [
    "# dtype=None enables using number columns and text columns\n",
    "data2= np.genfromtxt(path, delimiter=',', skip_header=1, dtype=None)\n",
    "data[:2]"
   ]
  },
  {
   "cell_type": "code",
   "execution_count": 42,
   "metadata": {},
   "outputs": [],
   "source": [
    "# exporting array as csv file\n",
    "\n",
    "np.savetxt('out.csv', data, delimiter=',')"
   ]
  },
  {
   "cell_type": "code",
   "execution_count": 43,
   "metadata": {},
   "outputs": [],
   "source": [
    "# saving single numpy array object as .npy file\n",
    "np.save('myarray.npy', arr2d_f)\n",
    "\n",
    "# the same as above but with more than one array object as .npz file\n",
    "np.savez('array.npz', arr2d_f, data2[:3])\n"
   ]
  },
  {
   "cell_type": "code",
   "execution_count": 44,
   "metadata": {},
   "outputs": [
    {
     "name": "stdout",
     "output_type": "stream",
     "text": [
      "[[0. 1. 2.]\n",
      " [3. 4. 5.]\n",
      " [6. 7. 8.]]\n",
      "['arr_0', 'arr_1']\n"
     ]
    },
    {
     "data": {
      "text/plain": [
       "array([(18., 8, 307., 130, 3504, 12. , 70, 1, b'\"chevrolet chevelle malibu\"'),\n",
       "       (15., 8, 350., 165, 3693, 11.5, 70, 1, b'\"buick skylark 320\"'),\n",
       "       (18., 8, 318., 150, 3436, 11. , 70, 1, b'\"plymouth satellite\"')],\n",
       "      dtype=[('f0', '<f8'), ('f1', '<i4'), ('f2', '<f8'), ('f3', '<i4'), ('f4', '<i4'), ('f5', '<f8'), ('f6', '<i4'), ('f7', '<i4'), ('f8', 'S38')])"
      ]
     },
     "execution_count": 44,
     "metadata": {},
     "output_type": "execute_result"
    }
   ],
   "source": [
    "# loading back the files above\n",
    "\n",
    "a = np.load('myarray.npy')\n",
    "print(a)\n",
    "\n",
    "b = np.load('array.npz')\n",
    "print(b.files)\n",
    "b['arr_1']"
   ]
  },
  {
   "cell_type": "code",
   "execution_count": 45,
   "metadata": {},
   "outputs": [
    {
     "name": "stdout",
     "output_type": "stream",
     "text": [
      "[[0. 0. 0. 0.]\n",
      " [0. 0. 0. 0.]\n",
      " [0. 0. 0. 0.]\n",
      " [0. 0. 0. 0.]]\n",
      "[[1. 1. 1. 1.]\n",
      " [1. 1. 1. 1.]\n",
      " [1. 1. 1. 1.]\n",
      " [1. 1. 1. 1.]]\n"
     ]
    }
   ],
   "source": [
    "# concateanting arrays columnwise and row wise - three methods \n",
    "#(concatenate, vstack)\n",
    "\n",
    "a = np.zeros([4,4])\n",
    "b = np.ones([4,4])\n",
    "\n",
    "print(a)\n",
    "print(b)"
   ]
  },
  {
   "cell_type": "code",
   "execution_count": 46,
   "metadata": {},
   "outputs": [
    {
     "data": {
      "text/plain": [
       "array([[0., 0., 0., 0.],\n",
       "       [0., 0., 0., 0.],\n",
       "       [0., 0., 0., 0.],\n",
       "       [0., 0., 0., 0.],\n",
       "       [1., 1., 1., 1.],\n",
       "       [1., 1., 1., 1.],\n",
       "       [1., 1., 1., 1.],\n",
       "       [1., 1., 1., 1.]])"
      ]
     },
     "execution_count": 46,
     "metadata": {},
     "output_type": "execute_result"
    }
   ],
   "source": [
    "# the same result for every function below\n",
    "np.concatenate([a, b], axis=0) # default axis is row\n",
    "#np.vstack([a, b]) # no need for axis\n",
    "#np.r_[a, b] # only brackets, no parantheses"
   ]
  },
  {
   "cell_type": "code",
   "execution_count": 47,
   "metadata": {},
   "outputs": [
    {
     "data": {
      "text/plain": [
       "array([[0., 0., 0., 0., 1., 1., 1., 1.],\n",
       "       [0., 0., 0., 0., 1., 1., 1., 1.],\n",
       "       [0., 0., 0., 0., 1., 1., 1., 1.],\n",
       "       [0., 0., 0., 0., 1., 1., 1., 1.]])"
      ]
     },
     "execution_count": 47,
     "metadata": {},
     "output_type": "execute_result"
    }
   ],
   "source": [
    "# horizontal stacking\n",
    "\n",
    "np.concatenate([a,b], axis=1)\n",
    "#np.hstack([a, b])\n",
    "#np.c_[a, b]"
   ]
  },
  {
   "cell_type": "code",
   "execution_count": null,
   "metadata": {},
   "outputs": [],
   "source": []
  },
  {
   "cell_type": "code",
   "execution_count": 48,
   "metadata": {},
   "outputs": [
    {
     "data": {
      "text/plain": [
       "array([1, 2, 3, 0, 5, 6, 7, 8])"
      ]
     },
     "execution_count": 48,
     "metadata": {},
     "output_type": "execute_result"
    }
   ],
   "source": [
    "# 'np.r_' enables more complex number sequences in 1d arrays\n",
    "\n",
    "np.r_[[1,2,3], 0, 5, [6,7,8]]"
   ]
  },
  {
   "cell_type": "code",
   "execution_count": 49,
   "metadata": {},
   "outputs": [
    {
     "data": {
      "text/plain": [
       "array([[3, 3, 2],\n",
       "       [1, 1, 5],\n",
       "       [4, 5, 3],\n",
       "       [1, 4, 2]])"
      ]
     },
     "execution_count": 49,
     "metadata": {},
     "output_type": "execute_result"
    },
    {
     "data": {
      "text/plain": [
       "array([[1, 1, 2],\n",
       "       [1, 3, 2],\n",
       "       [3, 4, 3],\n",
       "       [4, 5, 5]])"
      ]
     },
     "execution_count": 49,
     "metadata": {},
     "output_type": "execute_result"
    },
    {
     "data": {
      "text/plain": [
       "array([[2, 3, 3],\n",
       "       [1, 1, 5],\n",
       "       [3, 4, 5],\n",
       "       [1, 2, 4]])"
      ]
     },
     "execution_count": 49,
     "metadata": {},
     "output_type": "execute_result"
    }
   ],
   "source": [
    "# sorting array - content of rows disturbed\n",
    "\n",
    "arr = np.random.randint(1, 6, size=[4,3])\n",
    "arr\n",
    "np.sort(arr, axis=0) # each column sorted in ascending order\n",
    "np.sort(arr, axis=1) # each row sorted in ascending order"
   ]
  },
  {
   "cell_type": "code",
   "execution_count": 50,
   "metadata": {},
   "outputs": [
    {
     "data": {
      "text/plain": [
       "array([0, 3, 2, 4, 5, 1], dtype=int32)"
      ]
     },
     "execution_count": 50,
     "metadata": {},
     "output_type": "execute_result"
    },
    {
     "data": {
      "text/plain": [
       "array([ 1,  2,  5,  8,  9, 10])"
      ]
     },
     "execution_count": 50,
     "metadata": {},
     "output_type": "execute_result"
    }
   ],
   "source": [
    "# 'argsort' returns positions of items according to their ascending\n",
    "# order(1, 2, 5, 8, 9, 10) while 1column array applied\n",
    "\n",
    "x = np.array([1, 10, 5, 2, 8, 9])\n",
    "sort_index = np.argsort(x) #var name is useful to make some operations\n",
    "sort_index\n",
    "x[sort_index]"
   ]
  },
  {
   "cell_type": "code",
   "execution_count": 51,
   "metadata": {},
   "outputs": [
    {
     "data": {
      "text/plain": [
       "array([[3, 3, 2],\n",
       "       [1, 1, 5],\n",
       "       [4, 5, 3],\n",
       "       [1, 4, 2]])"
      ]
     },
     "execution_count": 51,
     "metadata": {},
     "output_type": "execute_result"
    },
    {
     "data": {
      "text/plain": [
       "array([[1, 1, 5],\n",
       "       [1, 4, 2],\n",
       "       [3, 3, 2],\n",
       "       [4, 5, 3]])"
      ]
     },
     "execution_count": 51,
     "metadata": {},
     "output_type": "execute_result"
    }
   ],
   "source": [
    "# using argsort function for sorting arrays with more than 1 columns\n",
    "# sorting based on one column (1st)\n",
    "arr\n",
    "sorted_index_1stcol = arr[:, 0].argsort()\n",
    "arr[sorted_index_1stcol] # rows not disturbed"
   ]
  },
  {
   "cell_type": "code",
   "execution_count": 52,
   "metadata": {},
   "outputs": [
    {
     "data": {
      "text/plain": [
       "array([[3, 4, 5, 5],\n",
       "       [2, 4, 5, 5],\n",
       "       [4, 4, 4, 2],\n",
       "       [2, 4, 1, 3],\n",
       "       [2, 2, 4, 3],\n",
       "       [4, 1, 2, 1],\n",
       "       [5, 3, 1, 1],\n",
       "       [3, 3, 2, 1]])"
      ]
     },
     "execution_count": 52,
     "metadata": {},
     "output_type": "execute_result"
    },
    {
     "data": {
      "text/plain": [
       "array([[2, 2, 4, 3],\n",
       "       [2, 4, 5, 5],\n",
       "       [2, 4, 1, 3],\n",
       "       [3, 3, 2, 1],\n",
       "       [3, 4, 5, 5],\n",
       "       [4, 1, 2, 1],\n",
       "       [4, 4, 4, 2],\n",
       "       [5, 3, 1, 1]])"
      ]
     },
     "execution_count": 52,
     "metadata": {},
     "output_type": "execute_result"
    }
   ],
   "source": [
    "# sorting based on 2 or more columns (columns listed from right to left)\n",
    "# sorting by column 0, then by column 11\n",
    "\n",
    "arr2 = np.random.randint(1, 6, size=[8,4])\n",
    "arr2\n",
    "lexsorted_index = np.lexsort((arr2[:,1], arr2[:,0]))\n",
    "arr2[lexsorted_index] #if values in 1st column are equal the 1nd col\n",
    "                        # sequence is taken into account"
   ]
  },
  {
   "cell_type": "code",
   "execution_count": 53,
   "metadata": {},
   "outputs": [
    {
     "data": {
      "text/plain": [
       "numpy.datetime64('2018-09-06T13:19:00')"
      ]
     },
     "execution_count": 53,
     "metadata": {},
     "output_type": "execute_result"
    }
   ],
   "source": [
    "# working with dates to create YYYY-MM-DD formatted date strings\n",
    "\n",
    "date64 = np.datetime64('2018-09-06 13:19:00')\n",
    "date64"
   ]
  },
  {
   "cell_type": "code",
   "execution_count": 54,
   "metadata": {},
   "outputs": [
    {
     "data": {
      "text/plain": [
       "numpy.datetime64('2018-09-16')"
      ]
     },
     "execution_count": 54,
     "metadata": {},
     "output_type": "execute_result"
    }
   ],
   "source": [
    "# dropping the time part from the datetime64 object\n",
    "\n",
    "dt64 = np.datetime64(date64 , 'D')\n",
    "dt64 + 10"
   ]
  },
  {
   "cell_type": "code",
   "execution_count": 55,
   "metadata": {},
   "outputs": [
    {
     "name": "stdout",
     "output_type": "stream",
     "text": [
      "10 minutes\n"
     ]
    }
   ],
   "source": [
    "# creating timedeltas (individual units of time)\n",
    "\n",
    "tenminutes = np.timedelta64(10, 'm')\n",
    "tenseconds = np.timedelta64(10, 's')\n",
    "tennanoseconds = np.timedelta64(10, 'ns') # '10 nanoseconds'\n",
    "\n",
    "print(tenminutes)"
   ]
  },
  {
   "cell_type": "code",
   "execution_count": 56,
   "metadata": {},
   "outputs": [
    {
     "name": "stdout",
     "output_type": "stream",
     "text": [
      "Add 10 days:  2018-09-16\n",
      "Add 10 minutes:  2018-09-06T00:10\n",
      "Add 10 seconds:  2018-09-06T00:00:10\n"
     ]
    }
   ],
   "source": [
    "print('Add 10 days: ', dt64 + 10)\n",
    "print('Add 10 minutes: ', dt64 + tenminutes)\n",
    "print('Add 10 seconds: ', dt64 + tenseconds)"
   ]
  },
  {
   "cell_type": "code",
   "execution_count": 57,
   "metadata": {},
   "outputs": [
    {
     "data": {
      "text/plain": [
       "'2018-09-06'"
      ]
     },
     "execution_count": 57,
     "metadata": {},
     "output_type": "execute_result"
    }
   ],
   "source": [
    "# converting np.datetime64 back to a string\n",
    "np.datetime_as_string(dt64)"
   ]
  },
  {
   "cell_type": "code",
   "execution_count": 58,
   "metadata": {},
   "outputs": [
    {
     "name": "stdout",
     "output_type": "stream",
     "text": [
      "Date:  2018-09-06\n",
      "Is it a business day?:  2018-09-06 True\n",
      "Add 2 business days, rolling forward to nearest biz day:  2018-09-10\n",
      "Subtract 5 business days, rolling backward to nearest biz day:  2018-08-30\n"
     ]
    }
   ],
   "source": [
    "# filtering out the business day from the given data\n",
    "\n",
    "print('Date: ', dt64)\n",
    "print('Is it a business day?: ', dt64, np.is_busday(dt64))\n",
    "print('Add 2 business days, rolling forward to nearest biz day: ',\n",
    "      np.busday_offset(dt64, 2, roll='forward'))\n",
    "print('Subtract 5 business days, rolling backward to nearest biz day: ',\n",
    "      np.busday_offset(dt64, -5, roll='backward'))"
   ]
  },
  {
   "cell_type": "code",
   "execution_count": 59,
   "metadata": {},
   "outputs": [
    {
     "name": "stdout",
     "output_type": "stream",
     "text": [
      "['2018-09-06' '2018-09-07' '2018-09-08' '2018-09-09' '2018-09-10'\n",
      " '2018-09-11' '2018-09-12' '2018-09-13' '2018-09-14' '2018-09-15'\n",
      " '2018-09-16' '2018-09-17' '2018-09-18' '2018-09-19' '2018-09-20']\n"
     ]
    },
    {
     "data": {
      "text/plain": [
       "array([ True,  True, False, False,  True,  True,  True,  True,  True,\n",
       "       False, False,  True,  True,  True,  True])"
      ]
     },
     "execution_count": 59,
     "metadata": {},
     "output_type": "execute_result"
    }
   ],
   "source": [
    "# creating date sequences\n",
    "\n",
    "dates = np.arange(np.datetime64('2018-09-06'), np.datetime64('2018-09-21'))\n",
    "print(dates)\n",
    "\n",
    "# checking if they are business days\n",
    "np.is_busday(dates)"
   ]
  },
  {
   "cell_type": "code",
   "execution_count": 60,
   "metadata": {},
   "outputs": [
    {
     "data": {
      "text/plain": [
       "datetime.date(2018, 9, 6)"
      ]
     },
     "execution_count": 60,
     "metadata": {},
     "output_type": "execute_result"
    },
    {
     "name": "stdout",
     "output_type": "stream",
     "text": [
      "2018-09-06\n",
      "Year:  2018\n",
      "Day of month:  6\n",
      "Month of year:  9\n",
      "Day of Week:  3\n"
     ]
    }
   ],
   "source": [
    "# converting numpy.datetime64 to datetime.datetime object helps\n",
    "# extracting some things\n",
    "\n",
    "import datetime\n",
    "dt = dt64.tolist()\n",
    "dt\n",
    "print(dt)\n",
    "\n",
    "print('Year: ', dt.year)\n",
    "print('Day of month: ', dt.day)\n",
    "print('Month of year: ', dt.month)\n",
    "print('Day of Week: ', dt.weekday()) # Thursday"
   ]
  },
  {
   "cell_type": "code",
   "execution_count": 61,
   "metadata": {},
   "outputs": [
    {
     "name": "stdout",
     "output_type": "stream",
     "text": [
      "x = 10 returns  5.0\n",
      "x = 11 returns  121\n"
     ]
    }
   ],
   "source": [
    "# making a scalar function workin on vectors\n",
    "\n",
    "def foo(x):\n",
    "    if x % 2 == 1:\n",
    "        return x**2\n",
    "    else:\n",
    "        return x/2\n",
    "\n",
    "print('x = 10 returns ', foo(10))\n",
    "print('x = 11 returns ', foo(11))\n",
    "\n",
    "#print('x = [10, 11, 12] returns ', foo([10, 11, 12])) # does not work"
   ]
  },
  {
   "cell_type": "code",
   "execution_count": 62,
   "metadata": {},
   "outputs": [
    {
     "name": "stdout",
     "output_type": "stream",
     "text": [
      "x = [10,11,12], returns  [  5. 121.   6.]\n",
      "x = [[10,11,12], [1, 2, 3]] returns  [[  5. 121.   6.]\n",
      " [  1.   1.   9.]]\n"
     ]
    }
   ],
   "source": [
    "# vectorizing foo() makes it work on vectors\n",
    "\n",
    "foo_v = np.vectorize(foo, otypes=[float]) # 'vectorize' makes scalar\n",
    "                                        # function working on arrays\n",
    "print('x = [10,11,12], returns ', foo_v([10, 11, 12]))\n",
    "print('x = [[10,11,12], [1, 2, 3]] returns ', foo_v([[10,11,12],[1,2,3]]))"
   ]
  },
  {
   "cell_type": "code",
   "execution_count": 63,
   "metadata": {},
   "outputs": [
    {
     "data": {
      "text/plain": [
       "array([[9, 9, 4, 8, 8, 1, 5, 3, 6, 3],\n",
       "       [3, 3, 2, 1, 9, 5, 1, 7, 3, 5],\n",
       "       [2, 6, 4, 5, 5, 4, 8, 2, 2, 8],\n",
       "       [8, 1, 3, 4, 3, 6, 9, 2, 1, 8]])"
      ]
     },
     "execution_count": 63,
     "metadata": {},
     "output_type": "execute_result"
    },
    {
     "name": "stdout",
     "output_type": "stream",
     "text": [
      "Row wise:  [8 8 6 8]\n",
      "Column wise:  [7 8 2 7 6 5 8 5 5 5]\n"
     ]
    }
   ],
   "source": [
    "# applying a function column wise or row wise\n",
    "\n",
    "# creating a 4x10 random array\n",
    "np.random.seed(100)\n",
    "arr_x = np.random.randint(1, 10, size=[4,10])\n",
    "arr_x\n",
    "\n",
    "# defining a some function that works on 1D vector\n",
    "def max_minus_min(x):\n",
    "    return np.max(x) - np.min(x)\n",
    "\n",
    "# applying along the rows(axis=1) and columns(axis=0)\n",
    "# apply_along_axis parameters: func, axis, array\n",
    "print('Row wise: ', np.apply_along_axis(\n",
    "    max_minus_min, axis=1, arr=arr_x))\n",
    "print('Column wise: ', np.apply_along_axis(\n",
    "    max_minus_min, 0, arr_x))"
   ]
  },
  {
   "cell_type": "code",
   "execution_count": 64,
   "metadata": {},
   "outputs": [
    {
     "name": "stdout",
     "output_type": "stream",
     "text": [
      "[0 1 2 3 4 5 6 7 8 9]\n",
      "Where should 5 be inserted?:  5\n",
      "Where should 5 be inserted (right)?:  6\n"
     ]
    }
   ],
   "source": [
    "# finding the location to insert so the array\n",
    "# will remains sorted\n",
    "# np.sort(np.random.randint(1,10, 20)) - sorting function\n",
    "\n",
    "x = np.arange(10); print(x)\n",
    "print('Where should 5 be inserted?: ',\n",
    "      np.searchsorted(x, 5))\n",
    "print('Where should 5 be inserted (right)?: ',\n",
    "     np.searchsorted(x, 5, side='right')) \n",
    "                            # the last location for 5"
   ]
  },
  {
   "cell_type": "code",
   "execution_count": 65,
   "metadata": {},
   "outputs": [
    {
     "name": "stdout",
     "output_type": "stream",
     "text": [
      "36.8 µs ± 2.42 µs per loop (mean ± std. dev. of 7 runs, 10000 loops each)\n",
      "1.62 ms ± 34.6 µs per loop (mean ± std. dev. of 7 runs, 1000 loops each)\n"
     ]
    }
   ],
   "source": [
    "lst = range(10000)\n",
    "probs = np.random.random(10000) # array of probes <0,1>\n",
    "probs /= probs.sum() # probabilities for each probe\n",
    "#probs.cumsum() # array with cumulative values of probes\n",
    "\n",
    "# comparison of time needed for two searching functions\n",
    "%timeit lst[np.searchsorted(probs.cumsum(), np.random.random())]\n",
    "\n",
    "%timeit np.random.choice(lst, p=probs) #p is optional\n",
    "# searchsorted is around 38 times faster than random.choice\n"
   ]
  },
  {
   "cell_type": "code",
   "execution_count": 66,
   "metadata": {},
   "outputs": [
    {
     "name": "stdout",
     "output_type": "stream",
     "text": [
      "Original array:  [0 1 2 3 4]\n",
      "x_col shape:  (5, 1)\n",
      "[[0]\n",
      " [1]\n",
      " [2]\n",
      " [3]\n",
      " [4]]\n",
      "x_row shape:  (1, 5)\n",
      "[[0 1 2 3 4]]\n"
     ]
    }
   ],
   "source": [
    "# adding new axis to a numpy array\n",
    "\n",
    "x = np.arange(5)\n",
    "print('Original array: ', x)\n",
    "x_col = x[:, np.newaxis] # introducing a new column axis\n",
    "print('x_col shape: ', x_col.shape)\n",
    "print(x_col)\n",
    "\n",
    "x_row = x[np.newaxis, :] # introducing a new row axis\n",
    "print('x_row shape: ', x_row.shape)\n",
    "print(x_row)"
   ]
  },
  {
   "cell_type": "code",
   "execution_count": 67,
   "metadata": {},
   "outputs": [
    {
     "data": {
      "text/plain": [
       "array([1, 1, 1, 2, 2, 2, 3, 3, 3, 4], dtype=int32)"
      ]
     },
     "execution_count": 67,
     "metadata": {},
     "output_type": "execute_result"
    }
   ],
   "source": [
    "# using 'np.digitize' to return the index of the bin\n",
    "# each element belongs to\n",
    "\n",
    "x = np.arange(10)\n",
    "bins =np.array([0, 3, 6, 9])\n",
    "\n",
    "np.digitize(x, bins) # returns number of bins for each \n",
    "                    # array item"
   ]
  },
  {
   "cell_type": "code",
   "execution_count": 68,
   "metadata": {},
   "outputs": [
    {
     "data": {
      "text/plain": [
       "array([0, 1, 2, 3, 4, 5, 6, 7, 8, 9])"
      ]
     },
     "execution_count": 68,
     "metadata": {},
     "output_type": "execute_result"
    },
    {
     "data": {
      "text/plain": [
       "array([3, 3, 3, 3, 4, 5, 6, 7, 8, 8])"
      ]
     },
     "execution_count": 68,
     "metadata": {},
     "output_type": "execute_result"
    }
   ],
   "source": [
    "# replacing numbers which are out of given range with\n",
    "# low or upper limits values\n",
    "x\n",
    "np.clip(x, 3, 8)"
   ]
  },
  {
   "cell_type": "code",
   "execution_count": 69,
   "metadata": {},
   "outputs": [
    {
     "data": {
      "text/plain": [
       "array([0, 2, 3, 0, 2, 1, 3], dtype=int32)"
      ]
     },
     "execution_count": 69,
     "metadata": {},
     "output_type": "execute_result"
    },
    {
     "name": "stdout",
     "output_type": "stream",
     "text": [
      "Counts:  [2 3 3 3]\n"
     ]
    }
   ],
   "source": [
    "# difference between np.histogram and np.bincount\n",
    "\n",
    "x = np.array([1,1,2,2,2,4,4,5,6,6,6])\n",
    "np.bincount(x) # 0 occurs 0 times, 1 occurs 2 times, ...\n",
    "\n",
    "counts, bins = np.histogram(x, [0, 2, 4, 6, 8])\n",
    "print('Counts: ', counts) # number of elements in each bin"
   ]
  },
  {
   "cell_type": "code",
   "execution_count": 76,
   "metadata": {},
   "outputs": [
    {
     "data": {
      "text/plain": [
       "{}"
      ]
     },
     "execution_count": 76,
     "metadata": {},
     "output_type": "execute_result"
    },
    {
     "data": {
      "text/plain": [
       "mappingproxy({'__dict__': <attribute '__dict__' of 'C' objects>,\n",
       "              '__doc__': None,\n",
       "              '__module__': '__main__',\n",
       "              '__weakref__': <attribute '__weakref__' of 'C' objects>,\n",
       "              'x': 4})"
      ]
     },
     "execution_count": 76,
     "metadata": {},
     "output_type": "execute_result"
    }
   ],
   "source": [
    "class C(object):\n",
    "    x = 4\n",
    " \n",
    "c = C()\n",
    "#c.y = 5\n",
    "c.__dict__\n",
    "C.__dict__"
   ]
  },
  {
   "cell_type": "code",
   "execution_count": null,
   "metadata": {},
   "outputs": [],
   "source": []
  }
 ],
 "metadata": {
  "kernelspec": {
   "display_name": "Python 3",
   "language": "python",
   "name": "python3"
  },
  "language_info": {
   "codemirror_mode": {
    "name": "ipython",
    "version": 3
   },
   "file_extension": ".py",
   "mimetype": "text/x-python",
   "name": "python",
   "nbconvert_exporter": "python",
   "pygments_lexer": "ipython3",
   "version": "3.6.1"
  }
 },
 "nbformat": 4,
 "nbformat_minor": 2
}
