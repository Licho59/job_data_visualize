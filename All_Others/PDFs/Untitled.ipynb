{
 "cells": [
  {
   "cell_type": "markdown",
   "metadata": {
    "toc": true
   },
   "source": [
    "<h1>Table of Contents<span class=\"tocSkip\"></span></h1>\n",
    "<div class=\"toc\"><ul class=\"toc-item\"></ul></div>"
   ]
  },
  {
   "cell_type": "code",
   "execution_count": 1,
   "metadata": {
    "ExecuteTime": {
     "end_time": "2019-04-08T12:40:31.973617Z",
     "start_time": "2019-04-08T12:40:31.895617Z"
    }
   },
   "outputs": [],
   "source": [
    "import PyPDF2, os"
   ]
  },
  {
   "cell_type": "code",
   "execution_count": 2,
   "metadata": {
    "ExecuteTime": {
     "end_time": "2019-04-08T12:40:33.109527Z",
     "start_time": "2019-04-08T12:40:33.015926Z"
    }
   },
   "outputs": [
    {
     "name": "stdout",
     "output_type": "stream",
     "text": [
      "['encrypted.pdf', 'meetingminutes.pdf', 'watermarkedCover.pdf', 'zencryptedminutes.pdf']\n"
     ]
    }
   ],
   "source": [
    "# getting all the PDF filenames\n",
    "pdfFiles = []\n",
    "for filename in os.listdir('.\\pdfs'):\n",
    "    if filename.endswith('.pdf'):\n",
    "        pdfFiles.append(filename)\n",
    "    pdfFiles.sort(key=str.lower)\n",
    "\n",
    "pdfWriter = PyPDF2.PdfFileWriter()\n",
    "print(pdfFiles)"
   ]
  },
  {
   "cell_type": "code",
   "execution_count": 3,
   "metadata": {
    "ExecuteTime": {
     "end_time": "2019-04-08T12:40:34.392147Z",
     "start_time": "2019-04-08T12:40:34.242337Z"
    }
   },
   "outputs": [
    {
     "name": "stdout",
     "output_type": "stream",
     "text": [
      ".\\pdfs\\encrypted.pdf\n",
      ".\\pdfs\\zencryptedminutes.pdf\n"
     ]
    }
   ],
   "source": [
    "for file in pdfFiles:\n",
    "    file = '.\\pdfs\\\\' + file\n",
    "    pdfReader = PyPDF2.PdfFileReader(open(file, 'rb'))\n",
    "    if pdfReader.isEncrypted:\n",
    "        for password in ['swordfish', 'rosebud']:\n",
    "            if pdfReader.decrypt(password)== 1:\n",
    "                print(file)\n",
    "                break\n",
    "    "
   ]
  },
  {
   "cell_type": "code",
   "execution_count": 4,
   "metadata": {
    "ExecuteTime": {
     "end_time": "2019-04-08T12:40:36.530865Z",
     "start_time": "2019-04-08T12:40:35.890261Z"
    }
   },
   "outputs": [],
   "source": [
    "# looping through all the PDF files\n",
    "for file in pdfFiles:\n",
    "    filename = '.\\pdfs\\\\' + file\n",
    "    pdfFileObj = open(filename, 'rb')\n",
    "    pdfReader = PyPDF2.PdfFileReader(pdfFileObj)\n",
    "\n",
    "    if pdfReader.isEncrypted:\n",
    "        for password in ['rosebud','swordfish']:\n",
    "            if pdfReader.decrypt(password) == 1:\n",
    "                break\n",
    "       \n",
    "    # looping through all pages (except the first one)\n",
    "    \n",
    "    for pageNum in range(1, pdfReader.numPages):\n",
    "        pageObj = pdfReader.getPage(pageNum)\n",
    "        pdfWriter.addPage(pageObj)\n",
    "\n",
    "    # saving the resulting PDF to a file\n",
    "    pdfOutput = open('allminutes.pdf', 'wb')\n",
    "    pdfWriter.write(pdfOutput)\n",
    "    pdfOutput.close()\n",
    "    "
   ]
  },
  {
   "cell_type": "code",
   "execution_count": null,
   "metadata": {},
   "outputs": [],
   "source": []
  }
 ],
 "metadata": {
  "kernelspec": {
   "display_name": "Python 3",
   "language": "python",
   "name": "python3"
  },
  "language_info": {
   "codemirror_mode": {
    "name": "ipython",
    "version": 3
   },
   "file_extension": ".py",
   "mimetype": "text/x-python",
   "name": "python",
   "nbconvert_exporter": "python",
   "pygments_lexer": "ipython3",
   "version": "3.6.1"
  },
  "toc": {
   "base_numbering": 1,
   "nav_menu": {},
   "number_sections": true,
   "sideBar": true,
   "skip_h1_title": true,
   "title_cell": "Table of Contents",
   "title_sidebar": "Contents",
   "toc_cell": true,
   "toc_position": {},
   "toc_section_display": true,
   "toc_window_display": false
  }
 },
 "nbformat": 4,
 "nbformat_minor": 2
}
