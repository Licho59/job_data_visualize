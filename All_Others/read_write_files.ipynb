{
 "cells": [
  {
   "cell_type": "markdown",
   "metadata": {},
   "source": [
    "<h3>Reading and writing files</h3>"
   ]
  },
  {
   "cell_type": "markdown",
   "metadata": {},
   "source": [
    "<h4>Folder and file paths</h4>"
   ]
  },
  {
   "cell_type": "code",
   "execution_count": 47,
   "metadata": {},
   "outputs": [
    {
     "data": {
      "text/plain": [
       "'usr\\\\bin\\\\spam'"
      ]
     },
     "execution_count": 47,
     "metadata": {},
     "output_type": "execute_result"
    }
   ],
   "source": [
    "# based on 'Automate the boring stuff' book\n",
    "\n",
    "# creating filepaths by joining folder path with filename\n",
    "import os\n",
    "os.path.join('usr', 'bin', 'spam') # windows uses backslashes"
   ]
  },
  {
   "cell_type": "code",
   "execution_count": 2,
   "metadata": {},
   "outputs": [
    {
     "name": "stdout",
     "output_type": "stream",
     "text": [
      "C:\\Users\\14000322\\accounts.txt\n",
      "C:\\Users\\14000322\\details.csv\n",
      "C:\\Users\\14000322\\invite.docx\n"
     ]
    }
   ],
   "source": [
    "myFiles = ['accounts.txt', 'details.csv', 'invite.docx']\n",
    "for filename in myFiles:\n",
    "    print(os.path.join('C:\\\\Users\\\\14000322', filename))"
   ]
  },
  {
   "cell_type": "code",
   "execution_count": 3,
   "metadata": {},
   "outputs": [
    {
     "data": {
      "text/plain": [
       "'C:\\\\Users\\\\14000322\\\\AppData\\\\Local\\\\Programs\\\\Python\\\\Python36-32\\\\Scripts'"
      ]
     },
     "execution_count": 3,
     "metadata": {},
     "output_type": "execute_result"
    }
   ],
   "source": [
    "# current working directory\n",
    "os.getcwd()"
   ]
  },
  {
   "cell_type": "code",
   "execution_count": 4,
   "metadata": {},
   "outputs": [
    {
     "data": {
      "text/plain": [
       "'c:\\\\Users\\\\14000322'"
      ]
     },
     "execution_count": 4,
     "metadata": {},
     "output_type": "execute_result"
    }
   ],
   "source": [
    "# changing the current folder\n",
    "os.chdir('c:\\\\Users\\\\14000322')\n",
    "os.getcwd()"
   ]
  },
  {
   "cell_type": "code",
   "execution_count": 5,
   "metadata": {},
   "outputs": [
    {
     "data": {
      "text/plain": [
       "'c:\\\\Users\\\\14000322'"
      ]
     },
     "execution_count": 5,
     "metadata": {},
     "output_type": "execute_result"
    },
    {
     "data": {
      "text/plain": [
       "'.\\\\14000322'"
      ]
     },
     "execution_count": 5,
     "metadata": {},
     "output_type": "execute_result"
    }
   ],
   "source": [
    "# absolute vs. relative paths\n",
    "os.getcwd()\n",
    "'.\\\\14000322'"
   ]
  },
  {
   "cell_type": "code",
   "execution_count": 7,
   "metadata": {},
   "outputs": [],
   "source": [
    "# creating a new folder\n",
    "os.makedirs('C://Users//14000322/Documents/Kolorowy')"
   ]
  },
  {
   "cell_type": "code",
   "execution_count": 15,
   "metadata": {},
   "outputs": [
    {
     "data": {
      "text/plain": [
       "'c:\\\\Users\\\\14000322\\\\path'"
      ]
     },
     "execution_count": 15,
     "metadata": {},
     "output_type": "execute_result"
    },
    {
     "data": {
      "text/plain": [
       "False"
      ]
     },
     "execution_count": 15,
     "metadata": {},
     "output_type": "execute_result"
    },
    {
     "data": {
      "text/plain": [
       "True"
      ]
     },
     "execution_count": 15,
     "metadata": {},
     "output_type": "execute_result"
    }
   ],
   "source": [
    "# getting the absolute path of the argument\n",
    "os.path.abspath('path')\n",
    "# checking if given arg is the absolute path or not\n",
    "os.path.isabs('path')\n",
    "os.path.isabs(\"C:\\\\Users\\\\14000322\\\\accounts.txt\")"
   ]
  },
  {
   "cell_type": "code",
   "execution_count": 18,
   "metadata": {},
   "outputs": [
    {
     "data": {
      "text/plain": [
       "'c:\\\\Users\\\\14000322'"
      ]
     },
     "execution_count": 18,
     "metadata": {},
     "output_type": "execute_result"
    },
    {
     "data": {
      "text/plain": [
       "'c:\\\\Users\\\\14000322'"
      ]
     },
     "execution_count": 18,
     "metadata": {},
     "output_type": "execute_result"
    }
   ],
   "source": [
    "# different functions but the same result\n",
    "os.getcwd()\n",
    "os.path.abspath('.')"
   ]
  },
  {
   "cell_type": "code",
   "execution_count": 21,
   "metadata": {},
   "outputs": [
    {
     "data": {
      "text/plain": [
       "False"
      ]
     },
     "execution_count": 21,
     "metadata": {},
     "output_type": "execute_result"
    },
    {
     "data": {
      "text/plain": [
       "True"
      ]
     },
     "execution_count": 21,
     "metadata": {},
     "output_type": "execute_result"
    }
   ],
   "source": [
    "# checkig if '.' is absolute path and confronting it with\n",
    "# given absolute path from abspath() function\n",
    "os.path.isabs('.')\n",
    "os.path.isabs(os.path.abspath('.'))"
   ]
  },
  {
   "cell_type": "code",
   "execution_count": 22,
   "metadata": {},
   "outputs": [
    {
     "data": {
      "text/plain": [
       "'C:\\\\Users\\\\14000322\\\\Documents'"
      ]
     },
     "execution_count": 22,
     "metadata": {},
     "output_type": "execute_result"
    },
    {
     "data": {
      "text/plain": [
       "'Kolorowy'"
      ]
     },
     "execution_count": 22,
     "metadata": {},
     "output_type": "execute_result"
    }
   ],
   "source": [
    "# using dirname() and basename() functions\n",
    "path = 'C:\\\\Users\\\\14000322\\\\Documents\\\\Kolorowy'\n",
    "os.path.dirname(path)\n",
    "os.path.basename(path)"
   ]
  },
  {
   "cell_type": "code",
   "execution_count": 24,
   "metadata": {},
   "outputs": [
    {
     "data": {
      "text/plain": [
       "('C:\\\\Users\\\\14000322\\\\Documents', 'Kolorowy')"
      ]
     },
     "execution_count": 24,
     "metadata": {},
     "output_type": "execute_result"
    },
    {
     "data": {
      "text/plain": [
       "('C:\\\\Users\\\\14000322\\\\Documents', 'Kolorowy')"
      ]
     },
     "execution_count": 24,
     "metadata": {},
     "output_type": "execute_result"
    }
   ],
   "source": [
    "# split() function returns both results of dirname and basename\n",
    "os.path.split(path)\n",
    "(os.path.dirname(path), os.path.basename(path))"
   ]
  },
  {
   "cell_type": "code",
   "execution_count": 25,
   "metadata": {},
   "outputs": [
    {
     "data": {
      "text/plain": [
       "['C:', 'Users', '14000322', 'Documents', 'Kolorowy']"
      ]
     },
     "execution_count": 25,
     "metadata": {},
     "output_type": "execute_result"
    }
   ],
   "source": [
    "# using the string split() method to return all parts of the path\n",
    "path.split(os.path.sep)"
   ]
  },
  {
   "cell_type": "markdown",
   "metadata": {},
   "source": [
    "<h4>File size and folder content</h4>"
   ]
  },
  {
   "cell_type": "code",
   "execution_count": 35,
   "metadata": {},
   "outputs": [
    {
     "data": {
      "text/plain": [
       "55296"
      ]
     },
     "execution_count": 35,
     "metadata": {},
     "output_type": "execute_result"
    },
    {
     "data": {
      "text/plain": [
       "['abc.txt', 'ekuz_ustawa1538543972.pdf', 'PLAN URLOPÓW 2018 IRI.doc']"
      ]
     },
     "execution_count": 35,
     "metadata": {},
     "output_type": "execute_result"
    }
   ],
   "source": [
    "# finding file sizes and folder contents\n",
    "os.path.getsize('C:\\\\Users\\\\14000322\\\\Documents\\\\Kolorowy\\\\PLAN URLOPÓW 2018 IRI.doc')\n",
    "os.listdir('C:\\\\Users\\\\14000322\\\\Documents\\\\Kolorowy')"
   ]
  },
  {
   "cell_type": "code",
   "execution_count": 37,
   "metadata": {},
   "outputs": [
    {
     "name": "stdout",
     "output_type": "stream",
     "text": [
      "abc.txt\n",
      "ekuz_ustawa1538543972.pdf\n",
      "PLAN URLOPÓW 2018 IRI.doc\n"
     ]
    }
   ],
   "source": [
    "for elm in os.listdir('C:\\\\Users\\\\14000322\\\\Documents\\\\Kolorowy'):\n",
    "    print(elm)"
   ]
  },
  {
   "cell_type": "code",
   "execution_count": 46,
   "metadata": {},
   "outputs": [
    {
     "name": "stdout",
     "output_type": "stream",
     "text": [
      "415182\n"
     ]
    }
   ],
   "source": [
    "# total size of all files in directory by using: getsize() and listdir()\n",
    "totalSize = 0\n",
    "for filename in os.listdir('C:\\\\Users\\\\14000322\\\\Documents\\\\Kolorowy'):\n",
    "    totalSize += os.path.getsize(os.path.join('C:\\\\Users\\\\14000322\\\\Documents\\\\Kolorowy', filename))\n",
    "print(totalSize)\n"
   ]
  },
  {
   "cell_type": "markdown",
   "metadata": {},
   "source": [
    "<h4>Checking  the path validity</h4>"
   ]
  },
  {
   "cell_type": "code",
   "execution_count": 63,
   "metadata": {},
   "outputs": [
    {
     "data": {
      "text/plain": [
       "True"
      ]
     },
     "execution_count": 63,
     "metadata": {},
     "output_type": "execute_result"
    },
    {
     "data": {
      "text/plain": [
       "False"
      ]
     },
     "execution_count": 63,
     "metadata": {},
     "output_type": "execute_result"
    },
    {
     "data": {
      "text/plain": [
       "False"
      ]
     },
     "execution_count": 63,
     "metadata": {},
     "output_type": "execute_result"
    }
   ],
   "source": [
    "# functions: exists(path), isfile(path), isdir(path)\n",
    "os.path.exists('C:\\\\Windows')\n",
    "os.path.exists('C:\\\\Users\\\\14000322\\\\Niekolorowy')\n",
    "os.path.exists('E:\\\\') #checking if some DVD or flash"
   ]
  },
  {
   "cell_type": "code",
   "execution_count": 56,
   "metadata": {},
   "outputs": [
    {
     "data": {
      "text/plain": [
       "True"
      ]
     },
     "execution_count": 56,
     "metadata": {},
     "output_type": "execute_result"
    },
    {
     "data": {
      "text/plain": [
       "False"
      ]
     },
     "execution_count": 56,
     "metadata": {},
     "output_type": "execute_result"
    },
    {
     "data": {
      "text/plain": [
       "True"
      ]
     },
     "execution_count": 56,
     "metadata": {},
     "output_type": "execute_result"
    }
   ],
   "source": [
    "os.path.isdir('C:\\\\Users\\\\14000322\\\\Documents\\\\Kolorowy')\n",
    "os.path.isdir('C:\\\\Users\\\\14000322\\\\Documents\\\\Kolorowy\\\\abc.txt')\n",
    "os.path.isfile('C:\\\\Users\\\\14000322\\\\Documents\\\\Kolorowy\\\\abc.txt')"
   ]
  },
  {
   "cell_type": "markdown",
   "metadata": {},
   "source": [
    "<h4>File reading/writing process</h4"
   ]
  },
  {
   "cell_type": "code",
   "execution_count": 64,
   "metadata": {},
   "outputs": [],
   "source": [
    "# python scripts or text files with .txt are plaintext files,\n",
    "# which contain only text but not font, size, color info\n",
    "\n",
    "# binary files are all other file types(pdf, doc, spreadsheet, exe, etc),\n",
    "# they can not be open with text editors like Notepad, TextEdit\n"
   ]
  },
  {
   "cell_type": "code",
   "execution_count": 69,
   "metadata": {},
   "outputs": [
    {
     "data": {
      "text/plain": [
       "'c:\\\\Users\\\\14000322'"
      ]
     },
     "execution_count": 69,
     "metadata": {},
     "output_type": "execute_result"
    }
   ],
   "source": [
    "os.getcwd()"
   ]
  },
  {
   "cell_type": "code",
   "execution_count": 100,
   "metadata": {},
   "outputs": [
    {
     "data": {
      "text/plain": [
       "_io.TextIOWrapper"
      ]
     },
     "execution_count": 100,
     "metadata": {},
     "output_type": "execute_result"
    }
   ],
   "source": [
    "# open(), read(), write(), close() - python operations to open, read files and write in them\n",
    "path = 'C:\\\\Users\\\\14000322\\\\Documents\\\\Kolorowy\\\\abra.txt'\n",
    "rel_path = '.\\\\Documents\\\\Kolorowy\\\\abc.txt'\n",
    "helloFile = open(path) # it returns File object\n",
    "rel_helloFile = open(rel_path)\n",
    "# open() with 'r' argument, although it is default\n",
    "helloFile = open(path, 'r')\n",
    "type(hellFile)"
   ]
  },
  {
   "cell_type": "code",
   "execution_count": 102,
   "metadata": {},
   "outputs": [
    {
     "data": {
      "text/plain": [
       "'Hello World!'"
      ]
     },
     "execution_count": 102,
     "metadata": {},
     "output_type": "execute_result"
    },
    {
     "data": {
      "text/plain": [
       "[\"When, in disgrace with fortune and men's eyes,\\n\",\n",
       " 'I all alone beweep my outcast state,\\n',\n",
       " 'And trouble deaf heaven with my bootless cries,\\n',\n",
       " 'And look upon myself and curse my fate,']"
      ]
     },
     "execution_count": 102,
     "metadata": {},
     "output_type": "execute_result"
    }
   ],
   "source": [
    "# files reading - all text - read() function\n",
    "helloFile = open(path)\n",
    "helloContent = helloFile.read()\n",
    "helloContent\n",
    "# file reading - line by line - readlines() function\n",
    "hello = open('C://Users/14000322/Documents/Kolorowy/hello.txt')\n",
    "hello.readlines()"
   ]
  },
  {
   "cell_type": "code",
   "execution_count": 116,
   "metadata": {},
   "outputs": [
    {
     "data": {
      "text/plain": [
       "13"
      ]
     },
     "execution_count": 116,
     "metadata": {},
     "output_type": "execute_result"
    },
    {
     "data": {
      "text/plain": [
       "33"
      ]
     },
     "execution_count": 116,
     "metadata": {},
     "output_type": "execute_result"
    },
    {
     "name": "stdout",
     "output_type": "stream",
     "text": [
      "Hello world!\n",
      "Bacon is not a vegetable, really?\n"
     ]
    }
   ],
   "source": [
    "# writing to file with write()function -overwrites existing file!\n",
    "# or with append() function - appends to the end of file\n",
    "# close() function necessary before opening again the file\n",
    "# when file does not exist open with 'w'or 'a' creates new file\n",
    "#os.path.abspath('.') # checking the current folder\n",
    "os.chdir('C:\\\\Users\\\\14000322\\\\Documents\\\\Kolorowy')\n",
    "\n",
    "baconFile = open('bacon.txt', 'w')\n",
    "# returns number of characters, '\\n' added \n",
    "# because write method does not add it automatically\n",
    "baconFile.write('Hello world!\\n')\n",
    "baconFile.close()\n",
    "\n",
    "baconFile = open('bacon.txt', 'a')\n",
    "baconFile.write('Bacon is not a vegetable, really?')\n",
    "baconFile.close()\n",
    "\n",
    "baconFile = open('bacon.txt')\n",
    "content = baconFile.read()\n",
    "baconFile.close()\n",
    "print(content) # file content available even though the file is closed"
   ]
  },
  {
   "cell_type": "markdown",
   "metadata": {},
   "source": [
    "<h4>Saving variables with the SHELVE module</h4>"
   ]
  },
  {
   "cell_type": "code",
   "execution_count": 123,
   "metadata": {},
   "outputs": [
    {
     "data": {
      "text/plain": [
       "shelve.DbfilenameShelf"
      ]
     },
     "execution_count": 123,
     "metadata": {},
     "output_type": "execute_result"
    },
    {
     "data": {
      "text/plain": [
       "['Zophie', 'Pooka', 'Simon']"
      ]
     },
     "execution_count": 123,
     "metadata": {},
     "output_type": "execute_result"
    }
   ],
   "source": [
    "# saving variables to binary shelf files makes python scripts\n",
    "# safe from changing its code\n",
    "import shelve\n",
    "# three files with '.bak', 'dat', 'dir' extensions are created (in OS X only '.db' file)\n",
    "shelfFile = shelve.open('mydata') \n",
    "cats = ['Zophie', 'Pooka', 'Simon']\n",
    "# shelf file can be edited like dictionary\n",
    "shelfFile['cats'] = cats\n",
    "shelfFile.close()\n",
    "\n",
    "# only shelv.open() function is enough to open and edit the file\n",
    "shelfFile = shelve.open('mydata')\n",
    "type(shelfFile)\n",
    "shelfFile['cats']\n",
    "shelfFile.close()"
   ]
  },
  {
   "cell_type": "code",
   "execution_count": 124,
   "metadata": {},
   "outputs": [
    {
     "data": {
      "text/plain": [
       "KeysView(<shelve.DbfilenameShelf object at 0x05D182F0>)"
      ]
     },
     "execution_count": 124,
     "metadata": {},
     "output_type": "execute_result"
    },
    {
     "data": {
      "text/plain": [
       "['cats']"
      ]
     },
     "execution_count": 124,
     "metadata": {},
     "output_type": "execute_result"
    },
    {
     "data": {
      "text/plain": [
       "[['Zophie', 'Pooka', 'Simon']]"
      ]
     },
     "execution_count": 124,
     "metadata": {},
     "output_type": "execute_result"
    }
   ],
   "source": [
    "# getting keys or values of the shelf file needs to use list() method\n",
    "shelfFile = shelve.open('mydata')\n",
    "shelfFile.keys() # does not return keys\n",
    "list(shelfFile.keys())\n",
    "list(shelfFile.values())\n",
    "shelfFile.close()"
   ]
  },
  {
   "cell_type": "code",
   "execution_count": 135,
   "metadata": {},
   "outputs": [
    {
     "name": "stdout",
     "output_type": "stream",
     "text": [
      "[{'desc': 'chubby', 'name': 'Zophie'}, {'desc': 'fluffy', 'name': 'Pooka'}]\n",
      "[{'name': 'Zophie', 'desc': 'chubby'}, {'name': 'Pooka', 'desc': 'fluffy'}]\n"
     ]
    },
    {
     "data": {
      "text/plain": [
       "\"[{'desc': 'chubby', 'name': 'Zophie'}, {'desc': 'fluffy', 'name': 'Pooka'}]\""
      ]
     },
     "execution_count": 135,
     "metadata": {},
     "output_type": "execute_result"
    },
    {
     "data": {
      "text/plain": [
       "83"
      ]
     },
     "execution_count": 135,
     "metadata": {},
     "output_type": "execute_result"
    }
   ],
   "source": [
    "# saving the variables with the pprint.pformat() function\n",
    "import pprint\n",
    "cats = [{'name': 'Zophie', 'desc': 'chubby'},\n",
    "        {'name': 'Pooka', 'desc': 'fluffy'}]\n",
    "pprint.pprint(cats)\n",
    "print(cats) # it looks the same\n",
    "\n",
    "pprint.pformat(cats)\n",
    "\n",
    "# creating a .py file ( like txt files) is due to the content\n",
    "# which can be read and modified with simple text editor\n",
    "fileObj = open('myCats.py', 'w')\n",
    "fileObj.write('cats = ' + pprint.pformat(cats) + '\\n')\n",
    "fileObj.close()"
   ]
  },
  {
   "cell_type": "code",
   "execution_count": 136,
   "metadata": {},
   "outputs": [
    {
     "data": {
      "text/plain": [
       "[{'desc': 'chubby', 'name': 'Zophie'}, {'desc': 'fluffy', 'name': 'Pooka'}]"
      ]
     },
     "execution_count": 136,
     "metadata": {},
     "output_type": "execute_result"
    },
    {
     "data": {
      "text/plain": [
       "'Zophie'"
      ]
     },
     "execution_count": 136,
     "metadata": {},
     "output_type": "execute_result"
    }
   ],
   "source": [
    "# myCats is Python module so it can be used according to language rules\n",
    "import myCats\n",
    "\n",
    "myCats.cats\n",
    "myCats.cats[0]['name']\n",
    "# Saving data with shelve module is preferred for more complex\n",
    "# data in opposite to basic types(integers,floats, strings, lists, dicts)"
   ]
  }
 ],
 "metadata": {
  "kernelspec": {
   "display_name": "Python 3",
   "language": "python",
   "name": "python3"
  },
  "language_info": {
   "codemirror_mode": {
    "name": "ipython",
    "version": 3
   },
   "file_extension": ".py",
   "mimetype": "text/x-python",
   "name": "python",
   "nbconvert_exporter": "python",
   "pygments_lexer": "ipython3",
   "version": "3.6.1"
  }
 },
 "nbformat": 4,
 "nbformat_minor": 2
}
