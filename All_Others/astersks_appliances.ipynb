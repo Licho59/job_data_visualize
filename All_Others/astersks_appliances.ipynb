{
 "cells": [
  {
   "cell_type": "raw",
   "metadata": {},
   "source": [
    "After Trey Hunter:\n",
    "\"Asterisks in Python: what they are and how to use them'."
   ]
  },
  {
   "cell_type": "markdown",
   "metadata": {
    "toc": true
   },
   "source": [
    "<h1>Table of Contents<span class=\"tocSkip\"></span></h1>\n",
    "<div class=\"toc\"><ul class=\"toc-item\"><li><span><a href=\"#Examples-of-using-asterisks-in-Python\" data-toc-modified-id=\"Examples-of-using-asterisks-in-Python-1\"><span class=\"toc-item-num\">1&nbsp;&nbsp;</span>Examples of using asterisks in Python</a></span><ul class=\"toc-item\"><li><span><a href=\"#Astersks-for-unpacking-into-function-call-(instead-of-indexing-of-each-element\" data-toc-modified-id=\"Astersks-for-unpacking-into-function-call-(instead-of-indexing-of-each-element-1.1\"><span class=\"toc-item-num\">1.1&nbsp;&nbsp;</span>Astersks for unpacking into function call (instead of indexing of each element</a></span></li><li><span><a href=\"#Asterisks-for-packing-arguments-given-to-function\" data-toc-modified-id=\"Asterisks-for-packing-arguments-given-to-function-1.2\"><span class=\"toc-item-num\">1.2&nbsp;&nbsp;</span>Asterisks for packing arguments given to function</a></span></li><li><span><a href=\"#Positional-arguments-with-keyword-only-arguments\" data-toc-modified-id=\"Positional-arguments-with-keyword-only-arguments-1.3\"><span class=\"toc-item-num\">1.3&nbsp;&nbsp;</span>Positional arguments with keyword-only arguments</a></span></li><li><span><a href=\"#Keyword-only-arguments-without-positional-arguments\" data-toc-modified-id=\"Keyword-only-arguments-without-positional-arguments-1.4\"><span class=\"toc-item-num\">1.4&nbsp;&nbsp;</span>Keyword-only arguments without positional arguments</a></span></li><li><span><a href=\"#Asterisks-in-tuple-unpacking\" data-toc-modified-id=\"Asterisks-in-tuple-unpacking-1.5\"><span class=\"toc-item-num\">1.5&nbsp;&nbsp;</span>Asterisks in tuple unpacking</a></span></li><li><span><a href=\"#Asterisks-in-list-literals\" data-toc-modified-id=\"Asterisks-in-list-literals-1.6\"><span class=\"toc-item-num\">1.6&nbsp;&nbsp;</span>Asterisks in list literals</a></span></li><li><span><a href=\"#Double-asterisks-in-dictionary-literals\" data-toc-modified-id=\"Double-asterisks-in-dictionary-literals-1.7\"><span class=\"toc-item-num\">1.7&nbsp;&nbsp;</span>Double asterisks in dictionary literals</a></span></li></ul></li></ul></div>"
   ]
  },
  {
   "cell_type": "markdown",
   "metadata": {},
   "source": [
    "## Examples of using asterisks in Python"
   ]
  },
  {
   "cell_type": "markdown",
   "metadata": {},
   "source": [
    "###  Astersks for unpacking into function call (instead of indexing of each element"
   ]
  },
  {
   "cell_type": "code",
   "execution_count": 3,
   "metadata": {
    "ExecuteTime": {
     "end_time": "2019-04-12T07:58:30.837904Z",
     "start_time": "2019-04-12T07:58:30.821903Z"
    }
   },
   "outputs": [
    {
     "name": "stdout",
     "output_type": "stream",
     "text": [
      "lemon pear watermelon tomato\n",
      "lemon pear watermelon tomato\n"
     ]
    }
   ],
   "source": [
    " fruits = ['lemon', 'pear', 'watermelon', 'tomato']\n",
    "# without asterisks you need to index each element of iterable object\n",
    "print(fruits[0], fruits[1], fruits[2], fruits[3])\n",
    "\n",
    "# by passing all of the items of 'fruits' iterable into print() function call as\n",
    "# separate arguments (no need to know how many of arguments are in the list)\n",
    "print(*fruits)"
   ]
  },
  {
   "cell_type": "code",
   "execution_count": 8,
   "metadata": {
    "ExecuteTime": {
     "end_time": "2019-04-12T08:02:05.877049Z",
     "start_time": "2019-04-12T08:02:05.867049Z"
    }
   },
   "outputs": [
    {
     "name": "stdout",
     "output_type": "stream",
     "text": [
      "a = (1, 2, 3)\n",
      "b= (4, 5, 6)\n",
      "c= (7, 8, 9)\n",
      "[(1, 2, 3), (4, 5, 6), (7, 8, 9)]\n"
     ]
    }
   ],
   "source": [
    "# another example - list of lists is unpacked into separate elements or transposed\n",
    "# into another list of list\n",
    "comp_list = [[1,4,7],[2,5,8],[3,6,9]]\n",
    "a, b, c = (zip(*comp_list))\n",
    "print('a =', a)\n",
    "print('b=', b)\n",
    "print('c=', c)\n",
    "print(list(zip(*comp_list)))"
   ]
  },
  {
   "cell_type": "code",
   "execution_count": 10,
   "metadata": {
    "ExecuteTime": {
     "end_time": "2019-04-12T08:03:18.280049Z",
     "start_time": "2019-04-12T08:03:18.260049Z"
    }
   },
   "outputs": [
    {
     "name": "stdout",
     "output_type": "stream",
     "text": [
      "2020-01-01.txt\n",
      "2020-01-01-Beethoven-Symphony No 5.txt\n"
     ]
    }
   ],
   "source": [
    "# '**' asteriks for working with keyword arguments - unpacking dict keys\n",
    "date_info = {'year': '2020', 'month': '01', 'day': '01'}\n",
    "filename = \"{year}-{month}-{day}.txt\".format(**date_info)\n",
    "print(filename)\n",
    "\n",
    "# similar example\n",
    "date_info = {'year': \"2020\", 'month': \"01\", 'day': \"01\"}\n",
    "track_info = {'artist': \"Beethoven\", 'title': 'Symphony No 5'}\n",
    "filename = \"{year}-{month}-{day}-{artist}-{title}.txt\".format(\n",
    "                                                    **date_info, **track_info)\n",
    "print(filename)"
   ]
  },
  {
   "cell_type": "markdown",
   "metadata": {
    "ExecuteTime": {
     "end_time": "2019-04-12T08:03:05.861049Z",
     "start_time": "2019-04-12T08:03:05.817049Z"
    }
   },
   "source": [
    "### Asterisks for packing arguments given to function"
   ]
  },
  {
   "cell_type": "code",
   "execution_count": 11,
   "metadata": {
    "ExecuteTime": {
     "end_time": "2019-04-12T08:05:13.911049Z",
     "start_time": "2019-04-12T08:05:13.894049Z"
    }
   },
   "outputs": [
    {
     "name": "stdout",
     "output_type": "stream",
     "text": [
      "5\n",
      "3\n",
      "78\n"
     ]
    }
   ],
   "source": [
    "from random import randint\n",
    "\n",
    "def roll(*dice):\n",
    "    return sum(randint(1, die) for die in dice)\n",
    "\n",
    "# roll() function works with any number of arguments\n",
    "print(roll(10))\n",
    "print(roll(1,23))\n",
    "print(roll(4,5,8,12,90))"
   ]
  },
  {
   "cell_type": "code",
   "execution_count": 12,
   "metadata": {
    "ExecuteTime": {
     "end_time": "2019-04-12T08:05:33.373049Z",
     "start_time": "2019-04-12T08:05:33.364049Z"
    }
   },
   "outputs": [
    {
     "name": "stdout",
     "output_type": "stream",
     "text": [
      "2~3~4~5~6~20~30~40\n",
      "[(2, 20), (3, 30), (4, 40)]\n"
     ]
    }
   ],
   "source": [
    "# useful with print() and zip() functions\n",
    "m = [2,3,4,5,6]\n",
    "n = [20,30,40]\n",
    "print(*m, *n, sep='~')\n",
    "print(list(zip(m, n)))"
   ]
  },
  {
   "cell_type": "code",
   "execution_count": 13,
   "metadata": {
    "ExecuteTime": {
     "end_time": "2019-04-12T08:05:42.169049Z",
     "start_time": "2019-04-12T08:05:42.154049Z"
    }
   },
   "outputs": [
    {
     "name": "stdout",
     "output_type": "stream",
     "text": [
      "<img height=\"20\" width=\"40\" src=\"face.jpg\">\n",
      "<a href=\"http://treyhunner.com\">\n"
     ]
    }
   ],
   "source": [
    "# example of tag() function with any number of keyword arguments\n",
    "def tag(tag_name, **attributes):\n",
    "    attribute_list = [\n",
    "        f'{name}=\"{value}\"'\n",
    "        for name, value in attributes.items()\n",
    "    ]\n",
    "    return f\"<{tag_name} {' '.join(attribute_list)}>\"\n",
    "\n",
    "print(tag('img', height=20, width=40, src=\"face.jpg\"))\n",
    "print(tag('a', href=\"http://treyhunner.com\"))"
   ]
  },
  {
   "cell_type": "markdown",
   "metadata": {},
   "source": [
    "### Positional arguments with keyword-only arguments"
   ]
  },
  {
   "cell_type": "code",
   "execution_count": 14,
   "metadata": {
    "ExecuteTime": {
     "end_time": "2019-04-12T08:22:20.766145Z",
     "start_time": "2019-04-12T08:22:20.214035Z"
    }
   },
   "outputs": [
    {
     "ename": "TypeError",
     "evalue": "get_multiple() missing 1 required keyword-only argument: 'dictionary'",
     "output_type": "error",
     "traceback": [
      "\u001b[1;31m---------------------------------------------------------------------------\u001b[0m",
      "\u001b[1;31mTypeError\u001b[0m                                 Traceback (most recent call last)",
      "\u001b[1;32m<ipython-input-14-ca78678e6728>\u001b[0m in \u001b[0;36m<module>\u001b[1;34m()\u001b[0m\n\u001b[0;32m      7\u001b[0m     ]\n\u001b[0;32m      8\u001b[0m \u001b[0mfruits\u001b[0m \u001b[1;33m=\u001b[0m \u001b[1;33m{\u001b[0m\u001b[1;34m'lemon'\u001b[0m\u001b[1;33m:\u001b[0m \u001b[1;34m'yellow'\u001b[0m\u001b[1;33m,\u001b[0m \u001b[1;34m'orange'\u001b[0m\u001b[1;33m:\u001b[0m \u001b[1;34m'orange'\u001b[0m\u001b[1;33m,\u001b[0m \u001b[1;34m'tomato'\u001b[0m\u001b[1;33m:\u001b[0m \u001b[1;34m'red'\u001b[0m\u001b[1;33m}\u001b[0m\u001b[1;33m\u001b[0m\u001b[0m\n\u001b[1;32m----> 9\u001b[1;33m \u001b[0mget_multiple\u001b[0m\u001b[1;33m(\u001b[0m\u001b[1;34m'lemon'\u001b[0m\u001b[1;33m,\u001b[0m\u001b[1;34m'tomato'\u001b[0m\u001b[1;33m,\u001b[0m\u001b[1;34m'squash'\u001b[0m\u001b[1;33m,\u001b[0m\u001b[1;34m'fruits'\u001b[0m\u001b[1;33m,\u001b[0m\u001b[1;34m'unknown'\u001b[0m\u001b[1;33m)\u001b[0m\u001b[1;33m\u001b[0m\u001b[0m\n\u001b[0m",
      "\u001b[1;31mTypeError\u001b[0m: get_multiple() missing 1 required keyword-only argument: 'dictionary'"
     ]
    }
   ],
   "source": [
    "# Keyword-only arguments are function arguments which can only be specified using\n",
    "# the keyword syntax,meaning they cannot be specified positionally.\n",
    "def get_multiple(*keys, dictionary, default=None):\n",
    "    return [\n",
    "        dictionary.get(key, default)\n",
    "        for key in keys\n",
    "    ]\n",
    "fruits = {'lemon': 'yellow', 'orange': 'orange', 'tomato': 'red'}\n",
    "get_multiple('lemon','tomato','squash','fruits','unknown')    "
   ]
  },
  {
   "cell_type": "raw",
   "metadata": {},
   "source": [
    "Example above shows that lack of keyword argument('dictionary') after positinal arguments (*keys)in the function call results in TypeError message."
   ]
  },
  {
   "cell_type": "markdown",
   "metadata": {},
   "source": [
    "### Keyword-only arguments without positional arguments"
   ]
  },
  {
   "cell_type": "code",
   "execution_count": 15,
   "metadata": {
    "ExecuteTime": {
     "end_time": "2019-04-12T08:33:55.677793Z",
     "start_time": "2019-04-12T08:33:55.652790Z"
    }
   },
   "outputs": [
    {
     "data": {
      "text/plain": [
       "[(0, 2), (2, 1), (1, 4), (4, 5)]"
      ]
     },
     "execution_count": 15,
     "metadata": {},
     "output_type": "execute_result"
    }
   ],
   "source": [
    "def with_previous(iterable, *, fillvalue=None):\n",
    "    \"\"\"Yield each iterable item along with the item before it.\"\"\"\n",
    "    previous = fillvalue\n",
    "    for item in iterable:\n",
    "        yield previous, item\n",
    "        previous = item\n",
    "        \n",
    "list(with_previous([2,1,4,5], fillvalue=0))"
   ]
  },
  {
   "cell_type": "raw",
   "metadata": {},
   "source": [
    "This function accepts an iterable argument, which can be specified positionally (as the first argument) or by its name and a fillvalue argument which is a keyword-only argument."
   ]
  },
  {
   "cell_type": "code",
   "execution_count": 22,
   "metadata": {
    "ExecuteTime": {
     "end_time": "2019-04-12T08:40:10.358257Z",
     "start_time": "2019-04-12T08:40:10.353257Z"
    }
   },
   "outputs": [
    {
     "data": {
      "text/plain": [
       "[(3, 2)]"
      ]
     },
     "execution_count": 22,
     "metadata": {},
     "output_type": "execute_result"
    }
   ],
   "source": [
    "# first element must be iterable object\n",
    "list(with_previous([2], fillvalue=3))"
   ]
  },
  {
   "cell_type": "code",
   "execution_count": 23,
   "metadata": {
    "ExecuteTime": {
     "end_time": "2019-04-12T08:42:19.796200Z",
     "start_time": "2019-04-12T08:42:19.776198Z"
    }
   },
   "outputs": [
    {
     "ename": "TypeError",
     "evalue": "with_previous() takes 1 positional argument but 2 were given",
     "output_type": "error",
     "traceback": [
      "\u001b[1;31m---------------------------------------------------------------------------\u001b[0m",
      "\u001b[1;31mTypeError\u001b[0m                                 Traceback (most recent call last)",
      "\u001b[1;32m<ipython-input-23-382fe4850f02>\u001b[0m in \u001b[0;36m<module>\u001b[1;34m()\u001b[0m\n\u001b[0;32m      1\u001b[0m \u001b[1;31m# using more than one positional arguments results in error message\u001b[0m\u001b[1;33m\u001b[0m\u001b[1;33m\u001b[0m\u001b[0m\n\u001b[1;32m----> 2\u001b[1;33m \u001b[0mlist\u001b[0m\u001b[1;33m(\u001b[0m\u001b[0mwith_previous\u001b[0m\u001b[1;33m(\u001b[0m\u001b[1;33m[\u001b[0m\u001b[1;36m2\u001b[0m\u001b[1;33m,\u001b[0m\u001b[1;36m3\u001b[0m\u001b[1;33m,\u001b[0m\u001b[1;36m4\u001b[0m\u001b[1;33m]\u001b[0m\u001b[1;33m,\u001b[0m\u001b[1;36m123\u001b[0m\u001b[1;33m)\u001b[0m\u001b[1;33m)\u001b[0m\u001b[1;33m\u001b[0m\u001b[0m\n\u001b[0m",
      "\u001b[1;31mTypeError\u001b[0m: with_previous() takes 1 positional argument but 2 were given"
     ]
    }
   ],
   "source": [
    "# using more than one positional arguments results in error message\n",
    "list(with_previous([2,3,4],123))"
   ]
  },
  {
   "cell_type": "markdown",
   "metadata": {},
   "source": [
    "### Asterisks in tuple unpacking"
   ]
  },
  {
   "cell_type": "code",
   "execution_count": 24,
   "metadata": {
    "ExecuteTime": {
     "end_time": "2019-04-12T08:49:19.925254Z",
     "start_time": "2019-04-12T08:49:19.900254Z"
    }
   },
   "outputs": [
    {
     "data": {
      "text/plain": [
       "['watermelon', 'tomato']"
      ]
     },
     "execution_count": 24,
     "metadata": {},
     "output_type": "execute_result"
    }
   ],
   "source": [
    "fruits = ['lemon','pear','watermelon','tomato']\n",
    "first, second, *remaining = fruits\n",
    "remaining"
   ]
  },
  {
   "cell_type": "code",
   "execution_count": 25,
   "metadata": {
    "ExecuteTime": {
     "end_time": "2019-04-12T08:50:06.198254Z",
     "start_time": "2019-04-12T08:50:06.184254Z"
    }
   },
   "outputs": [
    {
     "data": {
      "text/plain": [
       "['pear', 'watermelon']"
      ]
     },
     "execution_count": 25,
     "metadata": {},
     "output_type": "execute_result"
    }
   ],
   "source": [
    "first, *middle, last = fruits\n",
    "middle"
   ]
  },
  {
   "cell_type": "code",
   "execution_count": 30,
   "metadata": {
    "ExecuteTime": {
     "end_time": "2019-04-12T09:18:34.941249Z",
     "start_time": "2019-04-12T09:18:34.926249Z"
    }
   },
   "outputs": [
    {
     "data": {
      "text/plain": [
       "'l'"
      ]
     },
     "execution_count": 30,
     "metadata": {},
     "output_type": "execute_result"
    },
    {
     "data": {
      "text/plain": [
       "['e', 'm', 'o', 'n']"
      ]
     },
     "execution_count": 30,
     "metadata": {},
     "output_type": "execute_result"
    },
    {
     "data": {
      "text/plain": [
       "['pear', 'watermelon', 'tomato']"
      ]
     },
     "execution_count": 30,
     "metadata": {},
     "output_type": "execute_result"
    }
   ],
   "source": [
    "# another example \n",
    "fruits = ['lemon', 'pear', 'watermelon', 'tomato']\n",
    "((first_letter, *remaining), *other_fruits) = fruits\n",
    "\n",
    "first_letter\n",
    "remaining\n",
    "other_fruits"
   ]
  },
  {
   "cell_type": "markdown",
   "metadata": {},
   "source": [
    "### Asterisks in list literals"
   ]
  },
  {
   "cell_type": "raw",
   "metadata": {},
   "source": [
    "PEP448 introduced a lot of new *-related features (further also ** new features), among them - the ability to use * to dump an iterable int a new list."
   ]
  },
  {
   "cell_type": "code",
   "execution_count": 37,
   "metadata": {
    "ExecuteTime": {
     "end_time": "2019-04-12T09:43:34.753109Z",
     "start_time": "2019-04-12T09:43:34.733107Z"
    }
   },
   "outputs": [
    {
     "data": {
      "text/plain": [
       "[2, 3, 4, 5, 1]"
      ]
     },
     "execution_count": 37,
     "metadata": {},
     "output_type": "execute_result"
    }
   ],
   "source": [
    "# using an unpacking operator inside comprehension list\n",
    "def rotate_first_item(sequence):\n",
    "    return[*sequence[1:], sequence[0]]\n",
    "\n",
    "rotate_first_item([1,2,3,4,5])"
   ]
  },
  {
   "cell_type": "code",
   "execution_count": 38,
   "metadata": {
    "ExecuteTime": {
     "end_time": "2019-04-12T09:43:35.515185Z",
     "start_time": "2019-04-12T09:43:35.498183Z"
    }
   },
   "outputs": [
    {
     "data": {
      "text/plain": [
       "[0, 1, 2, 3, 4, 5, 'alibaba', 5, 4, 3, 2, 1, 0, 'is dead']"
      ]
     },
     "execution_count": 38,
     "metadata": {},
     "output_type": "execute_result"
    }
   ],
   "source": [
    "# using an arbitrary number of times when unpacking is possible\n",
    "#sequence = 'broda'\n",
    "sequence = list(range(6))\n",
    "[*sequence, 'alibaba', *reversed(sequence), 'is dead']"
   ]
  },
  {
   "cell_type": "raw",
   "metadata": {},
   "source": [
    "This isn’t just limited to creating lists either. We can also dump iterables into new tuples or sets:"
   ]
  },
  {
   "cell_type": "code",
   "execution_count": 42,
   "metadata": {
    "ExecuteTime": {
     "end_time": "2019-04-12T09:46:44.177049Z",
     "start_time": "2019-04-12T09:46:44.161048Z"
    }
   },
   "outputs": [
    {
     "data": {
      "text/plain": [
       "('pear', 'watermelon', 'tomato', 'lemon')"
      ]
     },
     "execution_count": 42,
     "metadata": {},
     "output_type": "execute_result"
    }
   ],
   "source": [
    "fruits = ['lemon','pear','watermelon','tomato']\n",
    "# dumping list into a tuple in expected order\n",
    "(*fruits[1:], fruits[0])"
   ]
  },
  {
   "cell_type": "code",
   "execution_count": 48,
   "metadata": {
    "ExecuteTime": {
     "end_time": "2019-04-12T09:50:49.136543Z",
     "start_time": "2019-04-12T09:50:49.128542Z"
    }
   },
   "outputs": [
    {
     "name": "stdout",
     "output_type": "stream",
     "text": [
      "{'lemon', 'TOMATO', 'watermelon', 'WATERMELON', 'pear', 'LEMON', 'PEAR', 'tomato'}\n"
     ]
    }
   ],
   "source": [
    "# creating a generator to use in comprehension set\n",
    "uppercase_fruits = (f.upper() for f in fruits)\n",
    "print({*fruits, *uppercase_fruits})"
   ]
  },
  {
   "cell_type": "raw",
   "metadata": {},
   "source": [
    "The risk is that set does not keep the order from the comprehension - if it is important for some reason."
   ]
  },
  {
   "cell_type": "markdown",
   "metadata": {},
   "source": [
    "### Double asterisks in dictionary literals"
   ]
  },
  {
   "cell_type": "raw",
   "metadata": {},
   "source": [
    "Double asterisks enable methods similar to copying or merging with additional really flexible features"
   ]
  },
  {
   "cell_type": "code",
   "execution_count": 49,
   "metadata": {
    "ExecuteTime": {
     "end_time": "2019-04-12T09:59:32.047829Z",
     "start_time": "2019-04-12T09:59:32.034827Z"
    }
   },
   "outputs": [
    {
     "data": {
      "text/plain": [
       "{'artist': 'Beethoven',\n",
       " 'day': '01',\n",
       " 'month': '01',\n",
       " 'title': 'Symphony No 5',\n",
       " 'year': '2020'}"
      ]
     },
     "execution_count": 49,
     "metadata": {},
     "output_type": "execute_result"
    }
   ],
   "source": [
    "# dumping key/value pairs of dictionary into new dictionary\n",
    "date_info = {'year':\"2020\", 'month':\"01\", 'day':\"01\"}\n",
    "track_info = {'artist':\"Beethoven\", 'title': \"Symphony No 5\"}\n",
    "all_info = {**date_info, **track_info}\n",
    "all_info"
   ]
  },
  {
   "cell_type": "code",
   "execution_count": 52,
   "metadata": {
    "ExecuteTime": {
     "end_time": "2019-04-12T10:04:41.947066Z",
     "start_time": "2019-04-12T10:04:41.928066Z"
    }
   },
   "outputs": [
    {
     "data": {
      "text/plain": [
       "{'day': '7', 'group': 'Python Meetup', 'month': '01', 'year': '2020'}"
      ]
     },
     "execution_count": 52,
     "metadata": {},
     "output_type": "execute_result"
    }
   ],
   "source": [
    "# after copying a dictionary adding new value to it\n",
    "date_info = {'year':\"2020\", 'month':'01', 'day':'7'}\n",
    "event_info = {**date_info, 'group':'Python Meetup'}\n",
    "event_info"
   ]
  },
  {
   "cell_type": "code",
   "execution_count": 61,
   "metadata": {
    "ExecuteTime": {
     "end_time": "2019-04-12T10:17:41.460066Z",
     "start_time": "2019-04-12T10:17:41.430066Z"
    }
   },
   "outputs": [
    {
     "data": {
      "text/plain": [
       "{'day': '14',\n",
       " 'group': 'Python Meetup',\n",
       " 'month': '01',\n",
       " 'season': 'spring',\n",
       " 'year': '2020'}"
      ]
     },
     "execution_count": 61,
     "metadata": {},
     "output_type": "execute_result"
    }
   ],
   "source": [
    "# copying/merging dictionaries while overriding particular values\n",
    "event_info = {'year':'2020', 'month':'01', 'day':'4', 'group':'Python Meetup'}\n",
    "new_info = {**event_info, 'day':'14', 'season':'spring'}\n",
    "new_info"
   ]
  },
  {
   "cell_type": "raw",
   "metadata": {},
   "source": [
    "The End"
   ]
  }
 ],
 "metadata": {
  "kernelspec": {
   "display_name": "Python 3",
   "language": "python",
   "name": "python3"
  },
  "language_info": {
   "codemirror_mode": {
    "name": "ipython",
    "version": 3
   },
   "file_extension": ".py",
   "mimetype": "text/x-python",
   "name": "python",
   "nbconvert_exporter": "python",
   "pygments_lexer": "ipython3",
   "version": "3.6.1"
  },
  "toc": {
   "base_numbering": 1,
   "nav_menu": {},
   "number_sections": true,
   "sideBar": true,
   "skip_h1_title": true,
   "title_cell": "Table of Contents",
   "title_sidebar": "Contents",
   "toc_cell": true,
   "toc_position": {},
   "toc_section_display": true,
   "toc_window_display": false
  }
 },
 "nbformat": 4,
 "nbformat_minor": 2
}
