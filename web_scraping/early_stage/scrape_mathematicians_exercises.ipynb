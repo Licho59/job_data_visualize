{
 "cells": [
  {
   "cell_type": "raw",
   "metadata": {},
   "source": [
    "From \"Practical Introduction to Web Scraping in Python\"\n",
    "by Colin OKeefe at www.realpython.com\n",
    "\n",
    "The notebook contains some exercises not necessary for production code."
   ]
  },
  {
   "cell_type": "markdown",
   "metadata": {
    "toc": true
   },
   "source": [
    "<h1>Table of Contents<span class=\"tocSkip\"></span></h1>\n",
    "<div class=\"toc\"><ul class=\"toc-item\"><li><span><a href=\"#Importing-libraries\" data-toc-modified-id=\"Importing-libraries-1\"><span class=\"toc-item-num\">1&nbsp;&nbsp;</span>Importing libraries</a></span></li><li><span><a href=\"#Making-Web-Requests\" data-toc-modified-id=\"Making-Web-Requests-2\"><span class=\"toc-item-num\">2&nbsp;&nbsp;</span>Making Web Requests</a></span></li><li><span><a href=\"#Wrangling-HTML-with-BeautifulSoup\" data-toc-modified-id=\"Wrangling-HTML-with-BeautifulSoup-3\"><span class=\"toc-item-num\">3&nbsp;&nbsp;</span>Wrangling HTML with BeautifulSoup</a></span></li><li><span><a href=\"#Putting-All-Together\" data-toc-modified-id=\"Putting-All-Together-4\"><span class=\"toc-item-num\">4&nbsp;&nbsp;</span>Putting All Together</a></span></li></ul></div>"
   ]
  },
  {
   "cell_type": "markdown",
   "metadata": {
    "heading_collapsed": true
   },
   "source": [
    "### Importing libraries"
   ]
  },
  {
   "cell_type": "code",
   "execution_count": 1,
   "metadata": {
    "ExecuteTime": {
     "end_time": "2019-04-16T06:08:33.727306Z",
     "start_time": "2019-04-16T06:08:33.064306Z"
    },
    "hidden": true
   },
   "outputs": [],
   "source": [
    "from requests import get\n",
    "from requests.exceptions import RequestException\n",
    "from bs4 import BeautifulSoup\n",
    "from datetime import date, datetime, timedelta"
   ]
  },
  {
   "cell_type": "markdown",
   "metadata": {},
   "source": [
    "### Making Web Requests"
   ]
  },
  {
   "cell_type": "code",
   "execution_count": 2,
   "metadata": {
    "ExecuteTime": {
     "end_time": "2019-04-16T06:08:33.759806Z",
     "start_time": "2019-04-16T06:08:33.729806Z"
    }
   },
   "outputs": [],
   "source": [
    "# function prepared to download web pages\n",
    "def simple_get(url):\n",
    "    \"\"\"\n",
    "    Function attempts to get the content at 'url' by making an HTTP GET request.\n",
    "    If the content-type of response is a kind of HTML/XML,\n",
    "    it will return the text content, otherwise return None.\n",
    "    \"\"\"\n",
    "    try:\n",
    "        resp = get(url)\n",
    "        if is_good_response(resp):\n",
    "            return resp.content\n",
    "        else:\n",
    "            return None\n",
    "            \n",
    "    except RequestException as e:\n",
    "        log_error('Error during requests to {0} : {1}'.format(url, str(e)))\n",
    "        return None\n",
    "    \n",
    "# function checking the answer to the request\n",
    "def is_good_response(resp):\n",
    "    \"\"\"\n",
    "    Returns True if the response seems to be HTML, False otherwise.\n",
    "    \"\"\"\n",
    "    content_type = resp.headers['Content-Type'].lower()\n",
    "    return (resp.status_code == 200\n",
    "           and content_type is not None\n",
    "           and content_type.find('html') > -1)\n",
    "\n",
    "# function printing error message if web downloading was unsuccessful\n",
    "def log_error(e):\n",
    "    \"\"\"\n",
    "    It is always a good idea to log errors.\n",
    "    This function just prints them, but you can make it\n",
    "    do anything.\n",
    "    \"\"\"\n",
    "    #print(e)\n",
    "    "
   ]
  },
  {
   "cell_type": "code",
   "execution_count": 3,
   "metadata": {
    "ExecuteTime": {
     "end_time": "2019-04-16T06:08:36.494083Z",
     "start_time": "2019-04-16T06:08:33.762306Z"
    }
   },
   "outputs": [
    {
     "name": "stdout",
     "output_type": "stream",
     "text": [
      "None\n"
     ]
    },
    {
     "data": {
      "text/plain": [
       "'application/json; charset=utf-8'"
      ]
     },
     "execution_count": 3,
     "metadata": {},
     "output_type": "execute_result"
    }
   ],
   "source": [
    "# example where simple_get() returns None because 'Content-Type' is not html (json)\n",
    "url = 'https://api.github.com/events'\n",
    "raw_html = simple_get(url)\n",
    "print(raw_html)\n",
    "\n",
    "resp = get(url)\n",
    "resp.headers['Content-Type'] # headears 'Content-Type' paramater returns type of "
   ]
  },
  {
   "cell_type": "code",
   "execution_count": 4,
   "metadata": {
    "ExecuteTime": {
     "end_time": "2019-04-16T06:08:39.535145Z",
     "start_time": "2019-04-16T06:08:36.494083Z"
    },
    "scrolled": false
   },
   "outputs": [
    {
     "data": {
      "text/plain": [
       "'text/html; charset=utf-8'"
      ]
     },
     "execution_count": 4,
     "metadata": {},
     "output_type": "execute_result"
    },
    {
     "data": {
      "text/plain": [
       "401546"
      ]
     },
     "execution_count": 4,
     "metadata": {},
     "output_type": "execute_result"
    }
   ],
   "source": [
    "# simple_get returns content of html object if response is html\n",
    "url_1 = 'https://realpython.com/blog/'\n",
    "resp_1 = get(url_1)\n",
    "resp_1.headers['Content-Type']\n",
    "\n",
    "raw_html_1 = simple_get(url_1)\n",
    "len(raw_html_1)\n",
    "#print(raw_html_1)"
   ]
  },
  {
   "cell_type": "code",
   "execution_count": 5,
   "metadata": {
    "ExecuteTime": {
     "end_time": "2019-04-16T06:08:41.863217Z",
     "start_time": "2019-04-16T06:08:39.535145Z"
    }
   },
   "outputs": [],
   "source": [
    "# checking the simple_get() result for not exisiting www page\n",
    "url_2 = 'http://onet_comp.pl'\n",
    "simple_get(url_2)"
   ]
  },
  {
   "cell_type": "markdown",
   "metadata": {},
   "source": [
    "### Wrangling HTML with BeautifulSoup"
   ]
  },
  {
   "cell_type": "code",
   "execution_count": 6,
   "metadata": {
    "ExecuteTime": {
     "end_time": "2019-04-16T06:08:43.903992Z",
     "start_time": "2019-04-16T06:08:41.863217Z"
    }
   },
   "outputs": [
    {
     "name": "stdout",
     "output_type": "stream",
     "text": [
      "0  Isaac Newton\n",
      " Archimedes\n",
      " Carl F. Gauss\n",
      " Leonhard Euler\n",
      " Bernhard Riemann\n",
      "\n",
      "1  Archimedes\n",
      " Carl F. Gauss\n",
      " Leonhard Euler\n",
      " Bernhard Riemann\n",
      "\n",
      "2  Carl F. Gauss\n",
      " Leonhard Euler\n",
      " Bernhard Riemann\n",
      "\n",
      "3  Leonhard Euler\n",
      " Bernhard Riemann\n",
      "\n",
      "4  Bernhard Riemann\n",
      "\n",
      "5  Henri Poincaré\n",
      " Joseph-Louis Lagrange\n",
      " Euclid  of Alexandria\n",
      " David Hilbert\n",
      " Gottfried W. Leibniz\n",
      "\n",
      "6  Joseph-Louis Lagrange\n",
      " Euclid  of Alexandria\n",
      " David Hilbert\n",
      " Gottfried W. Leibniz\n",
      "\n",
      "7  Euclid  of Alexandria\n",
      " David Hilbert\n",
      " Gottfried W. Leibniz\n",
      "\n",
      "8  David Hilbert\n",
      " Gottfried W. Leibniz\n",
      "\n",
      "9  Gottfried W. Leibniz\n",
      "\n",
      "10  Alexandre Grothendieck\n",
      " Pierre de Fermat\n",
      " Évariste Galois\n",
      " John von Neumann\n",
      " René Descartes\n",
      "\n",
      "11  Pierre de Fermat\n",
      " Évariste Galois\n",
      " John von Neumann\n",
      " René Descartes\n",
      "\n",
      "12  Évariste Galois\n",
      " John von Neumann\n",
      " René Descartes\n",
      "\n",
      "13  John von Neumann\n",
      " René Descartes\n",
      "\n",
      "14  René Descartes\n",
      "\n",
      "15  Karl W. T. Weierstrass\n",
      " Srinivasa Ramanujan\n",
      " Hermann K. H. Weyl\n",
      " Peter G. L. Dirichlet\n",
      " Niels Abel\n",
      "\n",
      "16  Srinivasa Ramanujan\n",
      " Hermann K. H. Weyl\n",
      " Peter G. L. Dirichlet\n",
      " Niels Abel\n",
      "\n",
      "17  Hermann K. H. Weyl\n",
      " Peter G. L. Dirichlet\n",
      " Niels Abel\n",
      "\n",
      "18  Peter G. L. Dirichlet\n",
      " Niels Abel\n",
      "\n",
      "19  Niels Abel\n",
      "\n",
      "20  Georg Cantor\n",
      " Carl G. J. Jacobi\n",
      " Brahmagupta\n",
      " Augustin Cauchy\n",
      " Arthur Cayley\n",
      "\n",
      "21  Carl G. J. Jacobi\n",
      " Brahmagupta\n",
      " Augustin Cauchy\n",
      " Arthur Cayley\n",
      "\n",
      "22  Brahmagupta\n",
      " Augustin Cauchy\n",
      " Arthur Cayley\n",
      "\n",
      "23  Augustin Cauchy\n",
      " Arthur Cayley\n",
      "\n",
      "24  Arthur Cayley\n",
      "\n",
      "25  Emmy Noether\n",
      " Pythagoras  of Samos\n",
      " Aryabhata\n",
      " Leonardo `Fibonacci'\n",
      " William R. Hamilton\n",
      "\n",
      "26  Pythagoras  of Samos\n",
      " Aryabhata\n",
      " Leonardo `Fibonacci'\n",
      " William R. Hamilton\n",
      "\n",
      "27  Aryabhata\n",
      " Leonardo `Fibonacci'\n",
      " William R. Hamilton\n",
      "\n",
      "28  Leonardo `Fibonacci'\n",
      " William R. Hamilton\n",
      "\n",
      "29  William R. Hamilton\n",
      "\n",
      "30  Apollonius  of Perga\n",
      " Charles Hermite\n",
      " Pierre-Simon Laplace\n",
      " Carl Ludwig Siegel\n",
      " Diophantus  of Alexandria\n",
      "\n",
      "31  Charles Hermite\n",
      " Pierre-Simon Laplace\n",
      " Carl Ludwig Siegel\n",
      " Diophantus  of Alexandria\n",
      "\n",
      "32  Pierre-Simon Laplace\n",
      " Carl Ludwig Siegel\n",
      " Diophantus  of Alexandria\n",
      "\n",
      "33  Carl Ludwig Siegel\n",
      " Diophantus  of Alexandria\n",
      "\n",
      "34  Diophantus  of Alexandria\n",
      "\n",
      "35  Muhammed al-Khowârizmi\n",
      " Richard Dedekind\n",
      " Kurt Gödel\n",
      " Bháscara (II) Áchárya\n",
      " Felix Christian Klein\n",
      "\n",
      "36  Richard Dedekind\n",
      " Kurt Gödel\n",
      " Bháscara (II) Áchárya\n",
      " Felix Christian Klein\n",
      "\n",
      "37  Kurt Gödel\n",
      " Bháscara (II) Áchárya\n",
      " Felix Christian Klein\n",
      "\n",
      "38  Bháscara (II) Áchárya\n",
      " Felix Christian Klein\n",
      "\n",
      "39  Felix Christian Klein\n",
      "\n",
      "40  Blaise Pascal\n",
      " Élie Cartan\n",
      " Archytas  of Tarentum\n",
      " Godfrey H. Hardy\n",
      " Alhazen ibn al-Haytham\n",
      "\n",
      "41  Élie Cartan\n",
      " Archytas  of Tarentum\n",
      " Godfrey H. Hardy\n",
      " Alhazen ibn al-Haytham\n",
      "\n",
      "42  Archytas  of Tarentum\n",
      " Godfrey H. Hardy\n",
      " Alhazen ibn al-Haytham\n",
      "\n",
      "43  Godfrey H. Hardy\n",
      " Alhazen ibn al-Haytham\n",
      "\n",
      "44  Alhazen ibn al-Haytham\n",
      "\n",
      "45  Jean le Rond d'Alembert\n",
      " F.E.J. Émile Borel\n",
      " Julius Plücker\n",
      " Hipparchus  of Nicaea\n",
      " Andrey N. Kolmogorov\n",
      "\n",
      "46  F.E.J. Émile Borel\n",
      " Julius Plücker\n",
      " Hipparchus  of Nicaea\n",
      " Andrey N. Kolmogorov\n",
      "\n",
      "47  Julius Plücker\n",
      " Hipparchus  of Nicaea\n",
      " Andrey N. Kolmogorov\n",
      "\n",
      "48  Hipparchus  of Nicaea\n",
      " Andrey N. Kolmogorov\n",
      "\n",
      "49  Andrey N. Kolmogorov\n",
      "\n",
      "50  Joseph Liouville\n",
      " Eudoxus  of Cnidus\n",
      " F. Gotthold Eisenstein\n",
      " Jacob Bernoulli\n",
      " Johannes Kepler\n",
      "\n",
      "51  Eudoxus  of Cnidus\n",
      " F. Gotthold Eisenstein\n",
      " Jacob Bernoulli\n",
      " Johannes Kepler\n",
      "\n",
      "52  F. Gotthold Eisenstein\n",
      " Jacob Bernoulli\n",
      " Johannes Kepler\n",
      "\n",
      "53  Jacob Bernoulli\n",
      " Johannes Kepler\n",
      "\n",
      "54  Johannes Kepler\n",
      "\n",
      "55  Stefan Banach\n",
      " Jacques Hadamard\n",
      " Giuseppe Peano\n",
      " Panini  of Shalatula\n",
      " André Weil\n",
      "\n",
      "56  Jacques Hadamard\n",
      " Giuseppe Peano\n",
      " Panini  of Shalatula\n",
      " André Weil\n",
      "\n",
      "57  Giuseppe Peano\n",
      " Panini  of Shalatula\n",
      " André Weil\n",
      "\n",
      "58  Panini  of Shalatula\n",
      " André Weil\n",
      "\n",
      "59  André Weil\n",
      "\n",
      "60  Jakob Steiner\n",
      " Joseph Fourier\n",
      " Liu Hui\n",
      " Bonaventura Cavalieri\n",
      " Jean-Pierre Serre\n",
      "\n",
      "61  Joseph Fourier\n",
      " Liu Hui\n",
      " Bonaventura Cavalieri\n",
      " Jean-Pierre Serre\n",
      "\n",
      "62  Liu Hui\n",
      " Bonaventura Cavalieri\n",
      " Jean-Pierre Serre\n",
      "\n",
      "63  Bonaventura Cavalieri\n",
      " Jean-Pierre Serre\n",
      "\n",
      "64  Jean-Pierre Serre\n",
      "\n",
      "65  Marius Sophus Lie\n",
      " Hermann G. Grassmann\n",
      " M. E. Camille Jordan\n",
      " François Viète\n",
      " Gaspard Monge\n",
      "\n",
      "66  Hermann G. Grassmann\n",
      " M. E. Camille Jordan\n",
      " François Viète\n",
      " Gaspard Monge\n",
      "\n",
      "67  M. E. Camille Jordan\n",
      " François Viète\n",
      " Gaspard Monge\n",
      "\n",
      "68  François Viète\n",
      " Gaspard Monge\n",
      "\n",
      "69  Gaspard Monge\n",
      "\n",
      "70  Albert Einstein\n",
      " Galileo Galilei\n",
      " James C. Maxwell\n",
      " Aristotle\n",
      " Girolamo Cardano\n",
      "\n",
      "71  Galileo Galilei\n",
      " James C. Maxwell\n",
      " Aristotle\n",
      " Girolamo Cardano\n",
      "\n",
      "72  James C. Maxwell\n",
      " Aristotle\n",
      " Girolamo Cardano\n",
      "\n",
      "73  Aristotle\n",
      " Girolamo Cardano\n",
      "\n",
      "74  Girolamo Cardano\n",
      "\n",
      "75  Michael F. Atiyah\n",
      " Atle Selberg\n",
      " L.E.J. Brouwer\n",
      " Christiaan Huygens\n",
      " Alan M. Turing\n",
      "\n",
      "76  Atle Selberg\n",
      " L.E.J. Brouwer\n",
      " Christiaan Huygens\n",
      " Alan M. Turing\n",
      "\n",
      "77  L.E.J. Brouwer\n",
      " Christiaan Huygens\n",
      " Alan M. Turing\n",
      "\n",
      "78  Christiaan Huygens\n",
      " Alan M. Turing\n",
      "\n",
      "79  Alan M. Turing\n",
      "\n",
      "80  Jean-Victor Poncelet\n",
      " Pafnuti Chebyshev\n",
      " Henri Léon Lebesgue\n",
      " John E. Littlewood\n",
      " F. L. Gottlob Frege\n",
      "\n",
      "81  Pafnuti Chebyshev\n",
      " Henri Léon Lebesgue\n",
      " John E. Littlewood\n",
      " F. L. Gottlob Frege\n",
      "\n",
      "82  Henri Léon Lebesgue\n",
      " John E. Littlewood\n",
      " F. L. Gottlob Frege\n",
      "\n",
      "83  John E. Littlewood\n",
      " F. L. Gottlob Frege\n",
      "\n",
      "84  F. L. Gottlob Frege\n",
      "\n",
      "85  Alfred Tarski\n",
      " Shiing-Shen Chern\n",
      " James J. Sylvester\n",
      " Johann Bernoulli\n",
      " Ernst E. Kummer\n",
      "\n",
      "86  Shiing-Shen Chern\n",
      " James J. Sylvester\n",
      " Johann Bernoulli\n",
      " Ernst E. Kummer\n",
      "\n",
      "87  James J. Sylvester\n",
      " Johann Bernoulli\n",
      " Ernst E. Kummer\n",
      "\n",
      "88  Johann Bernoulli\n",
      " Ernst E. Kummer\n",
      "\n",
      "89  Ernst E. Kummer\n",
      "\n",
      "90  Johann H. Lambert\n",
      " George Pólya\n",
      " Felix Hausdorff\n",
      " George D. Birkhoff\n",
      " Siméon-Denis Poisson\n",
      "\n",
      "91  George Pólya\n",
      " Felix Hausdorff\n",
      " George D. Birkhoff\n",
      " Siméon-Denis Poisson\n",
      "\n",
      "92  Felix Hausdorff\n",
      " George D. Birkhoff\n",
      " Siméon-Denis Poisson\n",
      "\n",
      "93  George D. Birkhoff\n",
      " Siméon-Denis Poisson\n",
      "\n",
      "94  Siméon-Denis Poisson\n",
      "\n",
      "95  John Wallis\n",
      " Omar al-Khayyám\n",
      " Adrien M. Legendre\n",
      " Pappus  of Alexandria\n",
      " Thales  of Miletus\n",
      "\n",
      "96  Omar al-Khayyám\n",
      " Adrien M. Legendre\n",
      " Pappus  of Alexandria\n",
      " Thales  of Miletus\n",
      "\n",
      "97  Adrien M. Legendre\n",
      " Pappus  of Alexandria\n",
      " Thales  of Miletus\n",
      "\n",
      "98  Pappus  of Alexandria\n",
      " Thales  of Miletus\n",
      "\n",
      "99  Thales  of Miletus\n",
      "\n"
     ]
    }
   ],
   "source": [
    "# getting a list of famous mathematicians making usage of\n",
    "# functions defined in point 2\n",
    "url = 'http://www.fabpedigree.com/james/mathmen.htm'\n",
    "raw_html = simple_get(url) # returns www page content\n",
    "html = BeautifulSoup(raw_html, 'html.parser')\n",
    "\n",
    "# making an enumerative list of mathematicians names\n",
    "# webbrowser dev tools help to examine html document to find\n",
    "# and select tags containing mathmen names (<li>)\n",
    "for i, li in enumerate(html.select('li')):\n",
    "    print(i, li.text)"
   ]
  },
  {
   "cell_type": "raw",
   "metadata": {},
   "source": [
    "Above list shows that some <li> elements contain multiple names separated by 'newlines' while other contain just a single name(strange?) - it must be extracted to a single list of names."
   ]
  },
  {
   "cell_type": "code",
   "execution_count": 7,
   "metadata": {
    "ExecuteTime": {
     "end_time": "2019-04-16T06:08:43.948992Z",
     "start_time": "2019-04-16T06:08:43.906492Z"
    }
   },
   "outputs": [],
   "source": [
    "# function extracting a single list of names\n",
    "def get_names():\n",
    "    \"\"\"\n",
    "    Downloads the page where the list of mathematicians is found\n",
    "    and returns a list of strings, one per mathematician.\n",
    "    \"\"\"\n",
    "    url = 'http://www.fabpedigree.com/james/mathmen.htm'\n",
    "    response = simple_get(url)\n",
    "    \n",
    "    if response is not None:\n",
    "        html = BeautifulSoup(response, 'html.parser')\n",
    "        names = set() # there are no repeated elements\n",
    "        for li in html.select('li'):\n",
    "            for name in li.text.split('\\n'):\n",
    "                if len(name) > 0:\n",
    "                    names.add(name.strip())\n",
    "                    \n",
    "    return list(names)\n",
    "\n",
    "    # raising an exception if a failure to get any data from the url\n",
    "    raise Exception('Error retrieving contents at {}'.format(url))"
   ]
  },
  {
   "cell_type": "raw",
   "metadata": {},
   "source": [
    "While url value is assigned to url variable the get_names() function returs a list of name although not in expected order. "
   ]
  },
  {
   "cell_type": "code",
   "execution_count": 8,
   "metadata": {
    "ExecuteTime": {
     "end_time": "2019-04-16T06:08:45.899867Z",
     "start_time": "2019-04-16T06:08:43.951492Z"
    }
   },
   "outputs": [
    {
     "data": {
      "text/plain": [
       "['Eudoxus  of Cnidus', 'Gottfried W. Leibniz']"
      ]
     },
     "execution_count": 8,
     "metadata": {},
     "output_type": "execute_result"
    }
   ],
   "source": [
    "get_names()[:2]"
   ]
  },
  {
   "cell_type": "raw",
   "metadata": {},
   "source": [
    "Does not responds with 200 status_code because of xtools politics and recommendation to use Wikimedia API\n",
    "url_root = 'https://xtools.wmflabs.org/articleinfo/en.wikipedia.org/' + name\n",
    "url_root = 'URL_REMOVED_SEE_NOTICE_AT_START_OF_ARTICLE'\n",
    "----------------------------------------------------------------------------\n",
    "!!! Function below has not been used in the project finally !!!\n",
    "# function returns 'popularity score' - the pageviews number for each name\n",
    "# viewed on Wiki(all statistics are on xtools.wmflabs.org)\n",
    "def get_hits_on_name(name):\n",
    "    \"\"\"\n",
    "    Accepts a name of the mathematician and returns the number\n",
    "    of hist that mathematician's Wikipedia page received in the\n",
    "    last 60 days, as an 'int'.\n",
    "    \"\"\"\n",
    "    # url_root is a template string that is used to build a URL - all because\n",
    "    # some warnings from 'xtools' webpage administrator\n",
    "    url_root = 'https://xtools.wmflabs.org/articleinfo/en.wikipedia.org/' + name\n",
    "    #url_root = 'URL_REMOVED_SEE_NOTICE_AT_START_OF_ARTICLE'\n",
    "    response = simple_get(url_root.format(name))\n",
    "    \n",
    "    if response is not None:\n",
    "        html = BeautifulSoup(response, 'html.parser')\n",
    "        \n",
    "        hit_link = [a for a in html.select('a')\n",
    "                    if a['href'].find('latests-60') > -1]\n",
    "        \n",
    "        if len(hit_link) > 0:\n",
    "            # strip commas\n",
    "            link_text = hit_link[0].text.replace(',', '')\n",
    "            try:\n",
    "                # convert to integer\n",
    "                return int(link_text)\n",
    "            except:\n",
    "                log_error(\"Couldn't parse {} as an 'int'\".format(link_text))\n",
    "                \n",
    "    log_error(\"No pageviews found for {}\".format(name))\n",
    "    return None"
   ]
  },
  {
   "cell_type": "code",
   "execution_count": 9,
   "metadata": {
    "ExecuteTime": {
     "end_time": "2019-04-16T06:08:46.226863Z",
     "start_time": "2019-04-16T06:08:45.899867Z"
    }
   },
   "outputs": [
    {
     "data": {
      "text/plain": [
       "<Response [400]>"
      ]
     },
     "execution_count": 9,
     "metadata": {},
     "output_type": "execute_result"
    }
   ],
   "source": [
    "# url received by using 'wikimedia' API so BeatifulSoap scraping will not be used in that code () - checking response\n",
    "url = 'https://wikimedia.org/api/rest_v1/metrics/pageviews/per-article/en.wikipedia/all-access/all-agents/{name}/daily/{start_day}/{now}'\n",
    "get(url)"
   ]
  },
  {
   "cell_type": "code",
   "execution_count": 10,
   "metadata": {
    "ExecuteTime": {
     "end_time": "2019-04-16T06:08:46.234363Z",
     "start_time": "2019-04-16T06:08:46.226863Z"
    }
   },
   "outputs": [],
   "source": [
    "# function returns 'popularity score' - the pageviews number for each name\n",
    "# viewed on Wiki(all statistics are on xtools.wmflabs.org)\n",
    "\n",
    "def get_hits_on_name(name):\n",
    "    \"\"\"\n",
    "    Accepts a name of the mathematician and returns the number\n",
    "    of hist that mathematician's Wikipedia page received in the\n",
    "    last 60 days, as an 'int'.\n",
    "    # function returns 'popularity score' - the pageviews number for each name\n",
    "    \"\"\"\n",
    "   \n",
    "    now = date.today()\n",
    "    start_day = now - timedelta(60)\n",
    "    now, start_day = [datetime.strftime(elm, '%Y%m%d') for elm in [now, start_day]]\n",
    "\n",
    "    # using API method 'pageviews with given name to loop over singular days(in 'items') and get hit results of the last 60 days\n",
    "    url = f'https://wikimedia.org/api/rest_v1/metrics/pageviews/per-article/en.wikipedia/all-access/all-agents/{name}/daily/{start_day}/{now}'\n",
    "    response = get(url).json()\n",
    "    if response is not None:\n",
    "        if 'title' in response.keys():\n",
    "            log_error('No pageviews found for {}'.format(name))\n",
    "            return None \n",
    "        else:\n",
    "            result = sum([x['views'] for x in response['items']])\n",
    "            return result"
   ]
  },
  {
   "cell_type": "markdown",
   "metadata": {},
   "source": [
    "### Putting All Together"
   ]
  },
  {
   "cell_type": "code",
   "execution_count": 11,
   "metadata": {
    "ExecuteTime": {
     "end_time": "2019-04-16T06:09:16.750875Z",
     "start_time": "2019-04-16T06:08:46.249363Z"
    }
   },
   "outputs": [
    {
     "name": "stdout",
     "output_type": "stream",
     "text": [
      "Getting the list of names...\n",
      "... done.\n",
      "\n",
      "Getting stats for each name\n",
      "... done.\n",
      "\n",
      "\n",
      "The most popular mathematicians are:\n",
      "\n",
      "Albert Einstein with 1165493 pageviews\n",
      "Isaac Newton with 525051 pageviews\n",
      "Aristotle with 403253 pageviews\n",
      "Galileo Galilei with 376890 pageviews\n",
      "Srinivasa Ramanujan with 285146 pageviews\n",
      "\n",
      "But we did not find results for 28 mathematicians on the list\n"
     ]
    }
   ],
   "source": [
    "# the goal of the code is finding out which mathematician is\n",
    "# most beloved by the public (no by ranking but by views) and \n",
    "# next to sort the names by popularity\n",
    "if __name__ == '__main__':\n",
    "    print('Getting the list of names...')\n",
    "    names = get_names()\n",
    "    print('... done.\\n')\n",
    "    results = []\n",
    "    \n",
    "    print('Getting stats for each name')\n",
    "    for name in names:\n",
    "        try:\n",
    "            hits = get_hits_on_name(name)\n",
    "            if hits is None:\n",
    "                hits = -1\n",
    "                        \n",
    "            results.append((hits, name))\n",
    "        except:\n",
    "            results.append((-1, name))\n",
    "            log_error('Error encountered while processing {}, skipping'.format(name))\n",
    "            \n",
    "    print('... done.\\n')\n",
    "\n",
    "    results.sort()\n",
    "    results.reverse()\n",
    "    \n",
    "    if len(results) > 5:\n",
    "        top_marks = results[:5]\n",
    "    else:\n",
    "        top_marks = results\n",
    "        \n",
    "    print('\\nThe most popular mathematicians are:\\n')\n",
    "    for (mark, mathematician) in top_marks:\n",
    "        print('{} with {} pageviews'.format(mathematician, mark))\n",
    "    no_results = len([res for res in results if res[0] == -1])\n",
    "    print('\\nBut we did not find results for {} mathematicians on the list'.format(no_results))"
   ]
  },
  {
   "cell_type": "raw",
   "metadata": {},
   "source": [
    "The results are not correct in 100% because of some differences between strings of names from 'http://www.fabpedigree.com/james/mathmen.htm' page and those counterparts in Wikipedia. Some manually (?) cleaning would help but.... "
   ]
  },
  {
   "cell_type": "code",
   "execution_count": null,
   "metadata": {},
   "outputs": [],
   "source": []
  }
 ],
 "metadata": {
  "kernelspec": {
   "display_name": "Python 3",
   "language": "python",
   "name": "python3"
  },
  "language_info": {
   "codemirror_mode": {
    "name": "ipython",
    "version": 3
   },
   "file_extension": ".py",
   "mimetype": "text/x-python",
   "name": "python",
   "nbconvert_exporter": "python",
   "pygments_lexer": "ipython3",
   "version": "3.6.1"
  },
  "toc": {
   "base_numbering": 1,
   "nav_menu": {},
   "number_sections": true,
   "sideBar": true,
   "skip_h1_title": true,
   "title_cell": "Table of Contents",
   "title_sidebar": "Contents",
   "toc_cell": true,
   "toc_position": {},
   "toc_section_display": true,
   "toc_window_display": false
  }
 },
 "nbformat": 4,
 "nbformat_minor": 2
}
