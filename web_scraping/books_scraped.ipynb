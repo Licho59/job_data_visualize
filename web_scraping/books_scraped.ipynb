{
 "cells": [
  {
   "cell_type": "markdown",
   "metadata": {},
   "source": [
    "Thanks to 'Web scraping basics with BeautifulSoup' article made by Jonathan Oheix and publishe on Towards Data Science.\n",
    "Some parts of notebook are elements of my learning process - so the code could be shorter but I like it this way."
   ]
  },
  {
   "cell_type": "markdown",
   "metadata": {
    "toc": true
   },
   "source": [
    "<h1>Table of Contents<span class=\"tocSkip\"></span></h1>\n",
    "<div class=\"toc\"><ul class=\"toc-item\"><li><span><a href=\"#Introduction\" data-toc-modified-id=\"Introduction-1\"><span class=\"toc-item-num\">1&nbsp;&nbsp;</span>Introduction</a></span></li><li><span><a href=\"#Scraping-html-page-with-helper-function\" data-toc-modified-id=\"Scraping-html-page-with-helper-function-2\"><span class=\"toc-item-num\">2&nbsp;&nbsp;</span>Scraping html page with helper function</a></span></li><li><span><a href=\"#Finding-book-categories-URLs-on-the-main-page\" data-toc-modified-id=\"Finding-book-categories-URLs-on-the-main-page-3\"><span class=\"toc-item-num\">3&nbsp;&nbsp;</span>Finding book categories URLs on the main page</a></span></li><li><span><a href=\"#Scraping-all-book-data\" data-toc-modified-id=\"Scraping-all-book-data-4\"><span class=\"toc-item-num\">4&nbsp;&nbsp;</span>Scraping all book data</a></span></li><li><span><a href=\"#Getting-all-products-URLs\" data-toc-modified-id=\"Getting-all-products-URLs-5\"><span class=\"toc-item-num\">5&nbsp;&nbsp;</span>Getting all products URLs</a></span></li><li><span><a href=\"#Getting-product-data---table-with-available-information\" data-toc-modified-id=\"Getting-product-data---table-with-available-information-6\"><span class=\"toc-item-num\">6&nbsp;&nbsp;</span>Getting product data - table with available information</a></span></li></ul></div>"
   ]
  },
  {
   "cell_type": "code",
   "execution_count": 1,
   "metadata": {
    "ExecuteTime": {
     "end_time": "2019-07-25T09:43:28.475646Z",
     "start_time": "2019-07-25T09:43:28.468145Z"
    }
   },
   "outputs": [],
   "source": [
    "from IPython.core.interactiveshell import InteractiveShell\n",
    "InteractiveShell.ast_node_interactivity = \"all\""
   ]
  },
  {
   "cell_type": "code",
   "execution_count": 2,
   "metadata": {
    "ExecuteTime": {
     "end_time": "2019-07-25T11:31:34.047067Z",
     "start_time": "2019-07-25T11:31:32.203883Z"
    }
   },
   "outputs": [],
   "source": [
    "import requests\n",
    "from bs4 import BeautifulSoup\n",
    "import re\n",
    "import pandas as pd"
   ]
  },
  {
   "cell_type": "markdown",
   "metadata": {},
   "source": [
    "#### Introduction"
   ]
  },
  {
   "cell_type": "code",
   "execution_count": 3,
   "metadata": {
    "ExecuteTime": {
     "end_time": "2019-07-25T11:31:36.460309Z",
     "start_time": "2019-07-25T11:31:36.219285Z"
    }
   },
   "outputs": [],
   "source": [
    "main_url = 'http://books.toscrape.com/index.html'\n",
    "r = requests.get(main_url)"
   ]
  },
  {
   "cell_type": "markdown",
   "metadata": {},
   "source": [
    "Comparing the different ways of displaying the content of html page: raw code, with bs4 and with bs4+prettify method."
   ]
  },
  {
   "cell_type": "code",
   "execution_count": 4,
   "metadata": {
    "ExecuteTime": {
     "end_time": "2019-07-25T11:31:37.801443Z",
     "start_time": "2019-07-25T11:31:37.792442Z"
    }
   },
   "outputs": [],
   "source": [
    "#print(r.content)"
   ]
  },
  {
   "cell_type": "code",
   "execution_count": 5,
   "metadata": {
    "ExecuteTime": {
     "end_time": "2019-07-25T11:31:38.416504Z",
     "start_time": "2019-07-25T11:31:38.384501Z"
    }
   },
   "outputs": [],
   "source": [
    "soup = BeautifulSoup(r.content)\n",
    "#print(soup)"
   ]
  },
  {
   "cell_type": "code",
   "execution_count": 6,
   "metadata": {
    "ExecuteTime": {
     "end_time": "2019-07-25T11:31:39.020565Z",
     "start_time": "2019-07-25T11:31:39.016564Z"
    }
   },
   "outputs": [],
   "source": [
    "#print(soup.prettify())"
   ]
  },
  {
   "cell_type": "code",
   "execution_count": 7,
   "metadata": {
    "ExecuteTime": {
     "end_time": "2019-07-25T11:31:39.581621Z",
     "start_time": "2019-07-25T11:31:39.574620Z"
    }
   },
   "outputs": [],
   "source": [
    "# all BeautifulSoup methods\n",
    "#print(soup.__dir__())"
   ]
  },
  {
   "cell_type": "code",
   "execution_count": 8,
   "metadata": {
    "ExecuteTime": {
     "end_time": "2019-07-25T11:31:40.121675Z",
     "start_time": "2019-07-25T11:31:40.103673Z"
    }
   },
   "outputs": [
    {
     "data": {
      "text/plain": [
       "<article class=\"product_pod\">\n",
       "<div class=\"image_container\">\n",
       "<a href=\"catalogue/a-light-in-the-attic_1000/index.html\"><img alt=\"A Light in the Attic\" class=\"thumbnail\" src=\"media/cache/2c/da/2cdad67c44b002e7ead0cc35693c0e8b.jpg\"/></a>\n",
       "</div>\n",
       "<p class=\"star-rating Three\">\n",
       "<i class=\"icon-star\"></i>\n",
       "<i class=\"icon-star\"></i>\n",
       "<i class=\"icon-star\"></i>\n",
       "<i class=\"icon-star\"></i>\n",
       "<i class=\"icon-star\"></i>\n",
       "</p>\n",
       "<h3><a href=\"catalogue/a-light-in-the-attic_1000/index.html\" title=\"A Light in the Attic\">A Light in the ...</a></h3>\n",
       "<div class=\"product_price\">\n",
       "<p class=\"price_color\">£51.77</p>\n",
       "<p class=\"instock availability\">\n",
       "<i class=\"icon-ok\"></i>\n",
       "    \n",
       "        In stock\n",
       "    \n",
       "</p>\n",
       "<form>\n",
       "<button class=\"btn btn-primary btn-block\" data-loading-text=\"Adding...\" type=\"submit\">Add to basket</button>\n",
       "</form>\n",
       "</div>\n",
       "</article>"
      ]
     },
     "execution_count": 8,
     "metadata": {},
     "output_type": "execute_result"
    }
   ],
   "source": [
    "# first appearance of the article product\n",
    "soup.find('article')"
   ]
  },
  {
   "cell_type": "code",
   "execution_count": 9,
   "metadata": {
    "ExecuteTime": {
     "end_time": "2019-07-25T11:31:40.892752Z",
     "start_time": "2019-07-25T11:31:40.870750Z"
    }
   },
   "outputs": [
    {
     "data": {
      "text/plain": [
       "<div class=\"image_container\">\n",
       "<a href=\"catalogue/a-light-in-the-attic_1000/index.html\"><img alt=\"A Light in the Attic\" class=\"thumbnail\" src=\"media/cache/2c/da/2cdad67c44b002e7ead0cc35693c0e8b.jpg\"/></a>\n",
       "</div>"
      ]
     },
     "execution_count": 9,
     "metadata": {},
     "output_type": "execute_result"
    }
   ],
   "source": [
    "soup.article.find('div')"
   ]
  },
  {
   "cell_type": "code",
   "execution_count": 10,
   "metadata": {
    "ExecuteTime": {
     "end_time": "2019-07-25T11:31:41.593822Z",
     "start_time": "2019-07-25T11:31:41.577820Z"
    }
   },
   "outputs": [
    {
     "data": {
      "text/plain": [
       "'catalogue/a-light-in-the-attic_1000/index.html'"
      ]
     },
     "execution_count": 10,
     "metadata": {},
     "output_type": "execute_result"
    }
   ],
   "source": [
    "# getting to url of the article contained in 'href' value\n",
    "soup.article.div.find('a').get('href')"
   ]
  },
  {
   "cell_type": "markdown",
   "metadata": {},
   "source": [
    "#### Scraping html page with helper function"
   ]
  },
  {
   "cell_type": "code",
   "execution_count": 11,
   "metadata": {
    "ExecuteTime": {
     "end_time": "2019-07-25T11:31:44.180081Z",
     "start_time": "2019-07-25T11:31:44.169080Z"
    }
   },
   "outputs": [],
   "source": [
    "# useful function to get BeautifulSoup object\n",
    "def getAndParse(url):\n",
    "    result = requests.get(url)\n",
    "    soup = BeautifulSoup(result.text, 'html.parser')\n",
    "    return soup"
   ]
  },
  {
   "cell_type": "code",
   "execution_count": 12,
   "metadata": {
    "ExecuteTime": {
     "end_time": "2019-07-25T11:31:44.686131Z",
     "start_time": "2019-07-25T11:31:44.672130Z"
    }
   },
   "outputs": [
    {
     "data": {
      "text/plain": [
       "<article class=\"product_pod\">\n",
       "<div class=\"image_container\">\n",
       "<a href=\"catalogue/a-light-in-the-attic_1000/index.html\"><img alt=\"A Light in the Attic\" class=\"thumbnail\" src=\"media/cache/2c/da/2cdad67c44b002e7ead0cc35693c0e8b.jpg\"/></a>\n",
       "</div>\n",
       "<p class=\"star-rating Three\">\n",
       "<i class=\"icon-star\"></i>\n",
       "<i class=\"icon-star\"></i>\n",
       "<i class=\"icon-star\"></i>\n",
       "<i class=\"icon-star\"></i>\n",
       "<i class=\"icon-star\"></i>\n",
       "</p>\n",
       "<h3><a href=\"catalogue/a-light-in-the-attic_1000/index.html\" title=\"A Light in the Attic\">A Light in the ...</a></h3>\n",
       "<div class=\"product_price\">\n",
       "<p class=\"price_color\">£51.77</p>\n",
       "<p class=\"instock availability\">\n",
       "<i class=\"icon-ok\"></i>\n",
       "    \n",
       "        In stock\n",
       "    \n",
       "</p>\n",
       "<form>\n",
       "<button class=\"btn btn-primary btn-block\" data-loading-text=\"Adding...\" type=\"submit\">Add to basket</button>\n",
       "</form>\n",
       "</div>\n",
       "</article>"
      ]
     },
     "execution_count": 12,
     "metadata": {},
     "output_type": "execute_result"
    }
   ],
   "source": [
    "# finding the first article, to use class it needs underscore (class_=)\n",
    "soup.find('article', class_='product_pod')"
   ]
  },
  {
   "cell_type": "code",
   "execution_count": 13,
   "metadata": {
    "ExecuteTime": {
     "end_time": "2019-07-25T11:31:45.217184Z",
     "start_time": "2019-07-25T11:31:45.207183Z"
    }
   },
   "outputs": [
    {
     "data": {
      "text/plain": [
       "<div class=\"image_container\">\n",
       "<a href=\"catalogue/a-light-in-the-attic_1000/index.html\"><img alt=\"A Light in the Attic\" class=\"thumbnail\" src=\"media/cache/2c/da/2cdad67c44b002e7ead0cc35693c0e8b.jpg\"/></a>\n",
       "</div>"
      ]
     },
     "execution_count": 13,
     "metadata": {},
     "output_type": "execute_result"
    }
   ],
   "source": [
    "# going deeper\n",
    "soup.find('article', class_='product_pod').div"
   ]
  },
  {
   "cell_type": "code",
   "execution_count": 14,
   "metadata": {
    "ExecuteTime": {
     "end_time": "2019-07-25T11:31:45.787241Z",
     "start_time": "2019-07-25T11:31:45.774240Z"
    }
   },
   "outputs": [
    {
     "data": {
      "text/plain": [
       "'catalogue/a-light-in-the-attic_1000/index.html'"
      ]
     },
     "execution_count": 14,
     "metadata": {},
     "output_type": "execute_result"
    },
    {
     "data": {
      "text/plain": [
       "'catalogue/a-light-in-the-attic_1000/index.html'"
      ]
     },
     "execution_count": 14,
     "metadata": {},
     "output_type": "execute_result"
    }
   ],
   "source": [
    "# ...and deeper\n",
    "soup.find('article', class_='product_pod').div.a.get('href')\n",
    "# above is equivalent to\n",
    "soup.article.div.find('a').get('href')"
   ]
  },
  {
   "cell_type": "code",
   "execution_count": 15,
   "metadata": {
    "ExecuteTime": {
     "end_time": "2019-07-25T11:31:46.309294Z",
     "start_time": "2019-07-25T11:31:46.289292Z"
    }
   },
   "outputs": [
    {
     "name": "stdout",
     "output_type": "stream",
     "text": [
      "20 fetched products URLs\n"
     ]
    }
   ],
   "source": [
    "# getting all product urls from main page (using class_ is not necessary)\n",
    "main_page_product_urls = [x.div.a.get('href') for x in soup.find_all('article')]\n",
    "print(f'{len(main_page_product_urls)} fetched products URLs')"
   ]
  },
  {
   "cell_type": "code",
   "execution_count": 16,
   "metadata": {
    "ExecuteTime": {
     "end_time": "2019-07-25T11:31:46.718334Z",
     "start_time": "2019-07-25T11:31:46.707333Z"
    }
   },
   "outputs": [
    {
     "data": {
      "text/plain": [
       "'http://books.toscrape.com/index.html'"
      ]
     },
     "execution_count": 16,
     "metadata": {},
     "output_type": "execute_result"
    },
    {
     "data": {
      "text/plain": [
       "'http://books.toscrape.com'"
      ]
     },
     "execution_count": 16,
     "metadata": {},
     "output_type": "execute_result"
    }
   ],
   "source": [
    "main_url\n",
    "'/'.join(main_url.split('/')[:-1])"
   ]
  },
  {
   "cell_type": "code",
   "execution_count": 17,
   "metadata": {
    "ExecuteTime": {
     "end_time": "2019-07-25T11:31:47.198382Z",
     "start_time": "2019-07-25T11:31:47.189382Z"
    }
   },
   "outputs": [
    {
     "name": "stdout",
     "output_type": "stream",
     "text": [
      "One example:\n",
      "http://books.toscrape.com/catalogue/a-light-in-the-attic_1000/index.html\n"
     ]
    }
   ],
   "source": [
    "# example url address after supplementing with url of main page (and removing 'ingex.html' part)\n",
    "print(f\"One example:\\n{'/'.join(main_url.split('/')[:-1])}/{main_page_product_urls[0]}\")"
   ]
  },
  {
   "cell_type": "code",
   "execution_count": 18,
   "metadata": {
    "ExecuteTime": {
     "end_time": "2019-07-25T11:31:49.823645Z",
     "start_time": "2019-07-25T11:31:49.816644Z"
    }
   },
   "outputs": [],
   "source": [
    "# another helper function to get all books URLs list\n",
    "def getBooksURLs(url):\n",
    "    soup = getAndParse(url)\n",
    "    return ['/'.join(url.split('/')[:-1]) + '/' + x.div.a.get('href')\n",
    "            for x in soup.find_all('article', class_='product_pod')]"
   ]
  },
  {
   "cell_type": "code",
   "execution_count": 19,
   "metadata": {
    "ExecuteTime": {
     "end_time": "2019-07-25T11:31:50.829746Z",
     "start_time": "2019-07-25T11:31:50.279691Z"
    }
   },
   "outputs": [
    {
     "name": "stdout",
     "output_type": "stream",
     "text": [
      "http://books.toscrape.com/catalogue/a-light-in-the-attic_1000/index.html\n",
      "http://books.toscrape.com/catalogue/tipping-the-velvet_999/index.html\n",
      "http://books.toscrape.com/catalogue/soumission_998/index.html\n",
      "http://books.toscrape.com/catalogue/sharp-objects_997/index.html\n",
      "http://books.toscrape.com/catalogue/sapiens-a-brief-history-of-humankind_996/index.html\n"
     ]
    }
   ],
   "source": [
    "for book_url in getBooksURLs(main_url)[:5]:\n",
    "    print(book_url)"
   ]
  },
  {
   "cell_type": "markdown",
   "metadata": {},
   "source": [
    "#### Finding book categories URLs on the main page"
   ]
  },
  {
   "cell_type": "code",
   "execution_count": 20,
   "metadata": {
    "ExecuteTime": {
     "end_time": "2019-07-25T11:31:52.251888Z",
     "start_time": "2019-07-25T11:31:52.225885Z"
    }
   },
   "outputs": [
    {
     "name": "stdout",
     "output_type": "stream",
     "text": [
      "http://books.toscrape.com\n"
     ]
    }
   ],
   "source": [
    "url = '/'.join(main_url.split('/')[:-1])\n",
    "print(url)\n",
    "categories_urls = [url + '/' + x.get('href') for x in soup.find_all('a', href=re.compile('catalogue/category/books'))]\n",
    "categories_urls = categories_urls[1:] # fist category concerns all books"
   ]
  },
  {
   "cell_type": "code",
   "execution_count": 21,
   "metadata": {
    "ExecuteTime": {
     "end_time": "2019-07-25T11:31:53.285991Z",
     "start_time": "2019-07-25T11:31:53.271990Z"
    }
   },
   "outputs": [
    {
     "name": "stdout",
     "output_type": "stream",
     "text": [
      "50 fetched categories URLs\n",
      "Some examples:\n",
      "http://books.toscrape.com/catalogue/category/books/travel_2/index.html\n",
      "http://books.toscrape.com/catalogue/category/books/mystery_3/index.html\n",
      "http://books.toscrape.com/catalogue/category/books/historical-fiction_4/index.html\n",
      "http://books.toscrape.com/catalogue/category/books/sequential-art_5/index.html\n",
      "http://books.toscrape.com/catalogue/category/books/classics_6/index.html\n"
     ]
    }
   ],
   "source": [
    "print(str(len(categories_urls)), 'fetched categories URLs')\n",
    "print('Some examples:')\n",
    "for cat in categories_urls[:5]:\n",
    "    print(cat)"
   ]
  },
  {
   "cell_type": "markdown",
   "metadata": {
    "ExecuteTime": {
     "end_time": "2019-07-23T11:47:30.279544Z",
     "start_time": "2019-07-23T11:47:30.263944Z"
    }
   },
   "source": [
    "#### Scraping all book data"
   ]
  },
  {
   "cell_type": "code",
   "execution_count": 22,
   "metadata": {
    "ExecuteTime": {
     "end_time": "2019-07-25T11:32:25.957258Z",
     "start_time": "2019-07-25T11:31:56.784341Z"
    }
   },
   "outputs": [],
   "source": [
    "pages_urls = [main_url]\n",
    "soup = getAndParse(pages_urls[0])\n",
    "\n",
    "while len(soup.find_all('a', href=re.compile('page')))==2 or len(pages_urls)==1:\n",
    "    new_url = '/'.join(pages_urls[-1].split('/')[:-1])+'/'+soup.find_all('a', href=re.compile('page'))[-1].get('href')\n",
    "    pages_urls.append(new_url)\n",
    "    soup = getAndParse(new_url)"
   ]
  },
  {
   "cell_type": "code",
   "execution_count": 23,
   "metadata": {
    "ExecuteTime": {
     "end_time": "2019-07-25T11:32:27.596422Z",
     "start_time": "2019-07-25T11:32:27.580420Z"
    }
   },
   "outputs": [
    {
     "name": "stdout",
     "output_type": "stream",
     "text": [
      "50 fetched URLs\n",
      "Some examples:\n",
      "http://books.toscrape.com/index.html\n",
      "http://books.toscrape.com/catalogue/page-2.html\n",
      "http://books.toscrape.com/catalogue/page-3.html\n",
      "http://books.toscrape.com/catalogue/page-4.html\n",
      "http://books.toscrape.com/catalogue/page-5.html\n"
     ]
    }
   ],
   "source": [
    "print(str(len(pages_urls)), 'fetched URLs')\n",
    "print('Some examples:')\n",
    "for page in pages_urls[:5]:\n",
    "    print(page)"
   ]
  },
  {
   "cell_type": "code",
   "execution_count": 24,
   "metadata": {
    "ExecuteTime": {
     "end_time": "2019-07-25T11:32:30.394702Z",
     "start_time": "2019-07-25T11:32:30.167679Z"
    }
   },
   "outputs": [
    {
     "name": "stdout",
     "output_type": "stream",
     "text": [
      "Status code for page 50: 200\n",
      "Status code for page 51: 404\n"
     ]
    }
   ],
   "source": [
    "result = requests.get('http://books.toscrape.com/catalogue/page-50.html')\n",
    "print('Status code for page 50:', result.status_code)\n",
    "result = requests.get('http://books.toscrape.com/catalogue/page-51.html')\n",
    "print('Status code for page 51:', result.status_code)"
   ]
  },
  {
   "cell_type": "code",
   "execution_count": 25,
   "metadata": {
    "ExecuteTime": {
     "end_time": "2019-07-25T11:32:31.951857Z",
     "start_time": "2019-07-25T11:32:31.940856Z"
    }
   },
   "outputs": [
    {
     "name": "stdout",
     "output_type": "stream",
     "text": [
      "Status code for page 51: 404\n"
     ]
    }
   ],
   "source": [
    "# using regular expression\n",
    "url = 'http://books.toscrape.com/catalogue/page-51.html'\n",
    "m = re.search('\\d+', url).group()\n",
    "print(f\"Status code for page {m}:\", result.status_code)"
   ]
  },
  {
   "cell_type": "code",
   "execution_count": 26,
   "metadata": {
    "ExecuteTime": {
     "end_time": "2019-07-25T11:33:12.446906Z",
     "start_time": "2019-07-25T11:32:55.061168Z"
    }
   },
   "outputs": [
    {
     "data": {
      "text/plain": [
       "['http://books.toscrape.com/catalogue/page-46.html',\n",
       " 'http://books.toscrape.com/catalogue/page-47.html',\n",
       " 'http://books.toscrape.com/catalogue/page-48.html',\n",
       " 'http://books.toscrape.com/catalogue/page-49.html',\n",
       " 'http://books.toscrape.com/catalogue/page-50.html']"
      ]
     },
     "execution_count": 26,
     "metadata": {},
     "output_type": "execute_result"
    }
   ],
   "source": [
    "# listing all pages with status code equal to 200\n",
    "def allPages():\n",
    "    page_urls = []\n",
    "    new_page = 'http://books.toscrape.com/catalogue/page-1.html'\n",
    "    while requests.get(new_page).status_code == 200:\n",
    "        page_urls.append(new_page)\n",
    "        new_page = page_urls[-1].split('-')[0] + '-' + str(int(re.search('\\d+', new_page).group()) + 1) + '.html'\n",
    "    return page_urls\n",
    "\n",
    "allPages()[-5:]"
   ]
  },
  {
   "cell_type": "markdown",
   "metadata": {},
   "source": [
    "#### Getting all products URLs"
   ]
  },
  {
   "cell_type": "code",
   "execution_count": 27,
   "metadata": {
    "ExecuteTime": {
     "end_time": "2019-07-25T11:33:44.570118Z",
     "start_time": "2019-07-25T11:33:19.495611Z"
    }
   },
   "outputs": [
    {
     "name": "stdout",
     "output_type": "stream",
     "text": [
      "The total number of books in \"Books to Scrape\" repository: 1000\n",
      "Some examples:\n",
      "http://books.toscrape.com/catalogue/a-light-in-the-attic_1000/index.html\n",
      "http://books.toscrape.com/catalogue/tipping-the-velvet_999/index.html\n",
      "http://books.toscrape.com/catalogue/soumission_998/index.html\n",
      "http://books.toscrape.com/catalogue/sharp-objects_997/index.html\n",
      "http://books.toscrape.com/catalogue/sapiens-a-brief-history-of-humankind_996/index.html\n"
     ]
    }
   ],
   "source": [
    "# function returning all books urls\n",
    "def allBooks():\n",
    "    all_books = []\n",
    "    for page in allPages():\n",
    "        for book_url in getBooksURLs(page):\n",
    "            all_books.append(book_url)\n",
    "    return all_books\n",
    "\n",
    "all_urls = allBooks()\n",
    "print(f'The total number of books in \"Books to Scrape\" repository: {len(all_urls)}')\n",
    "\n",
    "print('Some examples:')\n",
    "for book_url in all_urls[:5]:\n",
    "      print(book_url)"
   ]
  },
  {
   "cell_type": "markdown",
   "metadata": {},
   "source": [
    "#### Getting product data - table with available information"
   ]
  },
  {
   "cell_type": "code",
   "execution_count": 42,
   "metadata": {
    "ExecuteTime": {
     "end_time": "2019-07-25T12:04:12.674179Z",
     "start_time": "2019-07-25T12:03:45.106423Z"
    }
   },
   "outputs": [],
   "source": [
    "# preparing list of url addresses for each book\n",
    "all_urls = allBooks()"
   ]
  },
  {
   "cell_type": "markdown",
   "metadata": {},
   "source": [
    "Singular codes for each category: title, in stock, price, book category, rating, image"
   ]
  },
  {
   "cell_type": "code",
   "execution_count": 43,
   "metadata": {
    "ExecuteTime": {
     "end_time": "2019-07-25T12:04:18.425754Z",
     "start_time": "2019-07-25T12:04:18.067719Z"
    }
   },
   "outputs": [
    {
     "name": "stdout",
     "output_type": "stream",
     "text": [
      "A Light in the Attic\n"
     ]
    }
   ],
   "source": [
    "url = all_urls[0]\n",
    "soup = getAndParse(url)\n",
    "#title = soup.find_all('li', class_=\"active\")\n",
    "#title[0].text\n",
    "title = soup.find_all('h1')[0].text\n",
    "print(title)"
   ]
  },
  {
   "cell_type": "code",
   "execution_count": 44,
   "metadata": {
    "ExecuteTime": {
     "end_time": "2019-07-25T12:04:21.166028Z",
     "start_time": "2019-07-25T12:04:21.155027Z"
    }
   },
   "outputs": [
    {
     "name": "stdout",
     "output_type": "stream",
     "text": [
      "22\n"
     ]
    }
   ],
   "source": [
    "in_stock = re.search('\\d+', soup.find_all('p', class_=\"instock availability\")[0].text).group()\n",
    "print(in_stock)"
   ]
  },
  {
   "cell_type": "code",
   "execution_count": 45,
   "metadata": {
    "ExecuteTime": {
     "end_time": "2019-07-25T12:04:22.051117Z",
     "start_time": "2019-07-25T12:04:22.039116Z"
    }
   },
   "outputs": [
    {
     "name": "stdout",
     "output_type": "stream",
     "text": [
      "51.77\n"
     ]
    }
   ],
   "source": [
    "price = re.search('\\d+\\.\\d+', soup.find_all('p', class_=\"price_color\")[0].text).group()\n",
    "print(price)"
   ]
  },
  {
   "cell_type": "code",
   "execution_count": 32,
   "metadata": {
    "ExecuteTime": {
     "end_time": "2019-07-25T11:36:01.943854Z",
     "start_time": "2019-07-25T11:36:01.932853Z"
    }
   },
   "outputs": [
    {
     "name": "stdout",
     "output_type": "stream",
     "text": [
      "poetry\n"
     ]
    }
   ],
   "source": [
    "book_category = re.match('[a-zA-Z]+',soup.find_all('a', href=re.compile(\"../category/books\"))\n",
    "                         [-1].get('href').split('/')[3]).group()\n",
    "print(book_category)"
   ]
  },
  {
   "cell_type": "code",
   "execution_count": 33,
   "metadata": {
    "ExecuteTime": {
     "end_time": "2019-07-25T11:36:05.859246Z",
     "start_time": "2019-07-25T11:36:05.844244Z"
    }
   },
   "outputs": [
    {
     "name": "stdout",
     "output_type": "stream",
     "text": [
      "Three\n"
     ]
    }
   ],
   "source": [
    "rating = soup.find_all('p', class_=re.compile(\"star\"))[0].get(\"class\")[-1]\n",
    "print(rating)"
   ]
  },
  {
   "cell_type": "code",
   "execution_count": 34,
   "metadata": {
    "ExecuteTime": {
     "end_time": "2019-07-25T11:36:12.920952Z",
     "start_time": "2019-07-25T11:36:12.908951Z"
    }
   },
   "outputs": [
    {
     "name": "stdout",
     "output_type": "stream",
     "text": [
      "http://books.toscrape.com/media/cache/fe/72/fe72f0532301ec28892ae79a629a293c.jpg\n"
     ]
    }
   ],
   "source": [
    "url_image = soup.find_all('img')[0].get('src')\n",
    "url_image = '/'.join(url.split('/')[:3]) + '/' + '/'.join(url_image.split('/')[2:])\n",
    "print(url_image)"
   ]
  },
  {
   "cell_type": "code",
   "execution_count": 35,
   "metadata": {
    "ExecuteTime": {
     "end_time": "2019-07-25T11:36:55.931253Z",
     "start_time": "2019-07-25T11:36:55.264186Z"
    }
   },
   "outputs": [],
   "source": [
    "# getting all books data for each category like: title, number in stock, price, book category, rating, url of image\n",
    "titles = []\n",
    "nb_in_stock = []\n",
    "prices = []\n",
    "book_categories = []\n",
    "ratings = []\n",
    "image_urls = []\n",
    "for url in all_urls[:5]:\n",
    "    soup = getAndParse(url)\n",
    "    titles.append(soup.find_all('h1')[0].text)\n",
    "    nb_in_stock.append(re.search('\\d+', soup.find_all('p', class_=\"instock availability\")[0].text).group())\n",
    "    prices.append(re.search('\\d+\\.\\d+', soup.find_all('p', class_=\"price_color\")[0].text).group())\n",
    "    book_categories.append(soup.find_all('a', href=re.compile('../category/books'))[-1].get('href').split('/')[3])\n",
    "    ratings.append(soup.find_all('p', class_=re.compile('star'))[0].get(\"class\")[-1])\n",
    "    image_urls.append('/'.join(url.split('/')[:3]) + '/' + '/'.join(soup.find_all('img')[0].get('src').split('/')[2:]))\n",
    "    "
   ]
  },
  {
   "cell_type": "code",
   "execution_count": 36,
   "metadata": {
    "ExecuteTime": {
     "end_time": "2019-07-25T11:36:58.343494Z",
     "start_time": "2019-07-25T11:36:58.327492Z"
    }
   },
   "outputs": [
    {
     "name": "stdout",
     "output_type": "stream",
     "text": [
      "['A Light in the Attic', 'Tipping the Velvet', 'Soumission', 'Sharp Objects', 'Sapiens: A Brief History of Humankind'] \n",
      " ['22', '20', '20', '20', '20'] \n",
      " ['51.77', '53.74', '50.10', '47.82', '54.23'] \n",
      " ['poetry_23', 'historical-fiction_4', 'fiction_10', 'mystery_3', 'history_32'] \n",
      " ['Three', 'One', 'One', 'Four', 'Five']\n",
      "http://books.toscrape.com/media/cache/fe/72/fe72f0532301ec28892ae79a629a293c.jpg\n",
      "http://books.toscrape.com/media/cache/08/e9/08e94f3731d7d6b760dfbfbc02ca5c62.jpg\n",
      "http://books.toscrape.com/media/cache/ee/cf/eecfe998905e455df12064dba399c075.jpg\n",
      "http://books.toscrape.com/media/cache/c0/59/c05972805aa7201171b8fc71a5b00292.jpg\n",
      "http://books.toscrape.com/media/cache/ce/5f/ce5f052c65cc963cf4422be096e915c9.jpg\n"
     ]
    }
   ],
   "source": [
    "# printing results of first 5 books for each category\n",
    "print(titles,'\\n',nb_in_stock,'\\n',prices,'\\n',book_categories,'\\n',ratings)\n",
    "for image in image_urls:\n",
    "    print(image)"
   ]
  },
  {
   "cell_type": "code",
   "execution_count": 37,
   "metadata": {
    "ExecuteTime": {
     "end_time": "2019-07-25T11:37:01.610821Z",
     "start_time": "2019-07-25T11:37:01.564816Z"
    }
   },
   "outputs": [
    {
     "data": {
      "text/html": [
       "<div>\n",
       "<style scoped>\n",
       "    .dataframe tbody tr th:only-of-type {\n",
       "        vertical-align: middle;\n",
       "    }\n",
       "\n",
       "    .dataframe tbody tr th {\n",
       "        vertical-align: top;\n",
       "    }\n",
       "\n",
       "    .dataframe thead th {\n",
       "        text-align: right;\n",
       "    }\n",
       "</style>\n",
       "<table border=\"1\" class=\"dataframe\">\n",
       "  <thead>\n",
       "    <tr style=\"text-align: right;\">\n",
       "      <th></th>\n",
       "      <th>Titles</th>\n",
       "      <th>Number in stock</th>\n",
       "      <th>Prices</th>\n",
       "      <th>Categories</th>\n",
       "      <th>Ratings</th>\n",
       "      <th>Image url</th>\n",
       "    </tr>\n",
       "  </thead>\n",
       "  <tbody>\n",
       "    <tr>\n",
       "      <th>0</th>\n",
       "      <td>A Light in the Attic</td>\n",
       "      <td>22</td>\n",
       "      <td>51.77</td>\n",
       "      <td>poetry_23</td>\n",
       "      <td>Three</td>\n",
       "      <td>http://books.toscrape.com/media/cache/fe/72/fe...</td>\n",
       "    </tr>\n",
       "    <tr>\n",
       "      <th>1</th>\n",
       "      <td>Tipping the Velvet</td>\n",
       "      <td>20</td>\n",
       "      <td>53.74</td>\n",
       "      <td>historical-fiction_4</td>\n",
       "      <td>One</td>\n",
       "      <td>http://books.toscrape.com/media/cache/08/e9/08...</td>\n",
       "    </tr>\n",
       "    <tr>\n",
       "      <th>2</th>\n",
       "      <td>Soumission</td>\n",
       "      <td>20</td>\n",
       "      <td>50.10</td>\n",
       "      <td>fiction_10</td>\n",
       "      <td>One</td>\n",
       "      <td>http://books.toscrape.com/media/cache/ee/cf/ee...</td>\n",
       "    </tr>\n",
       "    <tr>\n",
       "      <th>3</th>\n",
       "      <td>Sharp Objects</td>\n",
       "      <td>20</td>\n",
       "      <td>47.82</td>\n",
       "      <td>mystery_3</td>\n",
       "      <td>Four</td>\n",
       "      <td>http://books.toscrape.com/media/cache/c0/59/c0...</td>\n",
       "    </tr>\n",
       "    <tr>\n",
       "      <th>4</th>\n",
       "      <td>Sapiens: A Brief History of Humankind</td>\n",
       "      <td>20</td>\n",
       "      <td>54.23</td>\n",
       "      <td>history_32</td>\n",
       "      <td>Five</td>\n",
       "      <td>http://books.toscrape.com/media/cache/ce/5f/ce...</td>\n",
       "    </tr>\n",
       "  </tbody>\n",
       "</table>\n",
       "</div>"
      ],
      "text/plain": [
       "                                  Titles Number in stock Prices  \\\n",
       "0                   A Light in the Attic              22  51.77   \n",
       "1                     Tipping the Velvet              20  53.74   \n",
       "2                             Soumission              20  50.10   \n",
       "3                          Sharp Objects              20  47.82   \n",
       "4  Sapiens: A Brief History of Humankind              20  54.23   \n",
       "\n",
       "             Categories Ratings  \\\n",
       "0             poetry_23   Three   \n",
       "1  historical-fiction_4     One   \n",
       "2            fiction_10     One   \n",
       "3             mystery_3    Four   \n",
       "4            history_32    Five   \n",
       "\n",
       "                                           Image url  \n",
       "0  http://books.toscrape.com/media/cache/fe/72/fe...  \n",
       "1  http://books.toscrape.com/media/cache/08/e9/08...  \n",
       "2  http://books.toscrape.com/media/cache/ee/cf/ee...  \n",
       "3  http://books.toscrape.com/media/cache/c0/59/c0...  \n",
       "4  http://books.toscrape.com/media/cache/ce/5f/ce...  "
      ]
     },
     "execution_count": 37,
     "metadata": {},
     "output_type": "execute_result"
    }
   ],
   "source": [
    "scraped_results = pd.DataFrame({'Titles':titles, 'Number in stock': nb_in_stock, 'Prices':prices,\n",
    "                                'Categories': book_categories, 'Ratings': ratings, 'Image url': image_urls})\n",
    "scraped_results.head()"
   ]
  },
  {
   "cell_type": "code",
   "execution_count": 38,
   "metadata": {
    "ExecuteTime": {
     "end_time": "2019-07-25T11:37:05.741234Z",
     "start_time": "2019-07-25T11:37:05.724232Z"
    }
   },
   "outputs": [
    {
     "data": {
      "text/html": [
       "<div>\n",
       "<style scoped>\n",
       "    .dataframe tbody tr th:only-of-type {\n",
       "        vertical-align: middle;\n",
       "    }\n",
       "\n",
       "    .dataframe tbody tr th {\n",
       "        vertical-align: top;\n",
       "    }\n",
       "\n",
       "    .dataframe thead th {\n",
       "        text-align: right;\n",
       "    }\n",
       "</style>\n",
       "<table border=\"1\" class=\"dataframe\">\n",
       "  <thead>\n",
       "    <tr style=\"text-align: right;\">\n",
       "      <th></th>\n",
       "      <th>Titles</th>\n",
       "      <th>Number in stock</th>\n",
       "      <th>Prices</th>\n",
       "      <th>Categories</th>\n",
       "      <th>Ratings</th>\n",
       "      <th>Image url</th>\n",
       "    </tr>\n",
       "  </thead>\n",
       "  <tbody>\n",
       "    <tr>\n",
       "      <th>0</th>\n",
       "      <td>A Light in the Attic</td>\n",
       "      <td>22</td>\n",
       "      <td>51.77</td>\n",
       "      <td>poetry_23</td>\n",
       "      <td>3</td>\n",
       "      <td>http://books.toscrape.com/media/cache/fe/72/fe...</td>\n",
       "    </tr>\n",
       "    <tr>\n",
       "      <th>1</th>\n",
       "      <td>Tipping the Velvet</td>\n",
       "      <td>20</td>\n",
       "      <td>53.74</td>\n",
       "      <td>historical-fiction_4</td>\n",
       "      <td>1</td>\n",
       "      <td>http://books.toscrape.com/media/cache/08/e9/08...</td>\n",
       "    </tr>\n",
       "    <tr>\n",
       "      <th>2</th>\n",
       "      <td>Soumission</td>\n",
       "      <td>20</td>\n",
       "      <td>50.10</td>\n",
       "      <td>fiction_10</td>\n",
       "      <td>1</td>\n",
       "      <td>http://books.toscrape.com/media/cache/ee/cf/ee...</td>\n",
       "    </tr>\n",
       "    <tr>\n",
       "      <th>3</th>\n",
       "      <td>Sharp Objects</td>\n",
       "      <td>20</td>\n",
       "      <td>47.82</td>\n",
       "      <td>mystery_3</td>\n",
       "      <td>4</td>\n",
       "      <td>http://books.toscrape.com/media/cache/c0/59/c0...</td>\n",
       "    </tr>\n",
       "    <tr>\n",
       "      <th>4</th>\n",
       "      <td>Sapiens: A Brief History of Humankind</td>\n",
       "      <td>20</td>\n",
       "      <td>54.23</td>\n",
       "      <td>history_32</td>\n",
       "      <td>5</td>\n",
       "      <td>http://books.toscrape.com/media/cache/ce/5f/ce...</td>\n",
       "    </tr>\n",
       "  </tbody>\n",
       "</table>\n",
       "</div>"
      ],
      "text/plain": [
       "                                  Titles Number in stock Prices  \\\n",
       "0                   A Light in the Attic              22  51.77   \n",
       "1                     Tipping the Velvet              20  53.74   \n",
       "2                             Soumission              20  50.10   \n",
       "3                          Sharp Objects              20  47.82   \n",
       "4  Sapiens: A Brief History of Humankind              20  54.23   \n",
       "\n",
       "             Categories  Ratings  \\\n",
       "0             poetry_23        3   \n",
       "1  historical-fiction_4        1   \n",
       "2            fiction_10        1   \n",
       "3             mystery_3        4   \n",
       "4            history_32        5   \n",
       "\n",
       "                                           Image url  \n",
       "0  http://books.toscrape.com/media/cache/fe/72/fe...  \n",
       "1  http://books.toscrape.com/media/cache/08/e9/08...  \n",
       "2  http://books.toscrape.com/media/cache/ee/cf/ee...  \n",
       "3  http://books.toscrape.com/media/cache/c0/59/c0...  \n",
       "4  http://books.toscrape.com/media/cache/ce/5f/ce...  "
      ]
     },
     "execution_count": 38,
     "metadata": {},
     "output_type": "execute_result"
    }
   ],
   "source": [
    "# converting ratings into numerical values\n",
    "scraped_results['Ratings'] = scraped_results['Ratings'].map({'One': 1, 'Two': 2, 'Three': 3, 'Four': 4, 'Five': 5})\n",
    "scraped_results.head()"
   ]
  },
  {
   "cell_type": "code",
   "execution_count": 39,
   "metadata": {
    "ExecuteTime": {
     "end_time": "2019-07-25T11:37:12.274887Z",
     "start_time": "2019-07-25T11:37:12.257885Z"
    }
   },
   "outputs": [
    {
     "data": {
      "text/html": [
       "<div>\n",
       "<style scoped>\n",
       "    .dataframe tbody tr th:only-of-type {\n",
       "        vertical-align: middle;\n",
       "    }\n",
       "\n",
       "    .dataframe tbody tr th {\n",
       "        vertical-align: top;\n",
       "    }\n",
       "\n",
       "    .dataframe thead th {\n",
       "        text-align: right;\n",
       "    }\n",
       "</style>\n",
       "<table border=\"1\" class=\"dataframe\">\n",
       "  <thead>\n",
       "    <tr style=\"text-align: right;\">\n",
       "      <th></th>\n",
       "      <th>Titles</th>\n",
       "      <th>Number in stock</th>\n",
       "      <th>Prices</th>\n",
       "      <th>Categories</th>\n",
       "      <th>Ratings</th>\n",
       "      <th>Image url</th>\n",
       "    </tr>\n",
       "  </thead>\n",
       "  <tbody>\n",
       "    <tr>\n",
       "      <th>0</th>\n",
       "      <td>A Light in the Attic</td>\n",
       "      <td>22</td>\n",
       "      <td>51.77</td>\n",
       "      <td>poetry</td>\n",
       "      <td>3</td>\n",
       "      <td>http://books.toscrape.com/media/cache/fe/72/fe...</td>\n",
       "    </tr>\n",
       "    <tr>\n",
       "      <th>1</th>\n",
       "      <td>Tipping the Velvet</td>\n",
       "      <td>20</td>\n",
       "      <td>53.74</td>\n",
       "      <td>historical</td>\n",
       "      <td>1</td>\n",
       "      <td>http://books.toscrape.com/media/cache/08/e9/08...</td>\n",
       "    </tr>\n",
       "    <tr>\n",
       "      <th>2</th>\n",
       "      <td>Soumission</td>\n",
       "      <td>20</td>\n",
       "      <td>50.10</td>\n",
       "      <td>fiction</td>\n",
       "      <td>1</td>\n",
       "      <td>http://books.toscrape.com/media/cache/ee/cf/ee...</td>\n",
       "    </tr>\n",
       "    <tr>\n",
       "      <th>3</th>\n",
       "      <td>Sharp Objects</td>\n",
       "      <td>20</td>\n",
       "      <td>47.82</td>\n",
       "      <td>mystery</td>\n",
       "      <td>4</td>\n",
       "      <td>http://books.toscrape.com/media/cache/c0/59/c0...</td>\n",
       "    </tr>\n",
       "    <tr>\n",
       "      <th>4</th>\n",
       "      <td>Sapiens: A Brief History of Humankind</td>\n",
       "      <td>20</td>\n",
       "      <td>54.23</td>\n",
       "      <td>history</td>\n",
       "      <td>5</td>\n",
       "      <td>http://books.toscrape.com/media/cache/ce/5f/ce...</td>\n",
       "    </tr>\n",
       "  </tbody>\n",
       "</table>\n",
       "</div>"
      ],
      "text/plain": [
       "                                  Titles Number in stock Prices  Categories  \\\n",
       "0                   A Light in the Attic              22  51.77      poetry   \n",
       "1                     Tipping the Velvet              20  53.74  historical   \n",
       "2                             Soumission              20  50.10     fiction   \n",
       "3                          Sharp Objects              20  47.82     mystery   \n",
       "4  Sapiens: A Brief History of Humankind              20  54.23     history   \n",
       "\n",
       "   Ratings                                          Image url  \n",
       "0        3  http://books.toscrape.com/media/cache/fe/72/fe...  \n",
       "1        1  http://books.toscrape.com/media/cache/08/e9/08...  \n",
       "2        1  http://books.toscrape.com/media/cache/ee/cf/ee...  \n",
       "3        4  http://books.toscrape.com/media/cache/c0/59/c0...  \n",
       "4        5  http://books.toscrape.com/media/cache/ce/5f/ce...  "
      ]
     },
     "execution_count": 39,
     "metadata": {},
     "output_type": "execute_result"
    }
   ],
   "source": [
    "# cleaning Categories values from numbers\n",
    "def clean_cat(category):\n",
    "     return re.match('[a-zA-Z]+', category).group()\n",
    "scraped_results.Categories = scraped_results.Categories.apply(lambda x: re.match('[a-zA-Z]+', x).group())\n",
    "scraped_results.head()"
   ]
  },
  {
   "cell_type": "markdown",
   "metadata": {},
   "source": [
    "The end."
   ]
  }
 ],
 "metadata": {
  "kernelspec": {
   "display_name": "Python 3",
   "language": "python",
   "name": "python3"
  },
  "language_info": {
   "codemirror_mode": {
    "name": "ipython",
    "version": 3
   },
   "file_extension": ".py",
   "mimetype": "text/x-python",
   "name": "python",
   "nbconvert_exporter": "python",
   "pygments_lexer": "ipython3",
   "version": "3.6.1"
  },
  "toc": {
   "base_numbering": 1,
   "nav_menu": {},
   "number_sections": true,
   "sideBar": true,
   "skip_h1_title": true,
   "title_cell": "Table of Contents",
   "title_sidebar": "Contents",
   "toc_cell": true,
   "toc_position": {},
   "toc_section_display": true,
   "toc_window_display": false
  }
 },
 "nbformat": 4,
 "nbformat_minor": 2
}
