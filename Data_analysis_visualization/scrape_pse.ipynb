{
 "cells": [
  {
   "cell_type": "markdown",
   "metadata": {
    "toc": true
   },
   "source": [
    "<h1>Table of Contents<span class=\"tocSkip\"></span></h1>\n",
    "<div class=\"toc\"><ul class=\"toc-item\"><li><span><a href=\"#Scraping-all-month-data-from-PSE-webpage-into-a-single-year-'csv'-file\" data-toc-modified-id=\"Scraping-all-month-data-from-PSE-webpage-into-a-single-year-'csv'-file-1\"><span class=\"toc-item-num\">1&nbsp;&nbsp;</span>Scraping all month data from PSE webpage into a single year 'csv' file</a></span></li></ul></div>"
   ]
  },
  {
   "cell_type": "markdown",
   "metadata": {},
   "source": [
    "### Scraping all month data from PSE webpage into a single year 'csv' file "
   ]
  },
  {
   "cell_type": "raw",
   "metadata": {},
   "source": [
    "Project steps:\n",
    "1. Define function to work with the calendar and set month periods(from 1st to 28/30/31th of each month) while an every year is a separate dataset.\n",
    "2. Scrape data within calendar's period (no longer than 31 days) to get 'wind generation' numbers.\n",
    "3. Connect datasets for each month into an complete year dataset as a 'csv' file.\n",
    "4. Make above code as a python module. "
   ]
  }
 ],
 "metadata": {
  "kernelspec": {
   "display_name": "Python 3",
   "language": "python",
   "name": "python3"
  },
  "language_info": {
   "codemirror_mode": {
    "name": "ipython",
    "version": 3
   },
   "file_extension": ".py",
   "mimetype": "text/x-python",
   "name": "python",
   "nbconvert_exporter": "python",
   "pygments_lexer": "ipython3",
   "version": "3.6.1"
  },
  "toc": {
   "base_numbering": 1,
   "nav_menu": {},
   "number_sections": true,
   "sideBar": true,
   "skip_h1_title": true,
   "title_cell": "Table of Contents",
   "title_sidebar": "Contents",
   "toc_cell": true,
   "toc_position": {},
   "toc_section_display": true,
   "toc_window_display": false
  }
 },
 "nbformat": 4,
 "nbformat_minor": 2
}
