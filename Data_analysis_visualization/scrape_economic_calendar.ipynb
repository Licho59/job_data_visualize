{
 "cells": [
  {
   "cell_type": "markdown",
   "metadata": {
    "toc": true
   },
   "source": [
    "<h1>Table of Contents<span class=\"tocSkip\"></span></h1>\n",
    "<div class=\"toc\"><ul class=\"toc-item\"></ul></div>"
   ]
  },
  {
   "cell_type": "raw",
   "metadata": {},
   "source": [
    "After Jon Elordi \"Python Web Scraping - Economic Calendar"
   ]
  },
  {
   "cell_type": "code",
   "execution_count": 1,
   "metadata": {},
   "outputs": [],
   "source": [
    "import requests\n",
    "from bs4 import BeautifulSoup\n",
    "import pandas as pd"
   ]
  },
  {
   "cell_type": "code",
   "execution_count": 2,
   "metadata": {},
   "outputs": [],
   "source": [
    "# download of the data from url address and creating BeautifulSoup\n",
    "# object taking only the content of html document\n",
    "url = 'https://www.forexfactory.com/calendar.php?day=today'\n",
    "page = requests.get(url)\n",
    "content = page.content\n",
    "\n",
    "soup = BeautifulSoup(content, 'html.parser')\n",
    "#soup.prettify()"
   ]
  },
  {
   "cell_type": "code",
   "execution_count": 3,
   "metadata": {},
   "outputs": [],
   "source": [
    "# scraping part of the code and locating data into forcal list of dictionaries\n",
    "table = soup.find_all('tr',{'class':'calendar_row'})\n",
    "#print(table)\n",
    "\n",
    "forcal = []\n",
    "for item in table:\n",
    "    dict = {}\n",
    "    dict['Currency'] = item.find_all('td', {'class':'calendar__currency'})[0].text.strip()\n",
    "    dict['Event'] = item.find_all('td', {'class':'calendar__event'})[0].text.strip()\n",
    "    dict['Time_Eastern'] = item.find_all('td',{'class':'calendar__time'})[0].text\n",
    "    impact = item.find_all('td',{'class':'impact'})\n",
    "    \n",
    "    for icon in range(0, len(impact)):\n",
    "        dict['Impact'] = impact[icon].find_all('span')[0]['title'].split(' ', 1)[0]\n",
    "        \n",
    "    dict['Actual'] = item.find_all('td', {'class':'calendar__actual'})[0].text\n",
    "    dict['Forecast'] = item.find_all('td',{'class':'calendar__forecast'})[0].text\n",
    "    dict['Previous'] = item.find_all('td', {'class':'calendar__previous'})[0].text\n",
    "\n",
    "    forcal.append(dict)\n",
    "    "
   ]
  },
  {
   "cell_type": "code",
   "execution_count": 4,
   "metadata": {},
   "outputs": [
    {
     "data": {
      "text/plain": [
       "[{'Actual': '',\n",
       "  'Currency': 'EUR',\n",
       "  'Event': 'German Prelim CPI m/m',\n",
       "  'Forecast': '0.6%',\n",
       "  'Impact': 'Medium',\n",
       "  'Previous': '0.4%',\n",
       "  'Time_Eastern': 'All Day'},\n",
       " {'Actual': '1.3%',\n",
       "  'Currency': 'EUR',\n",
       "  'Event': 'Spanish Flash CPI y/y',\n",
       "  'Forecast': '1.4%',\n",
       "  'Impact': 'Low',\n",
       "  'Previous': '1.1%',\n",
       "  'Time_Eastern': '4:00am'}]"
      ]
     },
     "execution_count": 4,
     "metadata": {},
     "output_type": "execute_result"
    }
   ],
   "source": [
    "# forcal list of dictionaries content\n",
    "forcal[:2]"
   ]
  },
  {
   "cell_type": "code",
   "execution_count": 5,
   "metadata": {},
   "outputs": [],
   "source": [
    "# converting scraped data into pandas DataFrame\n",
    "df = pd.DataFrame(forcal)\n",
    "df = df[['Currency', 'Event', 'Impact', 'Time_Eastern', 'Actual', 'Forecast', 'Previous']]"
   ]
  },
  {
   "cell_type": "code",
   "execution_count": 7,
   "metadata": {},
   "outputs": [],
   "source": [
    "# saving to html format file\n",
    "df.to_html('Results/forexcal.html')"
   ]
  },
  {
   "cell_type": "raw",
   "metadata": {},
   "source": [
    "The end."
   ]
  }
 ],
 "metadata": {
  "kernelspec": {
   "display_name": "Python 3",
   "language": "python",
   "name": "python3"
  },
  "language_info": {
   "codemirror_mode": {
    "name": "ipython",
    "version": 3
   },
   "file_extension": ".py",
   "mimetype": "text/x-python",
   "name": "python",
   "nbconvert_exporter": "python",
   "pygments_lexer": "ipython3",
   "version": "3.6.1"
  },
  "toc": {
   "base_numbering": 1,
   "nav_menu": {},
   "number_sections": true,
   "sideBar": true,
   "skip_h1_title": true,
   "title_cell": "Table of Contents",
   "title_sidebar": "Contents",
   "toc_cell": true,
   "toc_position": {},
   "toc_section_display": true,
   "toc_window_display": false
  }
 },
 "nbformat": 4,
 "nbformat_minor": 2
}
