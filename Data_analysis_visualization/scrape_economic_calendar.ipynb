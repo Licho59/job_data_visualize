{
 "cells": [
  {
   "cell_type": "markdown",
   "metadata": {
    "toc": true
   },
   "source": [
    "<h1>Table of Contents<span class=\"tocSkip\"></span></h1>\n",
    "<div class=\"toc\"><ul class=\"toc-item\"><li><span><a href=\"#The-end.\" data-toc-modified-id=\"The-end.-1\"><span class=\"toc-item-num\">1&nbsp;&nbsp;</span>The end.</a></span></li></ul></div>"
   ]
  },
  {
   "cell_type": "raw",
   "metadata": {},
   "source": [
    "After Jon Elordi \"Python Web Scraping - Economic Calendar"
   ]
  },
  {
   "cell_type": "code",
   "execution_count": 1,
   "metadata": {},
   "outputs": [],
   "source": [
    "import requests\n",
    "from bs4 import BeautifulSoup\n",
    "import pandas as pd"
   ]
  },
  {
   "cell_type": "code",
   "execution_count": 22,
   "metadata": {},
   "outputs": [],
   "source": [
    "# download of the data from url address and creating BeautifulSoup\n",
    "# object taking only the content of html document\n",
    "url = 'https://www.forexfactory.com/calendar.php?day=today'\n",
    "page = requests.get(url)\n",
    "content = page.content\n",
    "\n",
    "soup = BeautifulSoup(content, 'html.parser')\n",
    "#soup.prettify()"
   ]
  },
  {
   "cell_type": "code",
   "execution_count": 26,
   "metadata": {},
   "outputs": [],
   "source": [
    "# scraping part of the code and locating data into forcal list of dictionaries\n",
    "table = soup.find_all('tr',{'class':'calendar_row'})\n",
    "#print(table)\n",
    "\n",
    "forcal = []\n",
    "for item in table:\n",
    "    dict = {}\n",
    "    dict['Currency'] = item.find_all('td', {'class':'calendar__currency'})[0].text.strip()\n",
    "    dict['Event'] = item.find_all('td', {'class':'calendar__event'})[0].text.strip()\n",
    "    dict['Time_Eastern'] = item.find_all('td',{'class':'calendar__time'})[0].text\n",
    "    impact = item.find_all('td',{'class':'impact'})\n",
    "    \n",
    "    for icon in range(0, len(impact)):\n",
    "        dict['Impact'] = impact[icon].find_all('span')[0]['title'].split(' ', 1)[0]\n",
    "        \n",
    "    dict['Actual'] = item.find_all('td', {'class':'calendar__actual'})[0].text\n",
    "    dict['Forecast'] = item.find_all('td',{'class':'calendar__forecast'})[0].text\n",
    "    dict['Previous'] = item.find_all('td', {'class':'calendar__previous'})[0].text\n",
    "\n",
    "    forcal.append(dict)\n",
    "    "
   ]
  },
  {
   "cell_type": "code",
   "execution_count": 33,
   "metadata": {},
   "outputs": [
    {
     "data": {
      "text/plain": [
       "[{'Actual': '-0.2%',\n",
       "  'Currency': 'JPY',\n",
       "  'Event': 'All Industries Activity m/m',\n",
       "  'Forecast': '-0.3%',\n",
       "  'Impact': 'Low',\n",
       "  'Previous': '-0.6%',\n",
       "  'Time_Eastern': '12:30am'},\n",
       " {'Actual': '',\n",
       "  'Currency': 'USD',\n",
       "  'Event': 'FOMC Member Evans Speaks',\n",
       "  'Forecast': '',\n",
       "  'Impact': 'Medium',\n",
       "  'Previous': '',\n",
       "  'Time_Eastern': '2:00am'}]"
      ]
     },
     "execution_count": 33,
     "metadata": {},
     "output_type": "execute_result"
    }
   ],
   "source": [
    "# forcal list of dictionaries content\n",
    "forcal[:2]"
   ]
  },
  {
   "cell_type": "code",
   "execution_count": 31,
   "metadata": {},
   "outputs": [],
   "source": [
    "# converting scraped data into pandas DataFrame\n",
    "df = pd.DataFrame(forcal)\n",
    "df = df[['Currency', 'Event', 'Impact', 'Time_Eastern', 'Actual', 'Forecast', 'Previous']]"
   ]
  },
  {
   "cell_type": "code",
   "execution_count": 32,
   "metadata": {},
   "outputs": [],
   "source": [
    "# saving to html format file\n",
    "df.to_html('forexcal.html')"
   ]
  },
  {
   "cell_type": "raw",
   "metadata": {},
   "source": [
    "The end."
   ]
  }
 ],
 "metadata": {
  "kernelspec": {
   "display_name": "Python 3",
   "language": "python",
   "name": "python3"
  },
  "language_info": {
   "codemirror_mode": {
    "name": "ipython",
    "version": 3
   },
   "file_extension": ".py",
   "mimetype": "text/x-python",
   "name": "python",
   "nbconvert_exporter": "python",
   "pygments_lexer": "ipython3",
   "version": "3.6.1"
  },
  "toc": {
   "base_numbering": 1,
   "nav_menu": {},
   "number_sections": true,
   "sideBar": true,
   "skip_h1_title": true,
   "title_cell": "Table of Contents",
   "title_sidebar": "Contents",
   "toc_cell": true,
   "toc_position": {},
   "toc_section_display": true,
   "toc_window_display": false
  }
 },
 "nbformat": 4,
 "nbformat_minor": 2
}
