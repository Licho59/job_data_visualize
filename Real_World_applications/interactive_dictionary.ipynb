{
 "cells": [
  {
   "cell_type": "markdown",
   "metadata": {},
   "source": [
    "### Building an interactive dictionary"
   ]
  },
  {
   "cell_type": "raw",
   "metadata": {},
   "source": [
    "After Dhrumil Patel's article:\n",
    "url='https://towardsdatascience.com/master-python-through-building-real-world-applications-part-1-b040b2b7faad'\n",
    "In project there will be working with json data and its library 'difflib'"
   ]
  },
  {
   "cell_type": "code",
   "execution_count": 1,
   "metadata": {},
   "outputs": [],
   "source": [
    "import json\n",
    "# data taken from given address and loaded to working folder\n",
    "data = json.load(open('dictionary.json'))"
   ]
  },
  {
   "cell_type": "code",
   "execution_count": 2,
   "metadata": {},
   "outputs": [
    {
     "name": "stdout",
     "output_type": "stream",
     "text": [
      "0.8888888888888888\n"
     ]
    }
   ],
   "source": [
    "# example of preventing typo errors in searched  words - checking similarities\n",
    "from difflib import SequenceMatcher\n",
    "\n",
    "# parameters in SequencMatcher: 1-white spaces, 2,3 - words to find similarities\n",
    "value = SequenceMatcher(None, 'rainn','rain').ratio() # ratio - how close are two words\n",
    "print(value)"
   ]
  },
  {
   "cell_type": "code",
   "execution_count": 4,
   "metadata": {},
   "outputs": [
    {
     "name": "stdout",
     "output_type": "stream",
     "text": [
      "['rainy', 'raingy']\n"
     ]
    }
   ],
   "source": [
    "# preventing typo errors by getting the closest match\n",
    "from difflib import get_close_matches\n",
    "# parameters in get_close_matches: 1- word to find, 2-list of words to match against,\n",
    "# 3-number of matches to get as an output(1,2 or more), 4-similarity number to stop searching\n",
    "\n",
    "output = get_close_matches('rain', ['raingy','help','mate','rainy'], n=2, cutoff=0.75)\n",
    "print(output) # finds the closest word of all in the list"
   ]
  },
  {
   "cell_type": "raw",
   "metadata": {},
   "source": [
    "# basic version of function for retrieving word definition from the dictionary\n",
    "def retrive_definition(word):\n",
    "    word = word.lower()\n",
    "    \n",
    "    if word in data:\n",
    "        return data[word]\n",
    "    elif word.title() in data: # starting with capital letter\n",
    "        return data[word.title()]\n",
    "    elif word.upper() in data:  # all capital letters in word, like acronym\n",
    "        return data[word.upper()]\n",
    "    "
   ]
  },
  {
   "cell_type": "code",
   "execution_count": 5,
   "metadata": {},
   "outputs": [],
   "source": [
    "# function modified\n",
    "from difflib import get_close_matches\n",
    "\n",
    "def retrive_definition(word):\n",
    "    word = word.lower()\n",
    "    \n",
    "    if word in data:\n",
    "        return data[word]\n",
    "    elif word.title() in data:\n",
    "        return data[word.title()]\n",
    "    elif word.upper() in data:\n",
    "        return data[word.upper()]\n",
    "    # finding a similar word\n",
    "    # len > 0 - only printed when the word has 1 or more matches\n",
    "    elif len(get_close_matches(word, data.keys())) > 0:\n",
    "        action = input('Did you mean %s instead? ' % get_close_matches(word, data.keys())[0])\n",
    "        if action == 'y':\n",
    "            return data[get_close_matches(word, data.keys())[0]]\n",
    "        elif (action=='n'):\n",
    "            return (\"The word doesn't exist, yet.\")\n",
    "        else:\n",
    "            return (\"We don't understand your entry. Apologies.\")\n"
   ]
  },
  {
   "cell_type": "code",
   "execution_count": 6,
   "metadata": {},
   "outputs": [
    {
     "name": "stdout",
     "output_type": "stream",
     "text": [
      "Enter a word: coma\n",
      "coma:\n",
      "['A state of unconsciousness from which one may not wake up, usually induced by some form of trauma.', 'A cloud of dust surrounding the nucleus of a comet.', 'An optical aberration in an astronomical telescope which causes a V-shaped flare to the image of a star.']\n"
     ]
    }
   ],
   "source": [
    "# input from user\n",
    "word_user = input('Enter a word: ')\n",
    "# retrive the word definition\n",
    "print(word_user + ':')\n",
    "print(retrive_definition(word_user))"
   ]
  },
  {
   "cell_type": "code",
   "execution_count": 7,
   "metadata": {},
   "outputs": [
    {
     "name": "stdout",
     "output_type": "stream",
     "text": [
      "Enter a word: football\n",
      "- Inflated ball used in the sport of football which has between 62 and 66 cm in diameter.\n",
      "- The ball used when playing football.\n",
      "- The ball used in American football.\n"
     ]
    }
   ],
   "source": [
    "# retriving the word definition using function and printing the result\n",
    "word_user = input('Enter a word: ')\n",
    "output = retrive_definition(word_user)\n",
    "if type(output) == list:\n",
    "    for item in output:\n",
    "        print('-', item)\n",
    "else:\n",
    "    print('-',output)\n",
    "        "
   ]
  },
  {
   "cell_type": "markdown",
   "metadata": {},
   "source": [
    "#### The end of Part I of Master Python through building real-world applications"
   ]
  }
 ],
 "metadata": {
  "kernelspec": {
   "display_name": "Python 3",
   "language": "python",
   "name": "python3"
  },
  "language_info": {
   "codemirror_mode": {
    "name": "ipython",
    "version": 3
   },
   "file_extension": ".py",
   "mimetype": "text/x-python",
   "name": "python",
   "nbconvert_exporter": "python",
   "pygments_lexer": "ipython3",
   "version": "3.6.1"
  }
 },
 "nbformat": 4,
 "nbformat_minor": 2
}
