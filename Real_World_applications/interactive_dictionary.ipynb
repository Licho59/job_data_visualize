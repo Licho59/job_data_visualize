{
 "cells": [
  {
   "cell_type": "markdown",
   "metadata": {
    "toc": true
   },
   "source": [
    "<h1>Table of Contents<span class=\"tocSkip\"></span></h1>\n",
    "<div class=\"toc\"><ul class=\"toc-item\"><li><span><a href=\"#Building-an-interactive-dictionary\" data-toc-modified-id=\"Building-an-interactive-dictionary-1\"><span class=\"toc-item-num\">1&nbsp;&nbsp;</span>Building an interactive dictionary</a></span><ul class=\"toc-item\"><li><span><a href=\"#The-end-of-Part-I-of-Master-Python-through-building-real-world-applications\" data-toc-modified-id=\"The-end-of-Part-I-of-Master-Python-through-building-real-world-applications-1.1\"><span class=\"toc-item-num\">1.1&nbsp;&nbsp;</span>The end of Part I of Master Python through building real-world applications</a></span></li></ul></li></ul></div>"
   ]
  },
  {
   "cell_type": "markdown",
   "metadata": {},
   "source": [
    "### Building an interactive dictionary"
   ]
  },
  {
   "cell_type": "raw",
   "metadata": {},
   "source": [
    "After Dhrumil Patel's article:\n",
    "url='https://towardsdatascience.com/master-python-through-building-real-world-applications-part-1-b040b2b7faad'\n",
    "In project there will be working with json data and its library 'difflib'"
   ]
  },
  {
   "cell_type": "code",
   "execution_count": 1,
   "metadata": {
    "ExecuteTime": {
     "end_time": "2020-03-13T11:01:38.548542Z",
     "start_time": "2020-03-13T11:01:38.456039Z"
    }
   },
   "outputs": [],
   "source": [
    "import json\n",
    "# data taken from given address and loaded to working folder\n",
    "data = json.load(open('input_data/dictionary.json'))"
   ]
  },
  {
   "cell_type": "code",
   "execution_count": 2,
   "metadata": {
    "ExecuteTime": {
     "end_time": "2020-03-13T11:01:38.563543Z",
     "start_time": "2020-03-13T11:01:38.551042Z"
    }
   },
   "outputs": [
    {
     "name": "stdout",
     "output_type": "stream",
     "text": [
      "0.8888888888888888\n"
     ]
    }
   ],
   "source": [
    "# example of preventing typo errors in searched  words - checking similarities\n",
    "from difflib import SequenceMatcher\n",
    "\n",
    "# parameters in SequencMatcher: 1-white spaces, 2,3 - words to find similarities\n",
    "value = SequenceMatcher(None, 'rainn','rain').ratio() # ratio - how close are two words\n",
    "print(value)"
   ]
  },
  {
   "cell_type": "code",
   "execution_count": 3,
   "metadata": {
    "ExecuteTime": {
     "end_time": "2020-03-13T11:01:38.596044Z",
     "start_time": "2020-03-13T11:01:38.566043Z"
    }
   },
   "outputs": [
    {
     "name": "stdout",
     "output_type": "stream",
     "text": [
      "['rainy', 'raingy']\n"
     ]
    }
   ],
   "source": [
    "# preventing typo errors by getting the closest match\n",
    "from difflib import get_close_matches\n",
    "# parameters in get_close_matches: 1- word to find, 2-list of words to match against,\n",
    "# 3-number of matches to get as an output(1,2 or more), 4-similarity number to stop searching\n",
    "\n",
    "output = get_close_matches('rain', ['raingy','help','mate','rainy'], n=2, cutoff=0.75)\n",
    "print(output) # finds the closest word of all in the list"
   ]
  },
  {
   "cell_type": "raw",
   "metadata": {},
   "source": [
    "# basic version of function for retrieving word definition from the dictionary\n",
    "def retrive_definition(word):\n",
    "    word = word.lower()\n",
    "    \n",
    "    if word in data:\n",
    "        return data[word]\n",
    "    elif word.title() in data: # starting with capital letter\n",
    "        return data[word.title()]\n",
    "    elif word.upper() in data:  # all capital letters in word, like acronym\n",
    "        return data[word.upper()]\n",
    "    "
   ]
  },
  {
   "cell_type": "code",
   "execution_count": 4,
   "metadata": {
    "ExecuteTime": {
     "end_time": "2020-03-13T11:01:38.626045Z",
     "start_time": "2020-03-13T11:01:38.598544Z"
    }
   },
   "outputs": [],
   "source": [
    "# function modified\n",
    "from difflib import get_close_matches\n",
    "\n",
    "def retrive_definition(word):\n",
    "    word = word.lower()\n",
    "    \n",
    "    if word in data:\n",
    "        return data[word]\n",
    "    elif word.title() in data:\n",
    "        return data[word.title()]\n",
    "    elif word.upper() in data:\n",
    "        return data[word.upper()]\n",
    "    # finding a similar word\n",
    "    # len > 0 - only printed when the word has 1 or more matches\n",
    "    elif len(get_close_matches(word, data.keys())) > 0:\n",
    "        action = input('Did you mean %s instead? ' % get_close_matches(word, data.keys())[0])\n",
    "        if action == 'y':\n",
    "            return data[get_close_matches(word, data.keys())[0]]\n",
    "        elif (action=='n'):\n",
    "            return (\"The word doesn't exist, yet.\")\n",
    "        else:\n",
    "            return (\"We don't understand your entry. Apologies.\")\n"
   ]
  },
  {
   "cell_type": "code",
   "execution_count": 5,
   "metadata": {
    "ExecuteTime": {
     "end_time": "2020-03-13T11:01:50.681220Z",
     "start_time": "2020-03-13T11:01:38.628546Z"
    }
   },
   "outputs": [
    {
     "name": "stdout",
     "output_type": "stream",
     "text": [
      "Enter a word: black\n",
      "black:\n",
      "[\"A colour (the colour of the sky at night and a blackbird's feathers) that is created by the absorption of all light and reflection of none; dark and colourless.\", 'Of or belonging to a racial group having dark skin especially of sub-Saharan African origin.', 'Marked by anger or resentment or hostility.', 'The total absence of light.', 'A person with dark skin who comes from Africa (or whose ancestors came from Africa).', 'Dark and colourless; not reflecting visible light.']\n"
     ]
    }
   ],
   "source": [
    "# input from user\n",
    "word_user = input('Enter a word: ')\n",
    "# retrive the word definition\n",
    "print(word_user + ':')\n",
    "print(retrive_definition(word_user))"
   ]
  },
  {
   "cell_type": "code",
   "execution_count": 6,
   "metadata": {
    "ExecuteTime": {
     "end_time": "2020-03-13T11:02:02.032442Z",
     "start_time": "2020-03-13T11:01:50.693721Z"
    }
   },
   "outputs": [
    {
     "name": "stdout",
     "output_type": "stream",
     "text": [
      "Enter a word: white\n",
      "- Bright and colourless; reflecting equal quantities of all frequencies of visible light.\n",
      "- A Caucasian person with light-coloured skin; a member of the Caucasoid race.\n",
      "- The colour of light that contains equal amounts of all visible wavelengths.\n",
      "- Of or belonging to a racial group having light skin coloration.\n"
     ]
    }
   ],
   "source": [
    "# retriving the word definition using function and printing the result\n",
    "word_user = input('Enter a word: ')\n",
    "output = retrive_definition(word_user)\n",
    "if type(output) == list:\n",
    "    for item in output:\n",
    "        print('-', item)\n",
    "else:\n",
    "    print('-',output)\n",
    "        "
   ]
  },
  {
   "cell_type": "markdown",
   "metadata": {},
   "source": [
    "#### The end of Part I of Master Python through building real-world applications"
   ]
  }
 ],
 "metadata": {
  "kernelspec": {
   "display_name": "Python 3",
   "language": "python",
   "name": "python3"
  },
  "language_info": {
   "codemirror_mode": {
    "name": "ipython",
    "version": 3
   },
   "file_extension": ".py",
   "mimetype": "text/x-python",
   "name": "python",
   "nbconvert_exporter": "python",
   "pygments_lexer": "ipython3",
   "version": "3.6.1"
  },
  "toc": {
   "base_numbering": 1,
   "nav_menu": {},
   "number_sections": true,
   "sideBar": true,
   "skip_h1_title": true,
   "title_cell": "Table of Contents",
   "title_sidebar": "Contents",
   "toc_cell": true,
   "toc_position": {},
   "toc_section_display": true,
   "toc_window_display": false
  }
 },
 "nbformat": 4,
 "nbformat_minor": 2
}
