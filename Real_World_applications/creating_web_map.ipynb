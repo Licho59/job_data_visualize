{
 "cells": [
  {
   "cell_type": "markdown",
   "metadata": {
    "toc": true
   },
   "source": [
    "<h1>Table of Contents<span class=\"tocSkip\"></span></h1>\n",
    "<div class=\"toc\"><ul class=\"toc-item\"><li><span><a href=\"#Creating-a-web-map-using-geospatial\" data-toc-modified-id=\"Creating-a-web-map-using-geospatial-1\"><span class=\"toc-item-num\">1&nbsp;&nbsp;</span>Creating a web map using geospatial</a></span><ul class=\"toc-item\"><li><span><a href=\"#Step-1:-Creating-a-base-map\" data-toc-modified-id=\"Step-1:-Creating-a-base-map-1.1\"><span class=\"toc-item-num\">1.1&nbsp;&nbsp;</span>Step 1: Creating a base map</a></span></li><li><span><a href=\"#Step-2:-Adding-marker\" data-toc-modified-id=\"Step-2:-Adding-marker-1.2\"><span class=\"toc-item-num\">1.2&nbsp;&nbsp;</span>Step 2: Adding marker</a></span></li><li><span><a href=\"#Step-3:-Adding-multiple-markers\" data-toc-modified-id=\"Step-3:-Adding-multiple-markers-1.3\"><span class=\"toc-item-num\">1.3&nbsp;&nbsp;</span>Step 3: Adding multiple markers</a></span></li><li><span><a href=\"#Step-4:-Adding-markers-from-data\" data-toc-modified-id=\"Step-4:-Adding-markers-from-data-1.4\"><span class=\"toc-item-num\">1.4&nbsp;&nbsp;</span>Step 4: Adding markers from data</a></span></li><li><span><a href=\"#Step-5:-Adding-different-colors-to-markers\" data-toc-modified-id=\"Step-5:-Adding-different-colors-to-markers-1.5\"><span class=\"toc-item-num\">1.5&nbsp;&nbsp;</span>Step 5: Adding different colors to markers</a></span></li><li><span><a href=\"#Step-6:-Changing-markers-icons-and-adding-LayerControl\" data-toc-modified-id=\"Step-6:-Changing-markers-icons-and-adding-LayerControl-1.6\"><span class=\"toc-item-num\">1.6&nbsp;&nbsp;</span>Step 6: Changing markers icons and adding LayerControl</a></span></li><li><span><a href=\"#Step-7:-Clustering-all-markers\" data-toc-modified-id=\"Step-7:-Clustering-all-markers-1.7\"><span class=\"toc-item-num\">1.7&nbsp;&nbsp;</span>Step 7: Clustering all markers</a></span></li><li><span><a href=\"#Step-8:-One-step-forward---a-choropleth-map-with-unemployment-rate\" data-toc-modified-id=\"Step-8:-One-step-forward---a-choropleth-map-with-unemployment-rate-1.8\"><span class=\"toc-item-num\">1.8&nbsp;&nbsp;</span>Step 8: One step forward - a choropleth map with unemployment rate</a></span></li><li><span><a href=\"#The-end-of-Part-II\" data-toc-modified-id=\"The-end-of-Part-II-1.9\"><span class=\"toc-item-num\">1.9&nbsp;&nbsp;</span>The end of Part II</a></span></li></ul></li></ul></div>"
   ]
  },
  {
   "cell_type": "markdown",
   "metadata": {},
   "source": [
    "### Creating a web map using geospatial"
   ]
  },
  {
   "cell_type": "raw",
   "metadata": {},
   "source": [
    "Part II of series \"Master Python through building real-world applications\"\n",
    "To create multi-purpose web maps there will be used Folium library"
   ]
  },
  {
   "cell_type": "raw",
   "metadata": {},
   "source": [
    "Folium is a  Data Visualization library to visualize geospatial data or data that involves coordinates and locations."
   ]
  },
  {
   "cell_type": "code",
   "execution_count": 10,
   "metadata": {
    "ExecuteTime": {
     "end_time": "2020-03-13T11:09:13.453014Z",
     "start_time": "2020-03-13T11:09:13.443014Z"
    }
   },
   "outputs": [],
   "source": [
    "from IPython.core.interactiveshell import InteractiveShell"
   ]
  },
  {
   "cell_type": "raw",
   "metadata": {},
   "source": [
    "Each step in the project is taken as separate in purpose to better visualize the process of building the really fine map. In consequence there will be a few html files with maps in working directory. \n",
    "                        “Start from the basics and don’t use a lot where a little will do.”"
   ]
  },
  {
   "cell_type": "markdown",
   "metadata": {},
   "source": [
    "#### Step 1: Creating a base map"
   ]
  },
  {
   "cell_type": "code",
   "execution_count": 11,
   "metadata": {
    "ExecuteTime": {
     "end_time": "2020-03-13T11:09:21.069321Z",
     "start_time": "2020-03-13T11:09:20.999320Z"
    }
   },
   "outputs": [
    {
     "name": "stdout",
     "output_type": "stream",
     "text": [
      "0.7.0\n"
     ]
    }
   ],
   "source": [
    "import folium\n",
    "print(folium.__version__)\n",
    "\n",
    "map = folium.Map(location=[51.803961, 16.304582], zoom_start=16) #Wschowa\n",
    "map.save('..\\\\Real_World_applications\\\\output_data\\\\map_wschowa.html') # saving the map in working folder"
   ]
  },
  {
   "cell_type": "markdown",
   "metadata": {},
   "source": [
    "#### Step 2: Adding marker"
   ]
  },
  {
   "cell_type": "code",
   "execution_count": 12,
   "metadata": {
    "ExecuteTime": {
     "end_time": "2020-03-13T11:09:27.087018Z",
     "start_time": "2020-03-13T11:09:26.989008Z"
    }
   },
   "outputs": [],
   "source": [
    "# adding marker to the map of Belchatow (additionaly tiles layers used to show diffent kinds of map)\n",
    "map_1 = folium.Map(location=[51.363406, 19.366805], zoom_start=8, tiles='Mapbox bright')\n",
    "folium.TileLayer('stamenwatercolor').add_to(map_1)\n",
    "folium.TileLayer('OpenStreetMap').add_to(map_1)\n",
    "folium.TileLayer('Mapbox Bright').add_to(map_1)\n",
    "folium.TileLayer('stamentoner').add_to(map_1)\n",
    "folium.TileLayer('cartodbpositron').add_to(map_1)\n",
    "folium.LayerControl().add_to(map_1)\n",
    "folium.Marker(location=[51.373717, 19.361421], popup = 'Home',\n",
    "              icon=folium.Icon(color='gray')).add_to(map_1)\n",
    "map_1.save('..\\\\Real_World_applications\\\\output_data\\\\map_belchatow.html');"
   ]
  },
  {
   "cell_type": "raw",
   "metadata": {},
   "source": [
    "Some problem with map rendering in Internet Explorer when Marker's parameter 'popup' has string value, so map has to be opened in other web browser (Chrome, etc) "
   ]
  },
  {
   "cell_type": "markdown",
   "metadata": {},
   "source": [
    "#### Step 3: Adding multiple markers"
   ]
  },
  {
   "cell_type": "code",
   "execution_count": 13,
   "metadata": {
    "ExecuteTime": {
     "end_time": "2020-03-13T11:09:31.670181Z",
     "start_time": "2020-03-13T11:09:31.570180Z"
    }
   },
   "outputs": [],
   "source": [
    "# adding multiple markers but not large number\n",
    "from IPython.display import HTML, display\n",
    "\n",
    "my_map = folium.Map(location=[51.373715, 19.361612], zoom_start=8, tiles='OpenStreetMap')\n",
    "coordinate_list = [[51.373715,19.361612],[52.251150,20.999029],\n",
    "                  [51.155389,16.929876],[51.809204,16.315827]]\n",
    "for coordinates in coordinate_list:\n",
    "    folium.Marker(location=coordinates,\n",
    "                  icon=folium.Icon(color='green')).add_to(my_map)\n",
    "    my_map.save('..\\\\Real_World_applications\\\\output_data\\\\belchatow.html')\n",
    "my_map;"
   ]
  },
  {
   "cell_type": "markdown",
   "metadata": {},
   "source": [
    "#### Step 4: Adding markers from data"
   ]
  },
  {
   "cell_type": "code",
   "execution_count": 14,
   "metadata": {
    "ExecuteTime": {
     "end_time": "2020-03-13T11:09:35.396300Z",
     "start_time": "2020-03-13T11:09:35.163277Z"
    }
   },
   "outputs": [
    {
     "name": "stdout",
     "output_type": "stream",
     "text": [
      "Number of volcanoes in USA: 62\n"
     ]
    }
   ],
   "source": [
    "# adding plenty of markers from data earlier downloaded from author\n",
    "import folium\n",
    "import pandas as pd\n",
    "\n",
    "data = pd.read_csv('input_data\\\\Volcanoes_USA.txt')\n",
    "lat = data['LAT']\n",
    "lon = data['LON']\n",
    "elevation = data['ELEV']\n",
    "data.head()\n",
    "print('Number of volcanoes in USA:', data.shape[0])\n",
    "\n",
    "# creating base map is done with some coordinates of the area\n",
    "new_map = folium.Map(location=[37.296933,-121.9574983], zoom_start=5, tiles='Mapbox bright')\n",
    "# plotting markers\n",
    "for lat, lon, elevation in zip(lat, lon, elevation):\n",
    "    folium.Marker(location=[lat, lon], popup=str(elevation)+' m',\n",
    "                 icon=folium.Icon(color='gray')).add_to(new_map)\n",
    "\n",
    "new_map.save('..\\\\Real_World_applications\\\\output_data\\\\volcano_map.html');    \n"
   ]
  },
  {
   "cell_type": "markdown",
   "metadata": {},
   "source": [
    "#### Step 5: Adding different colors to markers "
   ]
  },
  {
   "cell_type": "code",
   "execution_count": 15,
   "metadata": {
    "ExecuteTime": {
     "end_time": "2020-03-13T11:09:39.071977Z",
     "start_time": "2020-03-13T11:09:38.821975Z"
    }
   },
   "outputs": [],
   "source": [
    "# using colors to group volcanoes by elevation ranges\n",
    "# function to change colors\n",
    "def color_change(elev):\n",
    "    if elev < 1000:\n",
    "        return 'green'\n",
    "    elif (1000 <= elev < 3000):\n",
    "        return 'orange'\n",
    "    else:\n",
    "        return 'red'\n",
    "color_markers_map = folium.Map(location=[37.296933, -121.9574983],\n",
    "                               zoom_start=5, tiles='Mapbox bright')\n",
    "data = pd.read_csv('input_data\\\\Volcanoes_USA.txt')\n",
    "lat = data.LAT\n",
    "lon = data.LON\n",
    "elevation = data.ELEV\n",
    "# plotting markers\n",
    "for lat, lon, elevation in zip(lat, lon, elevation):\n",
    "    folium.Marker(location=[lat,lon], popup=str(elevation)+' m',\n",
    "                  icon=folium.Icon(color=color_change(elevation))).add_to(color_markers_map)\n",
    "color_markers_map.save('output_data\\\\c_vol_map.html');    "
   ]
  },
  {
   "cell_type": "markdown",
   "metadata": {},
   "source": [
    "#### Step 6: Changing markers icons and adding LayerControl"
   ]
  },
  {
   "cell_type": "code",
   "execution_count": 16,
   "metadata": {
    "ExecuteTime": {
     "end_time": "2020-03-13T11:09:42.854630Z",
     "start_time": "2020-03-13T11:09:42.583603Z"
    }
   },
   "outputs": [],
   "source": [
    "# importing libraries\n",
    "from folium.plugins import MarkerCluster\n",
    "import pandas as pd\n",
    "\n",
    "data = pd.read_csv('input_data\\\\Volcanoes_USA.txt')\n",
    "lat= data.LAT\n",
    "lon = data.LON\n",
    "elevation = data.ELEV\n",
    "\n",
    "# function to change colors\n",
    "def color_change(elev):\n",
    "    if elev < 1000:\n",
    "        return 'green'\n",
    "    elif 1000 <= elev < 3000:\n",
    "        return 'orange'\n",
    "    else:\n",
    "        return 'red'\n",
    "    \n",
    "# creating base map\n",
    "map_2 = folium.Map(location=[37.296933, -121.9574983], zoom_start=5,\n",
    "                  tiles='Mapbox bright')\n",
    "\n",
    "folium.TileLayer('CartoDB dark_matter').add_to(map_2)\n",
    "folium.LayerControl().add_to(map_2)\n",
    "# plotting markers with new method\n",
    "for lat, lon, elevation in zip(lat, lon, elevation):\n",
    "    folium.CircleMarker(location=[lat, lon], radius=9,\n",
    "    popup=str(elevation)+' m', fill_color=color_change(elevation), \n",
    "                        color='gray', fill_opacity=0.9).add_to(map_2)\n",
    "# saving map\n",
    "map_2.save('..\\\\Real_World_applications\\\\output_data\\\\map_2.html');    \n",
    "    "
   ]
  },
  {
   "cell_type": "markdown",
   "metadata": {},
   "source": [
    "#### Step 7: Clustering all markers"
   ]
  },
  {
   "cell_type": "code",
   "execution_count": 17,
   "metadata": {
    "ExecuteTime": {
     "end_time": "2020-03-13T11:09:47.638231Z",
     "start_time": "2020-03-13T11:09:47.418229Z"
    }
   },
   "outputs": [],
   "source": [
    "# to improve visualization while there are thousands of markers\n",
    "# clustering markers is helpful - grouping icons according to map scale\n",
    "# markers will be added to cluster via .add_to method - not to map\n",
    "import folium\n",
    "from folium.plugins import MarkerCluster\n",
    "import pandas as pd\n",
    "\n",
    "data = pd.read_csv('input_data\\\\Volcanoes_USA.txt')\n",
    "lat = data.LAT\n",
    "lon = data.LON\n",
    "elevation = data['ELEV']\n",
    "\n",
    "def color_change(elev):\n",
    "    if elev < 1000:\n",
    "        return 'green'\n",
    "    elif 1000 <= elev < 3000:\n",
    "        return 'orange'\n",
    "    else:\n",
    "        return 'red'\n",
    "\n",
    "map_3 = folium.Map(location=[37.296933,-121.9574983], zoom_start=5,\n",
    "                  tiles='CartoDB dark_matter')\n",
    "# creating Cluster\n",
    "marker_cluster = MarkerCluster().add_to(map_3)\n",
    "\n",
    "# plotting markers and adding to 'marker_cluster'\n",
    "for lat, lon, elevation in zip(lat, lon, elevation):\n",
    "    folium.CircleMarker(location=[lat,lon], radius=9, popup=str(elevation)+' m',\n",
    "                       fill_color=color_change(elevation), color='gray',\n",
    "                       fill_opacity=0.9).add_to(marker_cluster)\n",
    "# saving map\n",
    "map_3.save('output_data\\\\map_3.html');"
   ]
  },
  {
   "cell_type": "markdown",
   "metadata": {},
   "source": [
    "#### Step 8: One step forward - a choropleth map with unemployment rate"
   ]
  },
  {
   "cell_type": "raw",
   "metadata": {},
   "source": [
    "Other kind of map, showing regions/states with use of another way of showing numbers/statistics.\n",
    "Files with data and map downloaded due to author's info"
   ]
  },
  {
   "cell_type": "code",
   "execution_count": 18,
   "metadata": {
    "ExecuteTime": {
     "end_time": "2020-03-13T11:09:53.451829Z",
     "start_time": "2020-03-13T11:09:53.311828Z"
    }
   },
   "outputs": [],
   "source": [
    "import folium, os\n",
    "import pandas as pd\n",
    "\n",
    "# joining the folder path with file name - to make localization of the 'us-states' data\n",
    "state_geo = os.path.join('../Real_World_applications/input_data/', 'us-states.json')\n",
    "# making access to 'us-unemployed.csv' data file and saving it as DataFrame\n",
    "state_unemployment = os.path.join('../Real_World_applications/input_data/', 'us-unemployment.csv')\n",
    "state_data = pd.read_csv(state_unemployment)\n",
    "\n",
    "# initializing basic map\n",
    "map = folium.Map(location=[37, -102], zoom_start=5)\n",
    "\n",
    "# adding the data and color for the Choropleth object\n",
    "folium.Choropleth(geo_data=state_geo,\n",
    "               name='choropleth',\n",
    "              data=state_data,\n",
    "              columns=['State', 'Unemployment'],\n",
    "              key_on='feature.id',\n",
    "              fill_color='YlGn',\n",
    "              fill_opacity=0.7,\n",
    "              line_opacity=0.2,\n",
    "              legend_name='Unemployment Rate (%)').add_to(map)\n",
    "map.save('output_data\\\\folium_choropleth_USA.html');"
   ]
  },
  {
   "cell_type": "markdown",
   "metadata": {},
   "source": [
    "#### The end of Part II"
   ]
  }
 ],
 "metadata": {
  "kernelspec": {
   "display_name": "Python 3",
   "language": "python",
   "name": "python3"
  },
  "language_info": {
   "codemirror_mode": {
    "name": "ipython",
    "version": 3
   },
   "file_extension": ".py",
   "mimetype": "text/x-python",
   "name": "python",
   "nbconvert_exporter": "python",
   "pygments_lexer": "ipython3",
   "version": "3.6.1"
  },
  "toc": {
   "base_numbering": 1,
   "nav_menu": {},
   "number_sections": true,
   "sideBar": true,
   "skip_h1_title": true,
   "title_cell": "Table of Contents",
   "title_sidebar": "Contents",
   "toc_cell": true,
   "toc_position": {},
   "toc_section_display": true,
   "toc_window_display": false
  }
 },
 "nbformat": 4,
 "nbformat_minor": 2
}
