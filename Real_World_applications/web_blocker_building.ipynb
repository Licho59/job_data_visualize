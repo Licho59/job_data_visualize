{
 "cells": [
  {
   "cell_type": "markdown",
   "metadata": {},
   "source": [
    "### Building a website blocker"
   ]
  },
  {
   "cell_type": "raw",
   "metadata": {},
   "source": [
    "Part III of series \"Master Python through building real-world applications\"\n",
    "The aim of application is blocking some websites during working hours and openint their contents after those hours."
   ]
  },
  {
   "cell_type": "raw",
   "metadata": {},
   "source": [
    "The key question to keep asking is, Are you spending your time on the right things? Because time is all you have. And you may find one day that you have less than you think.\n",
    "– Randy Pausch"
   ]
  },
  {
   "cell_type": "markdown",
   "metadata": {},
   "source": [
    "#### Creating an environment"
   ]
  },
  {
   "cell_type": "code",
   "execution_count": 1,
   "metadata": {},
   "outputs": [],
   "source": [
    "# path to the host file\n",
    "#host_path = \"/etc/hosts\"\n",
    "# using a copy of 'hosts' file located working directory\n",
    "host_path = './hosts'\n",
    "# redirect to the local host\n",
    "redirect = \"127.0.0.1\"\n",
    "\n",
    "# websites to block\n",
    "website_list = ['www.netflix.com', 'www.facebook.com']"
   ]
  },
  {
   "cell_type": "code",
   "execution_count": 7,
   "metadata": {},
   "outputs": [
    {
     "name": "stdout",
     "output_type": "stream",
     "text": [
      "Rihanna\n"
     ]
    },
    {
     "data": {
      "text/plain": [
       "11"
      ]
     },
     "execution_count": 7,
     "metadata": {},
     "output_type": "execute_result"
    },
    {
     "data": {
      "text/plain": [
       "11"
      ]
     },
     "execution_count": 7,
     "metadata": {},
     "output_type": "execute_result"
    },
    {
     "name": "stdout",
     "output_type": "stream",
     "text": [
      "Rihanna\n"
     ]
    },
    {
     "data": {
      "text/plain": [
       "11"
      ]
     },
     "execution_count": 7,
     "metadata": {},
     "output_type": "execute_result"
    },
    {
     "data": {
      "text/plain": [
       "11"
      ]
     },
     "execution_count": 7,
     "metadata": {},
     "output_type": "execute_result"
    },
    {
     "ename": "KeyboardInterrupt",
     "evalue": "",
     "output_type": "error",
     "traceback": [
      "\u001b[1;31m---------------------------------------------------------------------------\u001b[0m",
      "\u001b[1;31mKeyboardInterrupt\u001b[0m                         Traceback (most recent call last)",
      "\u001b[1;32m<ipython-input-7-8f2a4a5fd65a>\u001b[0m in \u001b[0;36m<module>\u001b[1;34m()\u001b[0m\n\u001b[0;32m     31\u001b[0m                 \u001b[0mfile\u001b[0m\u001b[1;33m.\u001b[0m\u001b[0mwrite\u001b[0m\u001b[1;33m(\u001b[0m\u001b[0mline\u001b[0m\u001b[1;33m)\u001b[0m\u001b[1;33m\u001b[0m\u001b[0m\n\u001b[0;32m     32\u001b[0m             \u001b[0mfile\u001b[0m\u001b[1;33m.\u001b[0m\u001b[0mtruncate\u001b[0m\u001b[1;33m(\u001b[0m\u001b[1;33m)\u001b[0m\u001b[1;33m\u001b[0m\u001b[0m\n\u001b[1;32m---> 33\u001b[1;33m     \u001b[0mtime\u001b[0m\u001b[1;33m.\u001b[0m\u001b[0msleep\u001b[0m\u001b[1;33m(\u001b[0m\u001b[1;36m5\u001b[0m\u001b[1;33m)\u001b[0m\u001b[1;33m\u001b[0m\u001b[0m\n\u001b[0m",
      "\u001b[1;31mKeyboardInterrupt\u001b[0m: "
     ]
    }
   ],
   "source": [
    "# determining blocking hours\n",
    "import time\n",
    "from datetime import datetime as dt\n",
    "\n",
    "# condition\n",
    "while True:\n",
    "    # checking for the current time\n",
    "    if dt(dt.now().year, dt.now().month, dt.now().day, 8\n",
    "         ) < dt.now() < dt(dt.now().year,dt.now().month,dt.now().day,16):\n",
    "        print('Rihanna')\n",
    "        # opening file and reading the content\n",
    "        file = open(host_path, 'r+')\n",
    "        content = file.read()\n",
    "        for website in website_list:\n",
    "            if website in content:\n",
    "                pass\n",
    "            else:\n",
    "                # writing the IP of a localhost and name\n",
    "                # of the website to block\n",
    "                file.write(redirect + ' ' + '\\n')\n",
    "    else:\n",
    "        print('Drake')\n",
    "        # opening hosts file and reading content from it - line by line\n",
    "        file = open(host_path, 'r+')\n",
    "        content = file.readlines()\n",
    "        # taking back pointer to the starting of the fileg from the end of file\n",
    "        file.seek(0)\n",
    "        for line in content:\n",
    "            if not any(website in line for website in website_list):\n",
    "                file.write(line)\n",
    "            file.truncate()\n",
    "    time.sleep(5)"
   ]
  },
  {
   "cell_type": "raw",
   "metadata": {},
   "source": [
    "It should be finished by:\n",
    "opening cron table with sudo permission (sudo crontab -e) and adding the path of main file followed by a command --@reboot. It will start scheduler responsible for everyday running that application\n",
    "Because of some restraints I don't want to use it now(start running program)."
   ]
  },
  {
   "cell_type": "markdown",
   "metadata": {},
   "source": [
    "#### The end "
   ]
  }
 ],
 "metadata": {
  "kernelspec": {
   "display_name": "Python 3",
   "language": "python",
   "name": "python3"
  },
  "language_info": {
   "codemirror_mode": {
    "name": "ipython",
    "version": 3
   },
   "file_extension": ".py",
   "mimetype": "text/x-python",
   "name": "python",
   "nbconvert_exporter": "python",
   "pygments_lexer": "ipython3",
   "version": "3.6.1"
  }
 },
 "nbformat": 4,
 "nbformat_minor": 2
}
