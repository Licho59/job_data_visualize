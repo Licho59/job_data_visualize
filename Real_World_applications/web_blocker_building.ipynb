{
 "cells": [
  {
   "cell_type": "markdown",
   "metadata": {
    "toc": true
   },
   "source": [
    "<h1>Table of Contents<span class=\"tocSkip\"></span></h1>\n",
    "<div class=\"toc\"><ul class=\"toc-item\"><li><span><a href=\"#Building-a-website-blocker\" data-toc-modified-id=\"Building-a-website-blocker-1\"><span class=\"toc-item-num\">1&nbsp;&nbsp;</span>Building a website blocker</a></span><ul class=\"toc-item\"><li><span><a href=\"#Creating-an-environment\" data-toc-modified-id=\"Creating-an-environment-1.1\"><span class=\"toc-item-num\">1.1&nbsp;&nbsp;</span>Creating an environment</a></span></li><li><span><a href=\"#The-end\" data-toc-modified-id=\"The-end-1.2\"><span class=\"toc-item-num\">1.2&nbsp;&nbsp;</span>The end</a></span></li></ul></li></ul></div>"
   ]
  },
  {
   "cell_type": "markdown",
   "metadata": {},
   "source": [
    "### Building a website blocker"
   ]
  },
  {
   "cell_type": "raw",
   "metadata": {},
   "source": [
    "Part III of series \"Master Python through building real-world applications\"\n",
    "The aim of application is blocking some websites during working hours and openint their contents after those hours."
   ]
  },
  {
   "cell_type": "raw",
   "metadata": {},
   "source": [
    "The key question to keep asking is, Are you spending your time on the right things? Because time is all you have. And you may find one day that you have less than you think.\n",
    "– Randy Pausch"
   ]
  },
  {
   "cell_type": "markdown",
   "metadata": {},
   "source": [
    "#### Creating an environment"
   ]
  },
  {
   "cell_type": "code",
   "execution_count": null,
   "metadata": {
    "ExecuteTime": {
     "end_time": "2020-03-13T11:04:23.572106Z",
     "start_time": "2020-03-13T11:04:23.567106Z"
    }
   },
   "outputs": [],
   "source": [
    "# path to the host file\n",
    "#host_path = \"/etc/hosts\"\n",
    "# using a copy of 'hosts' file located working directory\n",
    "host_path = 'input_data/hosts'\n",
    "# redirect to the local host\n",
    "redirect = \"127.0.0.1\"\n",
    "\n",
    "# websites to block\n",
    "website_list = ['www.netflix.com', 'www.facebook.com']"
   ]
  },
  {
   "cell_type": "code",
   "execution_count": null,
   "metadata": {
    "ExecuteTime": {
     "end_time": "2020-03-13T11:05:19.497873Z",
     "start_time": "2020-03-13T11:04:23.587107Z"
    }
   },
   "outputs": [],
   "source": [
    "# determining blocking hours\n",
    "import time\n",
    "from datetime import datetime as dt\n",
    "\n",
    "# condition\n",
    "while True:\n",
    "    # checking for the current time\n",
    "    if dt(dt.now().year, dt.now().month, dt.now().day, 8\n",
    "         ) < dt.now() < dt(dt.now().year,dt.now().month,dt.now().day,16):\n",
    "        print('Rihanna')\n",
    "        # opening file and reading the content\n",
    "        file = open(host_path, 'r+')\n",
    "        content = file.read()\n",
    "        for website in website_list:\n",
    "            if website in content:\n",
    "                pass\n",
    "            else:\n",
    "                # writing the IP of a localhost and name\n",
    "                # of the website to block\n",
    "                file.write(redirect + ' ' + '\\n')\n",
    "    else:\n",
    "        print('Drake')\n",
    "        # opening hosts file and reading content from it - line by line\n",
    "        file = open(host_path, 'r+')\n",
    "        content = file.readlines()\n",
    "        # taking back pointer to the starting of the fileg from the end of file\n",
    "        file.seek(0)\n",
    "        for line in content:\n",
    "            if not any(website in line for website in website_list):\n",
    "                file.write(line)\n",
    "            file.truncate()\n",
    "    time.sleep(5)"
   ]
  },
  {
   "cell_type": "raw",
   "metadata": {},
   "source": [
    "It should be finished by:\n",
    "opening cron table with sudo permission (sudo crontab -e) and adding the path of main file followed by a command --@reboot. It will start scheduler responsible for everyday running that application\n",
    "Because of some restraints I don't want to use it now(start running program)."
   ]
  },
  {
   "cell_type": "markdown",
   "metadata": {},
   "source": [
    "#### The end "
   ]
  }
 ],
 "metadata": {
  "kernelspec": {
   "display_name": "Python 3",
   "language": "python",
   "name": "python3"
  },
  "language_info": {
   "codemirror_mode": {
    "name": "ipython",
    "version": 3
   },
   "file_extension": ".py",
   "mimetype": "text/x-python",
   "name": "python",
   "nbconvert_exporter": "python",
   "pygments_lexer": "ipython3",
   "version": "3.6.1"
  },
  "toc": {
   "base_numbering": 1,
   "nav_menu": {},
   "number_sections": true,
   "sideBar": true,
   "skip_h1_title": true,
   "title_cell": "Table of Contents",
   "title_sidebar": "Contents",
   "toc_cell": true,
   "toc_position": {},
   "toc_section_display": true,
   "toc_window_display": false
  }
 },
 "nbformat": 4,
 "nbformat_minor": 2
}
